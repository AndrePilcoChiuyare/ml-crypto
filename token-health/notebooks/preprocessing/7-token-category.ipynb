{
 "cells": [
  {
   "cell_type": "markdown",
   "metadata": {},
   "source": [
    "**Libraries**"
   ]
  },
  {
   "cell_type": "code",
   "execution_count": 17,
   "metadata": {},
   "outputs": [],
   "source": [
    "import json\n",
    "import pandas as pd"
   ]
  },
  {
   "cell_type": "markdown",
   "metadata": {},
   "source": [
    "**Loading crypto_final.csv and tokens-tvl-full.json files**"
   ]
  },
  {
   "cell_type": "code",
   "execution_count": 18,
   "metadata": {},
   "outputs": [],
   "source": [
    "with open('../../data/json/tokens-tvl-full.json', 'r') as f:\n",
    "    crypto_data = json.load(f)\n",
    "\n",
    "\n",
    "csv_data = pd.read_csv('../../../logical-model/data/csv/crypto_final.csv')"
   ]
  },
  {
   "cell_type": "markdown",
   "metadata": {},
   "source": [
    "**Creating a dictionary to map coin IDs to their categories from the CSV**"
   ]
  },
  {
   "cell_type": "code",
   "execution_count": 19,
   "metadata": {},
   "outputs": [],
   "source": [
    "category_map = dict(zip(csv_data['id'].astype(str).str.strip(), csv_data['category']))\n",
    "\n",
    "tokens_full_category = {\"data\": {}}"
   ]
  },
  {
   "cell_type": "markdown",
   "metadata": {},
   "source": [
    "**Iterating and replacing categories**"
   ]
  },
  {
   "cell_type": "code",
   "execution_count": 20,
   "metadata": {},
   "outputs": [],
   "source": [
    "for coin_info in crypto_data['data'].values():\n",
    "    coin_id = str(coin_info['id'])  # Ensure the ID is a string\n",
    "    \n",
    "    if coin_id in category_map:\n",
    "        coin_info['category'] = category_map[coin_id]  # Replace with the category from the CSV\n",
    "    else:\n",
    "        coin_info['category'] = 4  # Change to 4 if not in the CSV\n",
    "    \n",
    "    # Add the modified coin to the new JSON\n",
    "    tokens_full_category[\"data\"][coin_id] = coin_info\n",
    "\n",
    "with open('../../data/json/tokens-full-category.json', 'w') as f:\n",
    "    json.dump(tokens_full_category, f, indent=4)\n"
   ]
  }
 ],
 "metadata": {
  "kernelspec": {
   "display_name": "Python 3",
   "language": "python",
   "name": "python3"
  },
  "language_info": {
   "codemirror_mode": {
    "name": "ipython",
    "version": 3
   },
   "file_extension": ".py",
   "mimetype": "text/x-python",
   "name": "python",
   "nbconvert_exporter": "python",
   "pygments_lexer": "ipython3",
   "version": "3.12.3"
  }
 },
 "nbformat": 4,
 "nbformat_minor": 2
}
