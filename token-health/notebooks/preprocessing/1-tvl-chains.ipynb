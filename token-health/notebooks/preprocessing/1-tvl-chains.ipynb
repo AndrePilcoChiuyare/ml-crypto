{
 "cells": [
  {
   "cell_type": "markdown",
   "metadata": {},
   "source": [
    "# Preprocessing TVL chains"
   ]
  },
  {
   "cell_type": "markdown",
   "metadata": {},
   "source": [
    "## Libraries"
   ]
  },
  {
   "cell_type": "code",
   "execution_count": 19,
   "metadata": {},
   "outputs": [],
   "source": [
    "import pandas as pd\n",
    "import numpy as np\n",
    "import json"
   ]
  },
  {
   "cell_type": "code",
   "execution_count": 20,
   "metadata": {},
   "outputs": [],
   "source": [
    "# Function to load JSON\n",
    "def loadJSON(filepath):\n",
    "    with open(filepath) as file:\n",
    "        return json.load(file)"
   ]
  },
  {
   "cell_type": "code",
   "execution_count": 21,
   "metadata": {},
   "outputs": [
    {
     "name": "stdout",
     "output_type": "stream",
     "text": [
      "(305, 6)\n"
     ]
    },
    {
     "data": {
      "text/html": [
       "<div>\n",
       "<style scoped>\n",
       "    .dataframe tbody tr th:only-of-type {\n",
       "        vertical-align: middle;\n",
       "    }\n",
       "\n",
       "    .dataframe tbody tr th {\n",
       "        vertical-align: top;\n",
       "    }\n",
       "\n",
       "    .dataframe thead th {\n",
       "        text-align: right;\n",
       "    }\n",
       "</style>\n",
       "<table border=\"1\" class=\"dataframe\">\n",
       "  <thead>\n",
       "    <tr style=\"text-align: right;\">\n",
       "      <th></th>\n",
       "      <th>gecko_id</th>\n",
       "      <th>tvl</th>\n",
       "      <th>tokenSymbol</th>\n",
       "      <th>cmcId</th>\n",
       "      <th>name</th>\n",
       "      <th>chainId</th>\n",
       "    </tr>\n",
       "  </thead>\n",
       "  <tbody>\n",
       "    <tr>\n",
       "      <th>0</th>\n",
       "      <td>harmony</td>\n",
       "      <td>1.895183e+06</td>\n",
       "      <td>ONE</td>\n",
       "      <td>3945</td>\n",
       "      <td>Harmony</td>\n",
       "      <td>1666600000</td>\n",
       "    </tr>\n",
       "    <tr>\n",
       "      <th>1</th>\n",
       "      <td>mantle</td>\n",
       "      <td>4.613355e+08</td>\n",
       "      <td>MNT</td>\n",
       "      <td>27075</td>\n",
       "      <td>Mantle</td>\n",
       "      <td>5000</td>\n",
       "    </tr>\n",
       "    <tr>\n",
       "      <th>2</th>\n",
       "      <td>x-layer</td>\n",
       "      <td>9.910153e+06</td>\n",
       "      <td>None</td>\n",
       "      <td>None</td>\n",
       "      <td>X Layer</td>\n",
       "      <td>None</td>\n",
       "    </tr>\n",
       "    <tr>\n",
       "      <th>3</th>\n",
       "      <td>fraxtal</td>\n",
       "      <td>3.288453e+07</td>\n",
       "      <td>FXTL</td>\n",
       "      <td>None</td>\n",
       "      <td>Fraxtal</td>\n",
       "      <td>252</td>\n",
       "    </tr>\n",
       "    <tr>\n",
       "      <th>4</th>\n",
       "      <td>aurora-near</td>\n",
       "      <td>1.671190e+07</td>\n",
       "      <td>AURORA</td>\n",
       "      <td>14803</td>\n",
       "      <td>Aurora</td>\n",
       "      <td>1313161554</td>\n",
       "    </tr>\n",
       "  </tbody>\n",
       "</table>\n",
       "</div>"
      ],
      "text/plain": [
       "      gecko_id           tvl tokenSymbol  cmcId     name     chainId\n",
       "0      harmony  1.895183e+06         ONE   3945  Harmony  1666600000\n",
       "1       mantle  4.613355e+08         MNT  27075   Mantle        5000\n",
       "2      x-layer  9.910153e+06        None   None  X Layer        None\n",
       "3      fraxtal  3.288453e+07        FXTL   None  Fraxtal         252\n",
       "4  aurora-near  1.671190e+07      AURORA  14803   Aurora  1313161554"
      ]
     },
     "execution_count": 21,
     "metadata": {},
     "output_type": "execute_result"
    }
   ],
   "source": [
    "# Loading the JSON and converting it in a dataframe\n",
    "jsonFile = loadJSON('../../data/json/all-chains.json')\n",
    "\n",
    "df = pd.DataFrame(jsonFile)\n",
    "print(df.shape)\n",
    "df.head()"
   ]
  },
  {
   "cell_type": "markdown",
   "metadata": {},
   "source": [
    "## Removing non usable data"
   ]
  },
  {
   "cell_type": "code",
   "execution_count": 22,
   "metadata": {},
   "outputs": [
    {
     "name": "stdout",
     "output_type": "stream",
     "text": [
      "<class 'pandas.core.frame.DataFrame'>\n",
      "RangeIndex: 305 entries, 0 to 304\n",
      "Data columns (total 6 columns):\n",
      " #   Column       Non-Null Count  Dtype  \n",
      "---  ------       --------------  -----  \n",
      " 0   gecko_id     237 non-null    object \n",
      " 1   tvl          305 non-null    float64\n",
      " 2   tokenSymbol  248 non-null    object \n",
      " 3   cmcId        210 non-null    object \n",
      " 4   name         305 non-null    object \n",
      " 5   chainId      139 non-null    object \n",
      "dtypes: float64(1), object(5)\n",
      "memory usage: 14.4+ KB\n"
     ]
    }
   ],
   "source": [
    "# Checking basic info (specially nulls)\n",
    "df.info()"
   ]
  },
  {
   "cell_type": "code",
   "execution_count": 23,
   "metadata": {},
   "outputs": [
    {
     "name": "stdout",
     "output_type": "stream",
     "text": [
      "<class 'pandas.core.frame.DataFrame'>\n",
      "Index: 248 entries, 0 to 304\n",
      "Data columns (total 6 columns):\n",
      " #   Column       Non-Null Count  Dtype  \n",
      "---  ------       --------------  -----  \n",
      " 0   gecko_id     236 non-null    object \n",
      " 1   tvl          248 non-null    float64\n",
      " 2   tokenSymbol  248 non-null    object \n",
      " 3   cmcId        210 non-null    object \n",
      " 4   name         248 non-null    object \n",
      " 5   chainId      103 non-null    object \n",
      "dtypes: float64(1), object(5)\n",
      "memory usage: 13.6+ KB\n"
     ]
    }
   ],
   "source": [
    "# Dropping null values and checking again\n",
    "df = df.dropna(subset=['tokenSymbol'])\n",
    "df.info()"
   ]
  },
  {
   "cell_type": "markdown",
   "metadata": {},
   "source": [
    "## Something to point out...\n",
    "Once we get to the step of getting the information of every token from CoinMarketCap API, we are going to have some issues with \"ETHF\", \"FXTL\" and \"-\" (tokenSymbol property). In order to avoid those API errors, we are removing them"
   ]
  },
  {
   "cell_type": "code",
   "execution_count": 24,
   "metadata": {},
   "outputs": [],
   "source": [
    "# Initializing the list with those values\n",
    "values_to_remove = ['ETHF', 'FXTL', '-']"
   ]
  },
  {
   "cell_type": "code",
   "execution_count": 25,
   "metadata": {},
   "outputs": [],
   "source": [
    "# Filter out rows where tokenSymbol is in values_to_remove\n",
    "filtered_df = df[~df['tokenSymbol'].isin(values_to_remove)]"
   ]
  },
  {
   "cell_type": "code",
   "execution_count": 26,
   "metadata": {},
   "outputs": [],
   "source": [
    "filtered_df.to_json('../../data/json/tvl-chains-symbol.json', orient='records', indent=4)"
   ]
  }
 ],
 "metadata": {
  "kernelspec": {
   "display_name": "crypto-project",
   "language": "python",
   "name": "python3"
  },
  "language_info": {
   "codemirror_mode": {
    "name": "ipython",
    "version": 3
   },
   "file_extension": ".py",
   "mimetype": "text/x-python",
   "name": "python",
   "nbconvert_exporter": "python",
   "pygments_lexer": "ipython3",
   "version": "3.12.5"
  }
 },
 "nbformat": 4,
 "nbformat_minor": 2
}
