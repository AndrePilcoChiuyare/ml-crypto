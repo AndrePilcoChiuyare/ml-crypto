{
 "cells": [
  {
   "cell_type": "markdown",
   "metadata": {},
   "source": [
    "# Filling missing information from the tokens"
   ]
  },
  {
   "cell_type": "markdown",
   "metadata": {},
   "source": [
    "## Libraries"
   ]
  },
  {
   "cell_type": "code",
   "execution_count": 1,
   "metadata": {},
   "outputs": [],
   "source": [
    "import pandas as pd\n",
    "import numpy as np\n",
    "import os\n",
    "import json\n",
    "import requests"
   ]
  },
  {
   "cell_type": "markdown",
   "metadata": {},
   "source": [
    "## Loading all the chains and its token"
   ]
  },
  {
   "cell_type": "code",
   "execution_count": 2,
   "metadata": {},
   "outputs": [],
   "source": [
    "# Function to load JSON\n",
    "def loadJSON(filepath):\n",
    "    with open(filepath) as file:\n",
    "        return json.load(file)"
   ]
  },
  {
   "cell_type": "code",
   "execution_count": 3,
   "metadata": {},
   "outputs": [
    {
     "name": "stdout",
     "output_type": "stream",
     "text": [
      "(225, 6)\n"
     ]
    },
    {
     "data": {
      "text/html": [
       "<div>\n",
       "<style scoped>\n",
       "    .dataframe tbody tr th:only-of-type {\n",
       "        vertical-align: middle;\n",
       "    }\n",
       "\n",
       "    .dataframe tbody tr th {\n",
       "        vertical-align: top;\n",
       "    }\n",
       "\n",
       "    .dataframe thead th {\n",
       "        text-align: right;\n",
       "    }\n",
       "</style>\n",
       "<table border=\"1\" class=\"dataframe\">\n",
       "  <thead>\n",
       "    <tr style=\"text-align: right;\">\n",
       "      <th></th>\n",
       "      <th>gecko_id</th>\n",
       "      <th>tvl</th>\n",
       "      <th>tokenSymbol</th>\n",
       "      <th>cmcId</th>\n",
       "      <th>name</th>\n",
       "      <th>chainId</th>\n",
       "    </tr>\n",
       "  </thead>\n",
       "  <tbody>\n",
       "    <tr>\n",
       "      <th>0</th>\n",
       "      <td>harmony</td>\n",
       "      <td>1.895183e+06</td>\n",
       "      <td>ONE</td>\n",
       "      <td>3945</td>\n",
       "      <td>Harmony</td>\n",
       "      <td>1666600000</td>\n",
       "    </tr>\n",
       "    <tr>\n",
       "      <th>1</th>\n",
       "      <td>mantle</td>\n",
       "      <td>4.613355e+08</td>\n",
       "      <td>MNT</td>\n",
       "      <td>27075</td>\n",
       "      <td>Mantle</td>\n",
       "      <td>5000</td>\n",
       "    </tr>\n",
       "    <tr>\n",
       "      <th>2</th>\n",
       "      <td>aurora-near</td>\n",
       "      <td>1.671190e+07</td>\n",
       "      <td>AURORA</td>\n",
       "      <td>14803</td>\n",
       "      <td>Aurora</td>\n",
       "      <td>1313161554</td>\n",
       "    </tr>\n",
       "    <tr>\n",
       "      <th>3</th>\n",
       "      <td>moonbeam</td>\n",
       "      <td>2.557276e+07</td>\n",
       "      <td>GLMR</td>\n",
       "      <td>6836</td>\n",
       "      <td>Moonbeam</td>\n",
       "      <td>1284</td>\n",
       "    </tr>\n",
       "    <tr>\n",
       "      <th>4</th>\n",
       "      <td>kava</td>\n",
       "      <td>1.488895e+08</td>\n",
       "      <td>KAVA</td>\n",
       "      <td>4846</td>\n",
       "      <td>Kava</td>\n",
       "      <td>None</td>\n",
       "    </tr>\n",
       "  </tbody>\n",
       "</table>\n",
       "</div>"
      ],
      "text/plain": [
       "      gecko_id           tvl tokenSymbol  cmcId      name     chainId\n",
       "0      harmony  1.895183e+06         ONE   3945   Harmony  1666600000\n",
       "1       mantle  4.613355e+08         MNT  27075    Mantle        5000\n",
       "2  aurora-near  1.671190e+07      AURORA  14803    Aurora  1313161554\n",
       "3     moonbeam  2.557276e+07        GLMR   6836  Moonbeam        1284\n",
       "4         kava  1.488895e+08        KAVA   4846      Kava        None"
      ]
     },
     "execution_count": 3,
     "metadata": {},
     "output_type": "execute_result"
    }
   ],
   "source": [
    "df = pd.DataFrame(loadJSON('../../data/json/main-defi-tokens.json'))\n",
    "\n",
    "print(df.shape)\n",
    "df.head()"
   ]
  },
  {
   "cell_type": "markdown",
   "metadata": {},
   "source": [
    "## Getting the rows without gecko_id"
   ]
  },
  {
   "cell_type": "code",
   "execution_count": 4,
   "metadata": {},
   "outputs": [
    {
     "data": {
      "text/html": [
       "<div>\n",
       "<style scoped>\n",
       "    .dataframe tbody tr th:only-of-type {\n",
       "        vertical-align: middle;\n",
       "    }\n",
       "\n",
       "    .dataframe tbody tr th {\n",
       "        vertical-align: top;\n",
       "    }\n",
       "\n",
       "    .dataframe thead th {\n",
       "        text-align: right;\n",
       "    }\n",
       "</style>\n",
       "<table border=\"1\" class=\"dataframe\">\n",
       "  <thead>\n",
       "    <tr style=\"text-align: right;\">\n",
       "      <th></th>\n",
       "      <th>gecko_id</th>\n",
       "      <th>tvl</th>\n",
       "      <th>tokenSymbol</th>\n",
       "      <th>cmcId</th>\n",
       "      <th>name</th>\n",
       "      <th>chainId</th>\n",
       "    </tr>\n",
       "  </thead>\n",
       "  <tbody>\n",
       "    <tr>\n",
       "      <th>43</th>\n",
       "      <td>None</td>\n",
       "      <td>1.346509e+08</td>\n",
       "      <td>RON</td>\n",
       "      <td>14101</td>\n",
       "      <td>Ronin</td>\n",
       "      <td>2020</td>\n",
       "    </tr>\n",
       "    <tr>\n",
       "      <th>68</th>\n",
       "      <td>None</td>\n",
       "      <td>5.951530e+05</td>\n",
       "      <td>QGOV</td>\n",
       "      <td>29443</td>\n",
       "      <td>Q Protocol</td>\n",
       "      <td>35441</td>\n",
       "    </tr>\n",
       "    <tr>\n",
       "      <th>170</th>\n",
       "      <td>None</td>\n",
       "      <td>2.425783e+05</td>\n",
       "      <td>ZENIQ</td>\n",
       "      <td>23027</td>\n",
       "      <td>Zeniq</td>\n",
       "      <td>None</td>\n",
       "    </tr>\n",
       "    <tr>\n",
       "      <th>193</th>\n",
       "      <td>None</td>\n",
       "      <td>3.156900e+06</td>\n",
       "      <td>BEAM</td>\n",
       "      <td>28298</td>\n",
       "      <td>Beam</td>\n",
       "      <td>4337</td>\n",
       "    </tr>\n",
       "  </tbody>\n",
       "</table>\n",
       "</div>"
      ],
      "text/plain": [
       "    gecko_id           tvl tokenSymbol  cmcId        name chainId\n",
       "43      None  1.346509e+08         RON  14101       Ronin    2020\n",
       "68      None  5.951530e+05        QGOV  29443  Q Protocol   35441\n",
       "170     None  2.425783e+05       ZENIQ  23027       Zeniq    None\n",
       "193     None  3.156900e+06        BEAM  28298        Beam    4337"
      ]
     },
     "execution_count": 4,
     "metadata": {},
     "output_type": "execute_result"
    }
   ],
   "source": [
    "null_gecko_df = df[df['gecko_id'].isnull()]\n",
    "null_gecko_df"
   ]
  },
  {
   "cell_type": "markdown",
   "metadata": {},
   "source": [
    "Since it's only 4 rows missing, we are completing the null values manually through the CoinGecko web platform"
   ]
  },
  {
   "cell_type": "markdown",
   "metadata": {},
   "source": [
    "### RON - Ronin"
   ]
  },
  {
   "cell_type": "code",
   "execution_count": 5,
   "metadata": {},
   "outputs": [],
   "source": [
    "df.at[43, 'gecko_id'] = 'ronin'"
   ]
  },
  {
   "cell_type": "markdown",
   "metadata": {},
   "source": [
    "### QGOV - Q Protocol"
   ]
  },
  {
   "cell_type": "code",
   "execution_count": 6,
   "metadata": {},
   "outputs": [],
   "source": [
    "df.at[68, 'gecko_id'] = 'q-protocol'"
   ]
  },
  {
   "cell_type": "markdown",
   "metadata": {},
   "source": [
    "### ZENIQ - Zeniq"
   ]
  },
  {
   "cell_type": "code",
   "execution_count": 7,
   "metadata": {},
   "outputs": [],
   "source": [
    "df.at[170, 'gecko_id'] = 'zeniq'"
   ]
  },
  {
   "cell_type": "markdown",
   "metadata": {},
   "source": [
    "### BEAM - Beam"
   ]
  },
  {
   "cell_type": "code",
   "execution_count": 8,
   "metadata": {},
   "outputs": [],
   "source": [
    "df.at[193, 'gecko_id'] = 'beam-2'"
   ]
  },
  {
   "cell_type": "code",
   "execution_count": 9,
   "metadata": {},
   "outputs": [
    {
     "name": "stdout",
     "output_type": "stream",
     "text": [
      "<class 'pandas.core.frame.DataFrame'>\n",
      "RangeIndex: 225 entries, 0 to 224\n",
      "Data columns (total 6 columns):\n",
      " #   Column       Non-Null Count  Dtype  \n",
      "---  ------       --------------  -----  \n",
      " 0   gecko_id     225 non-null    object \n",
      " 1   tvl          225 non-null    float64\n",
      " 2   tokenSymbol  225 non-null    object \n",
      " 3   cmcId        225 non-null    object \n",
      " 4   name         225 non-null    object \n",
      " 5   chainId      93 non-null     object \n",
      "dtypes: float64(1), object(5)\n",
      "memory usage: 10.7+ KB\n"
     ]
    }
   ],
   "source": [
    "# Checking basic info to see how the null situation is at the moment\n",
    "df.info()"
   ]
  },
  {
   "cell_type": "code",
   "execution_count": 10,
   "metadata": {},
   "outputs": [],
   "source": [
    "df.to_json('../../data/json/main-tokens-clean.json', orient='records', indent=4)"
   ]
  }
 ],
 "metadata": {
  "kernelspec": {
   "display_name": "crypto-project",
   "language": "python",
   "name": "python3"
  },
  "language_info": {
   "codemirror_mode": {
    "name": "ipython",
    "version": 3
   },
   "file_extension": ".py",
   "mimetype": "text/x-python",
   "name": "python",
   "nbconvert_exporter": "python",
   "pygments_lexer": "ipython3",
   "version": "3.12.5"
  }
 },
 "nbformat": 4,
 "nbformat_minor": 2
}
