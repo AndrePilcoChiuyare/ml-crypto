{
 "cells": [
  {
   "cell_type": "markdown",
   "metadata": {},
   "source": [
    "# Getting from CoinMarketCap the associated information of Defillama tokens"
   ]
  },
  {
   "cell_type": "markdown",
   "metadata": {},
   "source": [
    "## Libraries"
   ]
  },
  {
   "cell_type": "code",
   "execution_count": 2,
   "metadata": {},
   "outputs": [],
   "source": [
    "import json\n",
    "import requests\n",
    "import re\n",
    "import os"
   ]
  },
  {
   "cell_type": "markdown",
   "metadata": {},
   "source": [
    "## Preparing the tokens to be passed to the endpoint"
   ]
  },
  {
   "cell_type": "code",
   "execution_count": 20,
   "metadata": {},
   "outputs": [],
   "source": [
    "# Read the JSON file\n",
    "with open('../../data/json/tvl-chains-symbol.json', 'r') as f:\n",
    "    data = json.load(f)"
   ]
  },
  {
   "cell_type": "code",
   "execution_count": 21,
   "metadata": {},
   "outputs": [
    {
     "name": "stdout",
     "output_type": "stream",
     "text": [
      "Comma-separated string of symbols:\n",
      "ONE,MNT,AURORA,GLMR,KAVA,BNB,GNO,OP,FTM,AVAX,CELO,ETH,ARB,MATIC,RBTC,ISLM,TT,TLOS,ZETA,CORE,BOBA,METIS,FUSE,BTT,HT,OKT,MOVR,FIL,CFX,ROSE,VLX,CRO,ZK,BNB,SOL,MANTA,DOGE,LTC,KCS,IOTX,BTC,WAN,ONT,ONG,APT,RON,EVMOS,CANTO,ASTR,NRG,HBAR,FLR,SGB,KLAY,BFC,LUNC,ZEN,ZIL,NEO,SCRT,CUBE,BRISE,EROWAN,ELA,REI,NULS,OSMO,RUNE,BCH,ATOM,HOO,QGOV,NEON,TRON,ARCH,INJ,SUI,ICX,KAR,XTZ,LUNA,WAXP,EOS,MTRG,NEAR,GENS,TAU,WAVES,CLV,SDN,EWT,ALGO,GO,HPB,FSN,VIC,KAI,XOR,XRD,DG,ADA,BCH,EMPIRE,JUNO,POLIS,ZYX,EGLD,XLM,SPEX,UBQ,XIN,EVER,VET,CLO,ETC,STX,ECH,CET,XDC,ERG,NII,DFI,THETA,SYS,EQ,ACA,XPR,KDA,KUJI,GETH,VITE,ZKL,SEI,MODE,FTN,JEWEL,FRA,HYDRA,GBYTE,LA,SX,MTV,ICP,SNT,G,ULX,KRO,OX,WEMIX,KINT,CHZ,DXT,PLS,OMAX,FLOW,KUB,HKO,PARA,SMR,LOOP,SWTH,STC,BNC,TOMB,CRE,VS,INTR,PG,ETHW,FX,KEK,IMX,MUU,XAI,DMT,TON,STRK,MAP,DEL,ALV,CMDX,TLC,ZENIQ,BNI,STARS,LIBRE,UX,ORAI,ALOT,RING,CRAB,RPG,BONE,XPRT,OAS,GRV,XPLA,ONUS,CCD,WHALE,HUAHUA,TENET,ALPH,AURA,HDX,SPACE,MC,RENEC,NLS,MEER,DASH,CACAO,BOOT,DEGEN,FLIP,FON,NEW,JBC,CMP,AMB,dYdX,BTN,AREA,MANTA,XRP,DOT,BROCK,ROSE,RSS3,VENOM,PLQ,LAC,BB,ACE,RWA,GSYS,PDEX,ELF,LYX,JOLT,AE,DYM,IDEX,ZRC,ETN\n"
     ]
    }
   ],
   "source": [
    "# Extract the symbols\n",
    "symbols = [chain['tokenSymbol'] for chain in data]\n",
    "\n",
    "# Convert the list of symbols to a comma-separated string to pass it to the endpoint\n",
    "symbol_string = ','.join(symbols)\n",
    "\n",
    "# Display the string of symbols\n",
    "print(\"Comma-separated string of symbols:\")\n",
    "print(symbol_string)"
   ]
  },
  {
   "cell_type": "markdown",
   "metadata": {},
   "source": [
    "## Requesting token information"
   ]
  },
  {
   "cell_type": "code",
   "execution_count": 22,
   "metadata": {},
   "outputs": [],
   "source": [
    "# URL and headers for the CoinMarketCap API call\n",
    "url = 'https://pro-api.coinmarketcap.com/v2/cryptocurrency/info'\n",
    "\n",
    "# API key from environment\n",
    "API_KEY = os.getenv('COINMARKETCAP_MARCO_KEY')\n",
    "\n",
    "\n",
    "headers = {\n",
    "    'Accepts': 'application/json',\n",
    "    'X-CMC_PRO_API_KEY': API_KEY,\n",
    "}\n",
    "\n",
    "# Parameters for the request\n",
    "parameters = {\n",
    "    'symbol': symbol_string,\n",
    "}"
   ]
  },
  {
   "cell_type": "code",
   "execution_count": 23,
   "metadata": {},
   "outputs": [],
   "source": [
    "# Make the request\n",
    "response = requests.get(url, headers=headers, params=parameters)"
   ]
  },
  {
   "cell_type": "code",
   "execution_count": 24,
   "metadata": {},
   "outputs": [
    {
     "name": "stdout",
     "output_type": "stream",
     "text": [
      "Information saved in 'crypto_info.json'. Total currencies with information: 241\n"
     ]
    }
   ],
   "source": [
    "# Initialize counter\n",
    "counter = 0\n",
    "\n",
    "# Check the status of the response\n",
    "if response.status_code == 200:\n",
    "    result = response.json()\n",
    "    \n",
    "    # Create a dictionary with the API response and the counter\n",
    "    api_response = {\n",
    "        'data': result.get('data', {}),\n",
    "        'total_currency_info': 0\n",
    "    }\n",
    "    \n",
    "    # Process and count the information\n",
    "    for symbol, info in result['data'].items():\n",
    "        counter += 1  # Increment counter\n",
    "        api_response['data'][symbol] = info  # Add information to the new dictionary\n",
    "    \n",
    "    # Save the JSON to a file\n",
    "    with open('../../data/json/token-info-full.json', 'w') as json_file:\n",
    "        json.dump(api_response, json_file, indent=4)\n",
    "    \n",
    "    print(f\"Information saved in 'crypto_info.json'. Total currencies with information: {counter}\")\n",
    "else:\n",
    "    print(f\"Error: {response.status_code} - {response.json()}\")"
   ]
  }
 ],
 "metadata": {
  "kernelspec": {
   "display_name": "Python 3",
   "language": "python",
   "name": "python3"
  },
  "language_info": {
   "codemirror_mode": {
    "name": "ipython",
    "version": 3
   },
   "file_extension": ".py",
   "mimetype": "text/x-python",
   "name": "python",
   "nbconvert_exporter": "python",
   "pygments_lexer": "ipython3",
   "version": "3.12.5"
  }
 },
 "nbformat": 4,
 "nbformat_minor": 2
}
