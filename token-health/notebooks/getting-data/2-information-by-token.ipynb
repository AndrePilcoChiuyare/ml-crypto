{
 "cells": [
  {
   "cell_type": "markdown",
   "metadata": {},
   "source": [
    "# Getting from CoinMarketCap the associated information of Defillama tokens"
   ]
  },
  {
   "cell_type": "markdown",
   "metadata": {},
   "source": [
    "## Libraries"
   ]
  },
  {
   "cell_type": "code",
   "execution_count": 25,
   "metadata": {},
   "outputs": [],
   "source": [
    "import json\n",
    "import requests\n",
    "import re\n",
    "import os"
   ]
  },
  {
   "cell_type": "markdown",
   "metadata": {},
   "source": [
    "## Preparing the tokens to be passed to the endpoint"
   ]
  },
  {
   "cell_type": "code",
   "execution_count": 26,
   "metadata": {},
   "outputs": [],
   "source": [
    "# Read the JSON file\n",
    "with open('../../data/json/main-defi-tokens.json', 'r') as f:\n",
    "    data = json.load(f)"
   ]
  },
  {
   "cell_type": "code",
   "execution_count": 27,
   "metadata": {},
   "outputs": [
    {
     "name": "stdout",
     "output_type": "stream",
     "text": [
      "Comma-separated string of ids:\n",
      "3945,27075,14803,6836,4846,1659,11840,3513,5805,5567,1027,11841,3890,3626,26220,3930,4660,21259,23254,14556,9640,5634,16086,2502,8267,9285,2280,7334,7653,4747,3635,24091,5426,13631,74,2,2087,2777,1,2606,2566,3217,21794,14101,19899,21516,12885,3218,4642,7950,12186,4256,7817,4172,1698,2469,1376,5604,20519,11079,8541,2492,19819,2092,12220,4157,1831,3794,7543,29443,26735,1958,27358,7226,20947,2099,10042,2011,20314,2300,1765,5919,6535,10278,2337,1274,8384,11451,5268,4030,2861,2345,2530,2570,5453,5802,11948,21414,2010,10613,14299,2359,6131,6892,512,21725,588,2349,7505,3077,2757,1321,4847,20047,2941,2634,1555,4865,5804,2416,541,6780,6756,5350,5647,15185,23669,2937,23149,31016,22615,12319,4249,8245,1492,2090,8377,3853,8916,15399,32120,21524,27190,29530,7548,13675,4066,11661,11145,13916,4558,16093,10907,12887,14801,18761,2620,10202,8705,11495,19083,20366,27723,21296,3884,21606,10603,22020,28374,25653,11419,22691,4956,26867,14713,22593,23027,22026,16842,12663,16389,7533,18732,5798,9243,12221,11865,7281,22265,23196,22359,15261,18031,16121,17208,24892,14878,20326,6753,24193,28298,24143,28485,15658,131,19111,30096,13268,22607,3871,20056,2081,28324,23262,52,6636,27606,17917,22059,28804,30746,28674,27940,9017,2299,27622,19855,1700,28932,3928,29711,2137\n"
     ]
    }
   ],
   "source": [
    "# Extract the ids\n",
    "ids = [chain['cmcId'] for chain in data]\n",
    "\n",
    "# Convert the list of ids to a comma-separated string to pass it to the endpoint\n",
    "ids_string = ','.join(map(str, ids))\n",
    "\n",
    "# Display the string of ids\n",
    "print(\"Comma-separated string of ids:\")\n",
    "print(ids_string)"
   ]
  },
  {
   "cell_type": "markdown",
   "metadata": {},
   "source": [
    "## Requesting token information"
   ]
  },
  {
   "cell_type": "code",
   "execution_count": 28,
   "metadata": {},
   "outputs": [],
   "source": [
    "# URL and headers for the CoinMarketCap API call\n",
    "url = 'https://pro-api.coinmarketcap.com/v2/cryptocurrency/info'\n",
    "\n",
    "# API key from environment\n",
    "API_KEY = os.getenv('COINMARKETCAP_MARCO_KEY')\n",
    "\n",
    "\n",
    "headers = {\n",
    "    'Accepts': 'application/json',\n",
    "    'X-CMC_PRO_API_KEY': API_KEY,\n",
    "}\n",
    "\n",
    "# Parameters for the request\n",
    "parameters = {\n",
    "    'id': ids_string,\n",
    "}"
   ]
  },
  {
   "cell_type": "code",
   "execution_count": 29,
   "metadata": {},
   "outputs": [],
   "source": [
    "# Make the request\n",
    "response = requests.get(url, headers=headers, params=parameters)"
   ]
  },
  {
   "cell_type": "code",
   "execution_count": 31,
   "metadata": {},
   "outputs": [
    {
     "name": "stdout",
     "output_type": "stream",
     "text": [
      "Information saved in 'token-info-full.json'. Total currencies with information: 232\n"
     ]
    }
   ],
   "source": [
    "# Initialize counter\n",
    "counter = 0\n",
    "\n",
    "# Check the status of the response\n",
    "if response.status_code == 200:\n",
    "    result = response.json()\n",
    "    \n",
    "    # Create a dictionary with the API response and the counter\n",
    "    api_response = {\n",
    "        'data': result.get('data', {}),\n",
    "    }\n",
    "    \n",
    "    # Process and count the information\n",
    "    for symbol, info in result['data'].items():\n",
    "        counter += 1  # Increment counter\n",
    "        api_response['data'][symbol] = info  # Add information to the new dictionary\n",
    "    \n",
    "    # Save the JSON to a file\n",
    "    with open('../../data/json/token-info-full.json', 'w') as json_file:\n",
    "        json.dump(api_response, json_file, indent=4)\n",
    "    \n",
    "    print(f\"Information saved in 'token-info-full.json'. Total currencies with information: {counter}\")\n",
    "else:\n",
    "    print(f\"Error: {response.status_code} - {response.json()}\")"
   ]
  }
 ],
 "metadata": {
  "kernelspec": {
   "display_name": "crypto-project",
   "language": "python",
   "name": "python3"
  },
  "language_info": {
   "codemirror_mode": {
    "name": "ipython",
    "version": 3
   },
   "file_extension": ".py",
   "mimetype": "text/x-python",
   "name": "python",
   "nbconvert_exporter": "python",
   "pygments_lexer": "ipython3",
   "version": "3.12.5"
  }
 },
 "nbformat": 4,
 "nbformat_minor": 2
}
