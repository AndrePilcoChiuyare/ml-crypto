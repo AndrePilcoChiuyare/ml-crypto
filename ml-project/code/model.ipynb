{
 "cells": [
  {
   "cell_type": "markdown",
   "metadata": {},
   "source": [
    "# First model test"
   ]
  },
  {
   "cell_type": "code",
   "execution_count": 62,
   "metadata": {},
   "outputs": [],
   "source": [
    "# libraries\n",
    "import numpy as np\n",
    "import pandas as pd\n",
    "import tensorflow as tf\n",
    "from tensorflow.keras.models import Sequential\n",
    "from tensorflow.keras.layers import *\n",
    "from tensorflow.keras.callbacks import ModelCheckpoint\n",
    "from tensorflow.keras.losses import MeanSquaredError\n",
    "from tensorflow.keras.metrics import RootMeanSquaredError\n",
    "from tensorflow.keras.optimizers import Adam\n",
    "import matplotlib.pyplot as plt\n",
    "from sklearn.metrics import mean_squared_error as mse"
   ]
  },
  {
   "cell_type": "code",
   "execution_count": 63,
   "metadata": {},
   "outputs": [
    {
     "name": "stdout",
     "output_type": "stream",
     "text": [
      "(33039, 10)\n"
     ]
    },
    {
     "data": {
      "text/html": [
       "<div>\n",
       "<style scoped>\n",
       "    .dataframe tbody tr th:only-of-type {\n",
       "        vertical-align: middle;\n",
       "    }\n",
       "\n",
       "    .dataframe tbody tr th {\n",
       "        vertical-align: top;\n",
       "    }\n",
       "\n",
       "    .dataframe thead th {\n",
       "        text-align: right;\n",
       "    }\n",
       "</style>\n",
       "<table border=\"1\" class=\"dataframe\">\n",
       "  <thead>\n",
       "    <tr style=\"text-align: right;\">\n",
       "      <th></th>\n",
       "      <th>timestamp</th>\n",
       "      <th>open</th>\n",
       "      <th>high</th>\n",
       "      <th>low</th>\n",
       "      <th>close</th>\n",
       "      <th>volume</th>\n",
       "      <th>name</th>\n",
       "      <th>symbol</th>\n",
       "      <th>id</th>\n",
       "      <th>category</th>\n",
       "    </tr>\n",
       "  </thead>\n",
       "  <tbody>\n",
       "    <tr>\n",
       "      <th>0</th>\n",
       "      <td>1681689600</td>\n",
       "      <td>3.141154e-08</td>\n",
       "      <td>7.951914e-08</td>\n",
       "      <td>2.818250e-08</td>\n",
       "      <td>6.526480e-08</td>\n",
       "      <td>9.040237e+06</td>\n",
       "      <td>Pepe</td>\n",
       "      <td>PEPE</td>\n",
       "      <td>02e9c2cc-2e3b-45fe-b7bb-508cb23a3a39</td>\n",
       "      <td>meme</td>\n",
       "    </tr>\n",
       "    <tr>\n",
       "      <th>1</th>\n",
       "      <td>1681776000</td>\n",
       "      <td>6.485267e-08</td>\n",
       "      <td>2.276132e-07</td>\n",
       "      <td>5.598800e-08</td>\n",
       "      <td>1.878306e-07</td>\n",
       "      <td>3.246056e+07</td>\n",
       "      <td>Pepe</td>\n",
       "      <td>PEPE</td>\n",
       "      <td>02e9c2cc-2e3b-45fe-b7bb-508cb23a3a39</td>\n",
       "      <td>meme</td>\n",
       "    </tr>\n",
       "    <tr>\n",
       "      <th>2</th>\n",
       "      <td>1681862400</td>\n",
       "      <td>1.862740e-07</td>\n",
       "      <td>3.796318e-07</td>\n",
       "      <td>1.379781e-07</td>\n",
       "      <td>2.647504e-07</td>\n",
       "      <td>5.639813e+07</td>\n",
       "      <td>Pepe</td>\n",
       "      <td>PEPE</td>\n",
       "      <td>02e9c2cc-2e3b-45fe-b7bb-508cb23a3a39</td>\n",
       "      <td>meme</td>\n",
       "    </tr>\n",
       "    <tr>\n",
       "      <th>3</th>\n",
       "      <td>1681948800</td>\n",
       "      <td>2.648534e-07</td>\n",
       "      <td>4.051020e-07</td>\n",
       "      <td>2.291480e-07</td>\n",
       "      <td>2.945193e-07</td>\n",
       "      <td>4.044670e+07</td>\n",
       "      <td>Pepe</td>\n",
       "      <td>PEPE</td>\n",
       "      <td>02e9c2cc-2e3b-45fe-b7bb-508cb23a3a39</td>\n",
       "      <td>meme</td>\n",
       "    </tr>\n",
       "    <tr>\n",
       "      <th>4</th>\n",
       "      <td>1682035200</td>\n",
       "      <td>2.949180e-07</td>\n",
       "      <td>3.114699e-07</td>\n",
       "      <td>1.605779e-07</td>\n",
       "      <td>1.985193e-07</td>\n",
       "      <td>3.242627e+07</td>\n",
       "      <td>Pepe</td>\n",
       "      <td>PEPE</td>\n",
       "      <td>02e9c2cc-2e3b-45fe-b7bb-508cb23a3a39</td>\n",
       "      <td>meme</td>\n",
       "    </tr>\n",
       "  </tbody>\n",
       "</table>\n",
       "</div>"
      ],
      "text/plain": [
       "    timestamp          open          high           low         close  \\\n",
       "0  1681689600  3.141154e-08  7.951914e-08  2.818250e-08  6.526480e-08   \n",
       "1  1681776000  6.485267e-08  2.276132e-07  5.598800e-08  1.878306e-07   \n",
       "2  1681862400  1.862740e-07  3.796318e-07  1.379781e-07  2.647504e-07   \n",
       "3  1681948800  2.648534e-07  4.051020e-07  2.291480e-07  2.945193e-07   \n",
       "4  1682035200  2.949180e-07  3.114699e-07  1.605779e-07  1.985193e-07   \n",
       "\n",
       "         volume  name symbol                                    id category  \n",
       "0  9.040237e+06  Pepe   PEPE  02e9c2cc-2e3b-45fe-b7bb-508cb23a3a39     meme  \n",
       "1  3.246056e+07  Pepe   PEPE  02e9c2cc-2e3b-45fe-b7bb-508cb23a3a39     meme  \n",
       "2  5.639813e+07  Pepe   PEPE  02e9c2cc-2e3b-45fe-b7bb-508cb23a3a39     meme  \n",
       "3  4.044670e+07  Pepe   PEPE  02e9c2cc-2e3b-45fe-b7bb-508cb23a3a39     meme  \n",
       "4  3.242627e+07  Pepe   PEPE  02e9c2cc-2e3b-45fe-b7bb-508cb23a3a39     meme  "
      ]
     },
     "execution_count": 63,
     "metadata": {},
     "output_type": "execute_result"
    }
   ],
   "source": [
    "df = pd.read_csv('../data/processed/meme.csv')\n",
    "print(df.shape)\n",
    "df.head()"
   ]
  },
  {
   "cell_type": "code",
   "execution_count": 64,
   "metadata": {},
   "outputs": [
    {
     "name": "stdout",
     "output_type": "stream",
     "text": [
      "(3701, 10)\n"
     ]
    },
    {
     "data": {
      "text/html": [
       "<div>\n",
       "<style scoped>\n",
       "    .dataframe tbody tr th:only-of-type {\n",
       "        vertical-align: middle;\n",
       "    }\n",
       "\n",
       "    .dataframe tbody tr th {\n",
       "        vertical-align: top;\n",
       "    }\n",
       "\n",
       "    .dataframe thead th {\n",
       "        text-align: right;\n",
       "    }\n",
       "</style>\n",
       "<table border=\"1\" class=\"dataframe\">\n",
       "  <thead>\n",
       "    <tr style=\"text-align: right;\">\n",
       "      <th></th>\n",
       "      <th>timestamp</th>\n",
       "      <th>open</th>\n",
       "      <th>high</th>\n",
       "      <th>low</th>\n",
       "      <th>close</th>\n",
       "      <th>volume</th>\n",
       "      <th>name</th>\n",
       "      <th>symbol</th>\n",
       "      <th>id</th>\n",
       "      <th>category</th>\n",
       "    </tr>\n",
       "  </thead>\n",
       "  <tbody>\n",
       "    <tr>\n",
       "      <th>14621</th>\n",
       "      <td>1409011200</td>\n",
       "      <td>0.000151</td>\n",
       "      <td>0.000151</td>\n",
       "      <td>0.000151</td>\n",
       "      <td>0.000151</td>\n",
       "      <td>18.376441</td>\n",
       "      <td>Dogecoin</td>\n",
       "      <td>DOGE</td>\n",
       "      <td>7d793fa7-5fc6-432a-b26b-d1b10769d42e</td>\n",
       "      <td>meme</td>\n",
       "    </tr>\n",
       "    <tr>\n",
       "      <th>14622</th>\n",
       "      <td>1409184000</td>\n",
       "      <td>0.000139</td>\n",
       "      <td>0.000139</td>\n",
       "      <td>0.000139</td>\n",
       "      <td>0.000139</td>\n",
       "      <td>104.302676</td>\n",
       "      <td>Dogecoin</td>\n",
       "      <td>DOGE</td>\n",
       "      <td>7d793fa7-5fc6-432a-b26b-d1b10769d42e</td>\n",
       "      <td>meme</td>\n",
       "    </tr>\n",
       "    <tr>\n",
       "      <th>14623</th>\n",
       "      <td>1409270400</td>\n",
       "      <td>0.000139</td>\n",
       "      <td>0.000142</td>\n",
       "      <td>0.000127</td>\n",
       "      <td>0.000127</td>\n",
       "      <td>168.897599</td>\n",
       "      <td>Dogecoin</td>\n",
       "      <td>DOGE</td>\n",
       "      <td>7d793fa7-5fc6-432a-b26b-d1b10769d42e</td>\n",
       "      <td>meme</td>\n",
       "    </tr>\n",
       "    <tr>\n",
       "      <th>14624</th>\n",
       "      <td>1409443200</td>\n",
       "      <td>0.000128</td>\n",
       "      <td>0.000130</td>\n",
       "      <td>0.000128</td>\n",
       "      <td>0.000130</td>\n",
       "      <td>44.749007</td>\n",
       "      <td>Dogecoin</td>\n",
       "      <td>DOGE</td>\n",
       "      <td>7d793fa7-5fc6-432a-b26b-d1b10769d42e</td>\n",
       "      <td>meme</td>\n",
       "    </tr>\n",
       "    <tr>\n",
       "      <th>14625</th>\n",
       "      <td>1409529600</td>\n",
       "      <td>0.000128</td>\n",
       "      <td>0.000135</td>\n",
       "      <td>0.000128</td>\n",
       "      <td>0.000130</td>\n",
       "      <td>71.984732</td>\n",
       "      <td>Dogecoin</td>\n",
       "      <td>DOGE</td>\n",
       "      <td>7d793fa7-5fc6-432a-b26b-d1b10769d42e</td>\n",
       "      <td>meme</td>\n",
       "    </tr>\n",
       "  </tbody>\n",
       "</table>\n",
       "</div>"
      ],
      "text/plain": [
       "        timestamp      open      high       low     close      volume  \\\n",
       "14621  1409011200  0.000151  0.000151  0.000151  0.000151   18.376441   \n",
       "14622  1409184000  0.000139  0.000139  0.000139  0.000139  104.302676   \n",
       "14623  1409270400  0.000139  0.000142  0.000127  0.000127  168.897599   \n",
       "14624  1409443200  0.000128  0.000130  0.000128  0.000130   44.749007   \n",
       "14625  1409529600  0.000128  0.000135  0.000128  0.000130   71.984732   \n",
       "\n",
       "           name symbol                                    id category  \n",
       "14621  Dogecoin   DOGE  7d793fa7-5fc6-432a-b26b-d1b10769d42e     meme  \n",
       "14622  Dogecoin   DOGE  7d793fa7-5fc6-432a-b26b-d1b10769d42e     meme  \n",
       "14623  Dogecoin   DOGE  7d793fa7-5fc6-432a-b26b-d1b10769d42e     meme  \n",
       "14624  Dogecoin   DOGE  7d793fa7-5fc6-432a-b26b-d1b10769d42e     meme  \n",
       "14625  Dogecoin   DOGE  7d793fa7-5fc6-432a-b26b-d1b10769d42e     meme  "
      ]
     },
     "execution_count": 64,
     "metadata": {},
     "output_type": "execute_result"
    }
   ],
   "source": [
    "token_df = df.groupby('name').get_group('Dogecoin')\n",
    "print(token_df.shape)\n",
    "token_df.head()"
   ]
  },
  {
   "cell_type": "code",
   "execution_count": 65,
   "metadata": {},
   "outputs": [
    {
     "data": {
      "text/html": [
       "<div>\n",
       "<style scoped>\n",
       "    .dataframe tbody tr th:only-of-type {\n",
       "        vertical-align: middle;\n",
       "    }\n",
       "\n",
       "    .dataframe tbody tr th {\n",
       "        vertical-align: top;\n",
       "    }\n",
       "\n",
       "    .dataframe thead th {\n",
       "        text-align: right;\n",
       "    }\n",
       "</style>\n",
       "<table border=\"1\" class=\"dataframe\">\n",
       "  <thead>\n",
       "    <tr style=\"text-align: right;\">\n",
       "      <th></th>\n",
       "      <th>timestamp</th>\n",
       "      <th>open</th>\n",
       "      <th>high</th>\n",
       "      <th>low</th>\n",
       "      <th>close</th>\n",
       "      <th>volume</th>\n",
       "      <th>name</th>\n",
       "      <th>symbol</th>\n",
       "      <th>id</th>\n",
       "      <th>category</th>\n",
       "    </tr>\n",
       "    <tr>\n",
       "      <th>timestamp</th>\n",
       "      <th></th>\n",
       "      <th></th>\n",
       "      <th></th>\n",
       "      <th></th>\n",
       "      <th></th>\n",
       "      <th></th>\n",
       "      <th></th>\n",
       "      <th></th>\n",
       "      <th></th>\n",
       "      <th></th>\n",
       "    </tr>\n",
       "  </thead>\n",
       "  <tbody>\n",
       "    <tr>\n",
       "      <th>2014-08-26</th>\n",
       "      <td>1409011200</td>\n",
       "      <td>0.000151</td>\n",
       "      <td>0.000151</td>\n",
       "      <td>0.000151</td>\n",
       "      <td>0.000151</td>\n",
       "      <td>18.376441</td>\n",
       "      <td>Dogecoin</td>\n",
       "      <td>DOGE</td>\n",
       "      <td>7d793fa7-5fc6-432a-b26b-d1b10769d42e</td>\n",
       "      <td>meme</td>\n",
       "    </tr>\n",
       "    <tr>\n",
       "      <th>2014-08-28</th>\n",
       "      <td>1409184000</td>\n",
       "      <td>0.000139</td>\n",
       "      <td>0.000139</td>\n",
       "      <td>0.000139</td>\n",
       "      <td>0.000139</td>\n",
       "      <td>104.302676</td>\n",
       "      <td>Dogecoin</td>\n",
       "      <td>DOGE</td>\n",
       "      <td>7d793fa7-5fc6-432a-b26b-d1b10769d42e</td>\n",
       "      <td>meme</td>\n",
       "    </tr>\n",
       "    <tr>\n",
       "      <th>2014-08-29</th>\n",
       "      <td>1409270400</td>\n",
       "      <td>0.000139</td>\n",
       "      <td>0.000142</td>\n",
       "      <td>0.000127</td>\n",
       "      <td>0.000127</td>\n",
       "      <td>168.897599</td>\n",
       "      <td>Dogecoin</td>\n",
       "      <td>DOGE</td>\n",
       "      <td>7d793fa7-5fc6-432a-b26b-d1b10769d42e</td>\n",
       "      <td>meme</td>\n",
       "    </tr>\n",
       "    <tr>\n",
       "      <th>2014-08-31</th>\n",
       "      <td>1409443200</td>\n",
       "      <td>0.000128</td>\n",
       "      <td>0.000130</td>\n",
       "      <td>0.000128</td>\n",
       "      <td>0.000130</td>\n",
       "      <td>44.749007</td>\n",
       "      <td>Dogecoin</td>\n",
       "      <td>DOGE</td>\n",
       "      <td>7d793fa7-5fc6-432a-b26b-d1b10769d42e</td>\n",
       "      <td>meme</td>\n",
       "    </tr>\n",
       "    <tr>\n",
       "      <th>2014-09-01</th>\n",
       "      <td>1409529600</td>\n",
       "      <td>0.000128</td>\n",
       "      <td>0.000135</td>\n",
       "      <td>0.000128</td>\n",
       "      <td>0.000130</td>\n",
       "      <td>71.984732</td>\n",
       "      <td>Dogecoin</td>\n",
       "      <td>DOGE</td>\n",
       "      <td>7d793fa7-5fc6-432a-b26b-d1b10769d42e</td>\n",
       "      <td>meme</td>\n",
       "    </tr>\n",
       "  </tbody>\n",
       "</table>\n",
       "</div>"
      ],
      "text/plain": [
       "             timestamp      open      high       low     close      volume  \\\n",
       "timestamp                                                                    \n",
       "2014-08-26  1409011200  0.000151  0.000151  0.000151  0.000151   18.376441   \n",
       "2014-08-28  1409184000  0.000139  0.000139  0.000139  0.000139  104.302676   \n",
       "2014-08-29  1409270400  0.000139  0.000142  0.000127  0.000127  168.897599   \n",
       "2014-08-31  1409443200  0.000128  0.000130  0.000128  0.000130   44.749007   \n",
       "2014-09-01  1409529600  0.000128  0.000135  0.000128  0.000130   71.984732   \n",
       "\n",
       "                name symbol                                    id category  \n",
       "timestamp                                                                   \n",
       "2014-08-26  Dogecoin   DOGE  7d793fa7-5fc6-432a-b26b-d1b10769d42e     meme  \n",
       "2014-08-28  Dogecoin   DOGE  7d793fa7-5fc6-432a-b26b-d1b10769d42e     meme  \n",
       "2014-08-29  Dogecoin   DOGE  7d793fa7-5fc6-432a-b26b-d1b10769d42e     meme  \n",
       "2014-08-31  Dogecoin   DOGE  7d793fa7-5fc6-432a-b26b-d1b10769d42e     meme  \n",
       "2014-09-01  Dogecoin   DOGE  7d793fa7-5fc6-432a-b26b-d1b10769d42e     meme  "
      ]
     },
     "execution_count": 65,
     "metadata": {},
     "output_type": "execute_result"
    }
   ],
   "source": [
    "token_df.index = pd.to_datetime(token_df['timestamp'], unit='s')\n",
    "token_df.head()"
   ]
  },
  {
   "cell_type": "code",
   "execution_count": 66,
   "metadata": {},
   "outputs": [
    {
     "data": {
      "text/html": [
       "<div>\n",
       "<style scoped>\n",
       "    .dataframe tbody tr th:only-of-type {\n",
       "        vertical-align: middle;\n",
       "    }\n",
       "\n",
       "    .dataframe tbody tr th {\n",
       "        vertical-align: top;\n",
       "    }\n",
       "\n",
       "    .dataframe thead th {\n",
       "        text-align: right;\n",
       "    }\n",
       "</style>\n",
       "<table border=\"1\" class=\"dataframe\">\n",
       "  <thead>\n",
       "    <tr style=\"text-align: right;\">\n",
       "      <th></th>\n",
       "      <th>close</th>\n",
       "      <th>Seconds</th>\n",
       "    </tr>\n",
       "    <tr>\n",
       "      <th>timestamp</th>\n",
       "      <th></th>\n",
       "      <th></th>\n",
       "    </tr>\n",
       "  </thead>\n",
       "  <tbody>\n",
       "    <tr>\n",
       "      <th>2014-08-26</th>\n",
       "      <td>0.000151</td>\n",
       "      <td>1.409011e+09</td>\n",
       "    </tr>\n",
       "    <tr>\n",
       "      <th>2014-08-28</th>\n",
       "      <td>0.000139</td>\n",
       "      <td>1.409184e+09</td>\n",
       "    </tr>\n",
       "    <tr>\n",
       "      <th>2014-08-29</th>\n",
       "      <td>0.000127</td>\n",
       "      <td>1.409270e+09</td>\n",
       "    </tr>\n",
       "    <tr>\n",
       "      <th>2014-08-31</th>\n",
       "      <td>0.000130</td>\n",
       "      <td>1.409443e+09</td>\n",
       "    </tr>\n",
       "    <tr>\n",
       "      <th>2014-09-01</th>\n",
       "      <td>0.000130</td>\n",
       "      <td>1.409530e+09</td>\n",
       "    </tr>\n",
       "  </tbody>\n",
       "</table>\n",
       "</div>"
      ],
      "text/plain": [
       "               close       Seconds\n",
       "timestamp                         \n",
       "2014-08-26  0.000151  1.409011e+09\n",
       "2014-08-28  0.000139  1.409184e+09\n",
       "2014-08-29  0.000127  1.409270e+09\n",
       "2014-08-31  0.000130  1.409443e+09\n",
       "2014-09-01  0.000130  1.409530e+09"
      ]
     },
     "execution_count": 66,
     "metadata": {},
     "output_type": "execute_result"
    }
   ],
   "source": [
    "close_df = pd.DataFrame({'close': token_df['close']})\n",
    "close_df['Seconds'] = close_df.index.map(pd.Timestamp.timestamp)\n",
    "close_df.head()"
   ]
  },
  {
   "cell_type": "code",
   "execution_count": 67,
   "metadata": {},
   "outputs": [
    {
     "data": {
      "text/html": [
       "<div>\n",
       "<style scoped>\n",
       "    .dataframe tbody tr th:only-of-type {\n",
       "        vertical-align: middle;\n",
       "    }\n",
       "\n",
       "    .dataframe tbody tr th {\n",
       "        vertical-align: top;\n",
       "    }\n",
       "\n",
       "    .dataframe thead th {\n",
       "        text-align: right;\n",
       "    }\n",
       "</style>\n",
       "<table border=\"1\" class=\"dataframe\">\n",
       "  <thead>\n",
       "    <tr style=\"text-align: right;\">\n",
       "      <th></th>\n",
       "      <th>close</th>\n",
       "      <th>Seconds</th>\n",
       "      <th>Week sin</th>\n",
       "      <th>Week cos</th>\n",
       "      <th>Year sin</th>\n",
       "      <th>Year cos</th>\n",
       "    </tr>\n",
       "    <tr>\n",
       "      <th>timestamp</th>\n",
       "      <th></th>\n",
       "      <th></th>\n",
       "      <th></th>\n",
       "      <th></th>\n",
       "      <th></th>\n",
       "      <th></th>\n",
       "    </tr>\n",
       "  </thead>\n",
       "  <tbody>\n",
       "    <tr>\n",
       "      <th>2014-08-26</th>\n",
       "      <td>0.000151</td>\n",
       "      <td>1.409011e+09</td>\n",
       "      <td>-9.749279e-01</td>\n",
       "      <td>-0.222521</td>\n",
       "      <td>-0.808231</td>\n",
       "      <td>-0.588865</td>\n",
       "    </tr>\n",
       "    <tr>\n",
       "      <th>2014-08-28</th>\n",
       "      <td>0.000139</td>\n",
       "      <td>1.409184e+09</td>\n",
       "      <td>2.393333e-13</td>\n",
       "      <td>1.000000</td>\n",
       "      <td>-0.828009</td>\n",
       "      <td>-0.560714</td>\n",
       "    </tr>\n",
       "    <tr>\n",
       "      <th>2014-08-29</th>\n",
       "      <td>0.000127</td>\n",
       "      <td>1.409270e+09</td>\n",
       "      <td>7.818315e-01</td>\n",
       "      <td>0.623490</td>\n",
       "      <td>-0.837532</td>\n",
       "      <td>-0.546388</td>\n",
       "    </tr>\n",
       "    <tr>\n",
       "      <th>2014-08-31</th>\n",
       "      <td>0.000130</td>\n",
       "      <td>1.409443e+09</td>\n",
       "      <td>4.338837e-01</td>\n",
       "      <td>-0.900969</td>\n",
       "      <td>-0.855832</td>\n",
       "      <td>-0.517255</td>\n",
       "    </tr>\n",
       "    <tr>\n",
       "      <th>2014-09-01</th>\n",
       "      <td>0.000130</td>\n",
       "      <td>1.409530e+09</td>\n",
       "      <td>-4.338837e-01</td>\n",
       "      <td>-0.900969</td>\n",
       "      <td>-0.864603</td>\n",
       "      <td>-0.502456</td>\n",
       "    </tr>\n",
       "  </tbody>\n",
       "</table>\n",
       "</div>"
      ],
      "text/plain": [
       "               close       Seconds      Week sin  Week cos  Year sin  Year cos\n",
       "timestamp                                                                     \n",
       "2014-08-26  0.000151  1.409011e+09 -9.749279e-01 -0.222521 -0.808231 -0.588865\n",
       "2014-08-28  0.000139  1.409184e+09  2.393333e-13  1.000000 -0.828009 -0.560714\n",
       "2014-08-29  0.000127  1.409270e+09  7.818315e-01  0.623490 -0.837532 -0.546388\n",
       "2014-08-31  0.000130  1.409443e+09  4.338837e-01 -0.900969 -0.855832 -0.517255\n",
       "2014-09-01  0.000130  1.409530e+09 -4.338837e-01 -0.900969 -0.864603 -0.502456"
      ]
     },
     "execution_count": 67,
     "metadata": {},
     "output_type": "execute_result"
    }
   ],
   "source": [
    "day = 60 * 60 * 24\n",
    "week = 7 * day\n",
    "year = 365.2425 * day\n",
    "\n",
    "close_df['Week sin'] = np.sin(close_df['Seconds'] * (2 * np.pi / week))\n",
    "close_df['Week cos'] = np.cos(close_df['Seconds'] * (2 * np.pi / week))\n",
    "close_df['Year sin'] = np.sin(close_df['Seconds'] * (2 * np.pi / year))\n",
    "close_df['Year cos'] = np.cos(close_df['Seconds'] * (2 * np.pi / year))\n",
    "\n",
    "close_df.head()"
   ]
  },
  {
   "cell_type": "code",
   "execution_count": 68,
   "metadata": {},
   "outputs": [
    {
     "data": {
      "text/html": [
       "<div>\n",
       "<style scoped>\n",
       "    .dataframe tbody tr th:only-of-type {\n",
       "        vertical-align: middle;\n",
       "    }\n",
       "\n",
       "    .dataframe tbody tr th {\n",
       "        vertical-align: top;\n",
       "    }\n",
       "\n",
       "    .dataframe thead th {\n",
       "        text-align: right;\n",
       "    }\n",
       "</style>\n",
       "<table border=\"1\" class=\"dataframe\">\n",
       "  <thead>\n",
       "    <tr style=\"text-align: right;\">\n",
       "      <th></th>\n",
       "      <th>close</th>\n",
       "      <th>Week sin</th>\n",
       "      <th>Week cos</th>\n",
       "      <th>Year sin</th>\n",
       "      <th>Year cos</th>\n",
       "    </tr>\n",
       "    <tr>\n",
       "      <th>timestamp</th>\n",
       "      <th></th>\n",
       "      <th></th>\n",
       "      <th></th>\n",
       "      <th></th>\n",
       "      <th></th>\n",
       "    </tr>\n",
       "  </thead>\n",
       "  <tbody>\n",
       "    <tr>\n",
       "      <th>2014-08-26</th>\n",
       "      <td>0.000151</td>\n",
       "      <td>-9.749279e-01</td>\n",
       "      <td>-0.222521</td>\n",
       "      <td>-0.808231</td>\n",
       "      <td>-0.588865</td>\n",
       "    </tr>\n",
       "    <tr>\n",
       "      <th>2014-08-28</th>\n",
       "      <td>0.000139</td>\n",
       "      <td>2.393333e-13</td>\n",
       "      <td>1.000000</td>\n",
       "      <td>-0.828009</td>\n",
       "      <td>-0.560714</td>\n",
       "    </tr>\n",
       "    <tr>\n",
       "      <th>2014-08-29</th>\n",
       "      <td>0.000127</td>\n",
       "      <td>7.818315e-01</td>\n",
       "      <td>0.623490</td>\n",
       "      <td>-0.837532</td>\n",
       "      <td>-0.546388</td>\n",
       "    </tr>\n",
       "    <tr>\n",
       "      <th>2014-08-31</th>\n",
       "      <td>0.000130</td>\n",
       "      <td>4.338837e-01</td>\n",
       "      <td>-0.900969</td>\n",
       "      <td>-0.855832</td>\n",
       "      <td>-0.517255</td>\n",
       "    </tr>\n",
       "    <tr>\n",
       "      <th>2014-09-01</th>\n",
       "      <td>0.000130</td>\n",
       "      <td>-4.338837e-01</td>\n",
       "      <td>-0.900969</td>\n",
       "      <td>-0.864603</td>\n",
       "      <td>-0.502456</td>\n",
       "    </tr>\n",
       "  </tbody>\n",
       "</table>\n",
       "</div>"
      ],
      "text/plain": [
       "               close      Week sin  Week cos  Year sin  Year cos\n",
       "timestamp                                                       \n",
       "2014-08-26  0.000151 -9.749279e-01 -0.222521 -0.808231 -0.588865\n",
       "2014-08-28  0.000139  2.393333e-13  1.000000 -0.828009 -0.560714\n",
       "2014-08-29  0.000127  7.818315e-01  0.623490 -0.837532 -0.546388\n",
       "2014-08-31  0.000130  4.338837e-01 -0.900969 -0.855832 -0.517255\n",
       "2014-09-01  0.000130 -4.338837e-01 -0.900969 -0.864603 -0.502456"
      ]
     },
     "execution_count": 68,
     "metadata": {},
     "output_type": "execute_result"
    }
   ],
   "source": [
    "close_df = close_df.drop(columns=['Seconds'])\n",
    "close_df.head()"
   ]
  },
  {
   "cell_type": "code",
   "execution_count": 69,
   "metadata": {},
   "outputs": [],
   "source": [
    "def df_to_X_y(df, window_size=20):\n",
    "  df_as_np = df.to_numpy()\n",
    "  X = []\n",
    "  y = []\n",
    "  for i in range(len(df_as_np)-window_size):\n",
    "    row = [r for r in df_as_np[i:i+window_size]]\n",
    "    X.append(row)\n",
    "    label = df_as_np[i+window_size][0]\n",
    "    y.append(label)\n",
    "  return np.array(X), np.array(y)"
   ]
  },
  {
   "cell_type": "code",
   "execution_count": 70,
   "metadata": {},
   "outputs": [
    {
     "data": {
      "text/plain": [
       "((3681, 20, 5), (3681,))"
      ]
     },
     "execution_count": 70,
     "metadata": {},
     "output_type": "execute_result"
    }
   ],
   "source": [
    "X2, y2 = df_to_X_y(close_df)\n",
    "X2.shape, y2.shape"
   ]
  },
  {
   "cell_type": "code",
   "execution_count": 71,
   "metadata": {},
   "outputs": [
    {
     "data": {
      "text/plain": [
       "((3300, 20, 5), (3300,), (200, 20, 5), (200,), (181, 20, 5), (181,))"
      ]
     },
     "execution_count": 71,
     "metadata": {},
     "output_type": "execute_result"
    }
   ],
   "source": [
    "X2_train, y2_train = X2[:3300], y2[:3300]\n",
    "X2_val, y2_val = X2[3300:3500], y2[3300:3500]\n",
    "X2_test, y2_test = X2[3500:], y2[3500:]\n",
    "X2_train.shape, y2_train.shape, X2_val.shape, y2_val.shape, X2_test.shape, y2_test.shape"
   ]
  },
  {
   "cell_type": "code",
   "execution_count": 72,
   "metadata": {},
   "outputs": [],
   "source": [
    "temp_training_mean = np.mean(X2_train[:, :, 0])\n",
    "temp_training_std = np.std(X2_train[:, :, 0])\n",
    "                           \n",
    "def preprocess(X):\n",
    "  X[:, :, 0] = (X[:, :, 0] - temp_training_mean) / temp_training_std\n",
    "  return X"
   ]
  },
  {
   "cell_type": "code",
   "execution_count": 73,
   "metadata": {},
   "outputs": [
    {
     "data": {
      "text/plain": [
       "array([[[ 2.15660326e+00,  7.81831482e-01,  6.23489802e-01,\n",
       "          9.98284319e-01,  5.85526988e-02],\n",
       "        [ 1.98190637e+00,  9.74927912e-01, -2.22520934e-01,\n",
       "          9.99143828e-01,  4.13716195e-02],\n",
       "        [ 2.24295575e+00,  4.33883739e-01, -9.00968868e-01,\n",
       "          9.99707662e-01,  2.41782972e-02],\n",
       "        ...,\n",
       "        [ 1.50722133e+00, -4.33883739e-01, -9.00968868e-01,\n",
       "          9.72778918e-01, -2.31735143e-01],\n",
       "        [ 1.44256187e+00, -9.74927912e-01, -2.22520934e-01,\n",
       "          9.68648690e-01, -2.48434528e-01],\n",
       "        [ 1.33774810e+00, -7.81831482e-01,  6.23489802e-01,\n",
       "          9.64231812e-01, -2.65060395e-01]],\n",
       "\n",
       "       [[ 1.98190637e+00,  9.74927912e-01, -2.22520934e-01,\n",
       "          9.99143828e-01,  4.13716195e-02],\n",
       "        [ 2.24295575e+00,  4.33883739e-01, -9.00968868e-01,\n",
       "          9.99707662e-01,  2.41782972e-02],\n",
       "        [ 2.05732447e+00, -4.33883739e-01, -9.00968868e-01,\n",
       "          9.99975655e-01,  6.97781983e-03],\n",
       "        ...,\n",
       "        [ 1.44256187e+00, -9.74927912e-01, -2.22520934e-01,\n",
       "          9.68648690e-01, -2.48434528e-01],\n",
       "        [ 1.33774810e+00, -7.81831482e-01,  6.23489802e-01,\n",
       "          9.64231812e-01, -2.65060395e-01],\n",
       "        [ 1.39577697e+00,  1.44484876e-12,  1.00000000e+00,\n",
       "          9.59529590e-01, -2.81607822e-01]],\n",
       "\n",
       "       [[ 2.24295575e+00,  4.33883739e-01, -9.00968868e-01,\n",
       "          9.99707662e-01,  2.41782972e-02],\n",
       "        [ 2.05732447e+00, -4.33883739e-01, -9.00968868e-01,\n",
       "          9.99975655e-01,  6.97781983e-03],\n",
       "        [ 1.77245022e+00, -9.74927912e-01, -2.22520934e-01,\n",
       "          9.99947726e-01, -1.02247225e-02],\n",
       "        ...,\n",
       "        [ 1.33774810e+00, -7.81831482e-01,  6.23489802e-01,\n",
       "          9.64231812e-01, -2.65060395e-01],\n",
       "        [ 1.39577697e+00,  1.44484876e-12,  1.00000000e+00,\n",
       "          9.59529590e-01, -2.81607822e-01],\n",
       "        [ 1.44647668e+00,  7.81831482e-01,  6.23489802e-01,\n",
       "          9.54543417e-01, -2.98071914e-01]],\n",
       "\n",
       "       ...,\n",
       "\n",
       "       [[ 8.42058746e-01, -4.33883739e-01, -9.00968868e-01,\n",
       "         -9.90481469e-01, -1.37646142e-01],\n",
       "        [ 8.63911449e-01, -9.74927912e-01, -2.22520934e-01,\n",
       "         -9.92702692e-01, -1.20587584e-01],\n",
       "        [ 8.47812602e-01, -7.81831482e-01,  6.23489802e-01,\n",
       "         -9.94630147e-01, -1.03493340e-01],\n",
       "        ...,\n",
       "        [ 8.15929380e-01, -2.31049905e-13,  1.00000000e+00,\n",
       "         -9.88109721e-01,  1.53750378e-01],\n",
       "        [ 8.75914428e-01,  7.81831482e-01,  6.23489802e-01,\n",
       "         -9.85318714e-01,  1.70725021e-01],\n",
       "        [ 8.84101839e-01,  9.74927912e-01, -2.22520934e-01,\n",
       "         -9.82236122e-01,  1.87649142e-01]],\n",
       "\n",
       "       [[ 8.63911449e-01, -9.74927912e-01, -2.22520934e-01,\n",
       "         -9.92702692e-01, -1.20587584e-01],\n",
       "        [ 8.47812602e-01, -7.81831482e-01,  6.23489802e-01,\n",
       "         -9.94630147e-01, -1.03493340e-01],\n",
       "        [ 9.68544627e-01, -1.55216953e-12,  1.00000000e+00,\n",
       "         -9.96263262e-01, -8.63684702e-02],\n",
       "        ...,\n",
       "        [ 8.75914428e-01,  7.81831482e-01,  6.23489802e-01,\n",
       "         -9.85318714e-01,  1.70725021e-01],\n",
       "        [ 8.84101839e-01,  9.74927912e-01, -2.22520934e-01,\n",
       "         -9.82236122e-01,  1.87649142e-01],\n",
       "        [ 8.83587948e-01,  4.33883739e-01, -9.00968868e-01,\n",
       "         -9.78862859e-01,  2.04517732e-01]],\n",
       "\n",
       "       [[ 8.47812602e-01, -7.81831482e-01,  6.23489802e-01,\n",
       "         -9.94630147e-01, -1.03493340e-01],\n",
       "        [ 9.68544627e-01, -1.55216953e-12,  1.00000000e+00,\n",
       "         -9.96263262e-01, -8.63684702e-02],\n",
       "        [ 1.03592577e+00,  7.81831482e-01,  6.23489802e-01,\n",
       "         -9.97601555e-01, -6.92180413e-02],\n",
       "        ...,\n",
       "        [ 8.84101839e-01,  9.74927912e-01, -2.22520934e-01,\n",
       "         -9.82236122e-01,  1.87649142e-01],\n",
       "        [ 8.83587948e-01,  4.33883739e-01, -9.00968868e-01,\n",
       "         -9.78862859e-01,  2.04517732e-01],\n",
       "        [ 9.49768041e-01, -4.33883739e-01, -9.00968868e-01,\n",
       "         -9.75199923e-01,  2.21325800e-01]]])"
      ]
     },
     "execution_count": 73,
     "metadata": {},
     "output_type": "execute_result"
    }
   ],
   "source": [
    "preprocess(X2_train)\n",
    "preprocess(X2_val)\n",
    "preprocess(X2_test)"
   ]
  },
  {
   "cell_type": "code",
   "execution_count": 74,
   "metadata": {},
   "outputs": [
    {
     "data": {
      "text/html": [
       "<pre style=\"white-space:pre;overflow-x:auto;line-height:normal;font-family:Menlo,'DejaVu Sans Mono',consolas,'Courier New',monospace\"><span style=\"font-weight: bold\">Model: \"sequential_4\"</span>\n",
       "</pre>\n"
      ],
      "text/plain": [
       "\u001b[1mModel: \"sequential_4\"\u001b[0m\n"
      ]
     },
     "metadata": {},
     "output_type": "display_data"
    },
    {
     "data": {
      "text/html": [
       "<pre style=\"white-space:pre;overflow-x:auto;line-height:normal;font-family:Menlo,'DejaVu Sans Mono',consolas,'Courier New',monospace\">┏━━━━━━━━━━━━━━━━━━━━━━━━━━━━━━━━━┳━━━━━━━━━━━━━━━━━━━━━━━━┳━━━━━━━━━━━━━━━┓\n",
       "┃<span style=\"font-weight: bold\"> Layer (type)                    </span>┃<span style=\"font-weight: bold\"> Output Shape           </span>┃<span style=\"font-weight: bold\">       Param # </span>┃\n",
       "┡━━━━━━━━━━━━━━━━━━━━━━━━━━━━━━━━━╇━━━━━━━━━━━━━━━━━━━━━━━━╇━━━━━━━━━━━━━━━┩\n",
       "│ lstm_3 (<span style=\"color: #0087ff; text-decoration-color: #0087ff\">LSTM</span>)                   │ (<span style=\"color: #00d7ff; text-decoration-color: #00d7ff\">None</span>, <span style=\"color: #00af00; text-decoration-color: #00af00\">64</span>)             │        <span style=\"color: #00af00; text-decoration-color: #00af00\">17,920</span> │\n",
       "├─────────────────────────────────┼────────────────────────┼───────────────┤\n",
       "│ dense_8 (<span style=\"color: #0087ff; text-decoration-color: #0087ff\">Dense</span>)                 │ (<span style=\"color: #00d7ff; text-decoration-color: #00d7ff\">None</span>, <span style=\"color: #00af00; text-decoration-color: #00af00\">8</span>)              │           <span style=\"color: #00af00; text-decoration-color: #00af00\">520</span> │\n",
       "├─────────────────────────────────┼────────────────────────┼───────────────┤\n",
       "│ dense_9 (<span style=\"color: #0087ff; text-decoration-color: #0087ff\">Dense</span>)                 │ (<span style=\"color: #00d7ff; text-decoration-color: #00d7ff\">None</span>, <span style=\"color: #00af00; text-decoration-color: #00af00\">1</span>)              │             <span style=\"color: #00af00; text-decoration-color: #00af00\">9</span> │\n",
       "└─────────────────────────────────┴────────────────────────┴───────────────┘\n",
       "</pre>\n"
      ],
      "text/plain": [
       "┏━━━━━━━━━━━━━━━━━━━━━━━━━━━━━━━━━┳━━━━━━━━━━━━━━━━━━━━━━━━┳━━━━━━━━━━━━━━━┓\n",
       "┃\u001b[1m \u001b[0m\u001b[1mLayer (type)                   \u001b[0m\u001b[1m \u001b[0m┃\u001b[1m \u001b[0m\u001b[1mOutput Shape          \u001b[0m\u001b[1m \u001b[0m┃\u001b[1m \u001b[0m\u001b[1m      Param #\u001b[0m\u001b[1m \u001b[0m┃\n",
       "┡━━━━━━━━━━━━━━━━━━━━━━━━━━━━━━━━━╇━━━━━━━━━━━━━━━━━━━━━━━━╇━━━━━━━━━━━━━━━┩\n",
       "│ lstm_3 (\u001b[38;5;33mLSTM\u001b[0m)                   │ (\u001b[38;5;45mNone\u001b[0m, \u001b[38;5;34m64\u001b[0m)             │        \u001b[38;5;34m17,920\u001b[0m │\n",
       "├─────────────────────────────────┼────────────────────────┼───────────────┤\n",
       "│ dense_8 (\u001b[38;5;33mDense\u001b[0m)                 │ (\u001b[38;5;45mNone\u001b[0m, \u001b[38;5;34m8\u001b[0m)              │           \u001b[38;5;34m520\u001b[0m │\n",
       "├─────────────────────────────────┼────────────────────────┼───────────────┤\n",
       "│ dense_9 (\u001b[38;5;33mDense\u001b[0m)                 │ (\u001b[38;5;45mNone\u001b[0m, \u001b[38;5;34m1\u001b[0m)              │             \u001b[38;5;34m9\u001b[0m │\n",
       "└─────────────────────────────────┴────────────────────────┴───────────────┘\n"
      ]
     },
     "metadata": {},
     "output_type": "display_data"
    },
    {
     "data": {
      "text/html": [
       "<pre style=\"white-space:pre;overflow-x:auto;line-height:normal;font-family:Menlo,'DejaVu Sans Mono',consolas,'Courier New',monospace\"><span style=\"font-weight: bold\"> Total params: </span><span style=\"color: #00af00; text-decoration-color: #00af00\">18,449</span> (72.07 KB)\n",
       "</pre>\n"
      ],
      "text/plain": [
       "\u001b[1m Total params: \u001b[0m\u001b[38;5;34m18,449\u001b[0m (72.07 KB)\n"
      ]
     },
     "metadata": {},
     "output_type": "display_data"
    },
    {
     "data": {
      "text/html": [
       "<pre style=\"white-space:pre;overflow-x:auto;line-height:normal;font-family:Menlo,'DejaVu Sans Mono',consolas,'Courier New',monospace\"><span style=\"font-weight: bold\"> Trainable params: </span><span style=\"color: #00af00; text-decoration-color: #00af00\">18,449</span> (72.07 KB)\n",
       "</pre>\n"
      ],
      "text/plain": [
       "\u001b[1m Trainable params: \u001b[0m\u001b[38;5;34m18,449\u001b[0m (72.07 KB)\n"
      ]
     },
     "metadata": {},
     "output_type": "display_data"
    },
    {
     "data": {
      "text/html": [
       "<pre style=\"white-space:pre;overflow-x:auto;line-height:normal;font-family:Menlo,'DejaVu Sans Mono',consolas,'Courier New',monospace\"><span style=\"font-weight: bold\"> Non-trainable params: </span><span style=\"color: #00af00; text-decoration-color: #00af00\">0</span> (0.00 B)\n",
       "</pre>\n"
      ],
      "text/plain": [
       "\u001b[1m Non-trainable params: \u001b[0m\u001b[38;5;34m0\u001b[0m (0.00 B)\n"
      ]
     },
     "metadata": {},
     "output_type": "display_data"
    }
   ],
   "source": [
    "model = Sequential()\n",
    "model.add(InputLayer((6, 5)))\n",
    "model.add(LSTM(64))\n",
    "model.add(Dense(8, 'relu'))\n",
    "model.add(Dense(1, 'linear'))\n",
    "\n",
    "model.summary()"
   ]
  },
  {
   "cell_type": "code",
   "execution_count": 75,
   "metadata": {},
   "outputs": [],
   "source": [
    "cp = ModelCheckpoint('model/model.keras', save_best_only=True)\n",
    "model.compile(loss=MeanSquaredError(), optimizer=Adam(learning_rate=0.0001), metrics=[RootMeanSquaredError()])"
   ]
  },
  {
   "cell_type": "code",
   "execution_count": 76,
   "metadata": {},
   "outputs": [
    {
     "name": "stdout",
     "output_type": "stream",
     "text": [
      "Epoch 1/10\n",
      "\u001b[1m104/104\u001b[0m \u001b[32m━━━━━━━━━━━━━━━━━━━━\u001b[0m\u001b[37m\u001b[0m \u001b[1m2s\u001b[0m 7ms/step - loss: 0.0095 - root_mean_squared_error: 0.0952 - val_loss: 0.0017 - val_root_mean_squared_error: 0.0414\n",
      "Epoch 2/10\n",
      "\u001b[1m104/104\u001b[0m \u001b[32m━━━━━━━━━━━━━━━━━━━━\u001b[0m\u001b[37m\u001b[0m \u001b[1m1s\u001b[0m 6ms/step - loss: 0.0012 - root_mean_squared_error: 0.0340 - val_loss: 7.1326e-04 - val_root_mean_squared_error: 0.0267\n",
      "Epoch 3/10\n",
      "\u001b[1m104/104\u001b[0m \u001b[32m━━━━━━━━━━━━━━━━━━━━\u001b[0m\u001b[37m\u001b[0m \u001b[1m1s\u001b[0m 5ms/step - loss: 5.4372e-04 - root_mean_squared_error: 0.0232 - val_loss: 4.3205e-04 - val_root_mean_squared_error: 0.0208\n",
      "Epoch 4/10\n",
      "\u001b[1m104/104\u001b[0m \u001b[32m━━━━━━━━━━━━━━━━━━━━\u001b[0m\u001b[37m\u001b[0m \u001b[1m1s\u001b[0m 5ms/step - loss: 4.2197e-04 - root_mean_squared_error: 0.0204 - val_loss: 3.3958e-04 - val_root_mean_squared_error: 0.0184\n",
      "Epoch 5/10\n",
      "\u001b[1m104/104\u001b[0m \u001b[32m━━━━━━━━━━━━━━━━━━━━\u001b[0m\u001b[37m\u001b[0m \u001b[1m1s\u001b[0m 6ms/step - loss: 2.5921e-04 - root_mean_squared_error: 0.0161 - val_loss: 2.4817e-04 - val_root_mean_squared_error: 0.0158\n",
      "Epoch 6/10\n",
      "\u001b[1m104/104\u001b[0m \u001b[32m━━━━━━━━━━━━━━━━━━━━\u001b[0m\u001b[37m\u001b[0m \u001b[1m1s\u001b[0m 5ms/step - loss: 1.9797e-04 - root_mean_squared_error: 0.0140 - val_loss: 2.5661e-04 - val_root_mean_squared_error: 0.0160\n",
      "Epoch 7/10\n",
      "\u001b[1m104/104\u001b[0m \u001b[32m━━━━━━━━━━━━━━━━━━━━\u001b[0m\u001b[37m\u001b[0m \u001b[1m1s\u001b[0m 6ms/step - loss: 2.0316e-04 - root_mean_squared_error: 0.0142 - val_loss: 1.7930e-04 - val_root_mean_squared_error: 0.0134\n",
      "Epoch 8/10\n",
      "\u001b[1m104/104\u001b[0m \u001b[32m━━━━━━━━━━━━━━━━━━━━\u001b[0m\u001b[37m\u001b[0m \u001b[1m1s\u001b[0m 5ms/step - loss: 1.5900e-04 - root_mean_squared_error: 0.0125 - val_loss: 1.7592e-04 - val_root_mean_squared_error: 0.0133\n",
      "Epoch 9/10\n",
      "\u001b[1m104/104\u001b[0m \u001b[32m━━━━━━━━━━━━━━━━━━━━\u001b[0m\u001b[37m\u001b[0m \u001b[1m1s\u001b[0m 5ms/step - loss: 2.0438e-04 - root_mean_squared_error: 0.0142 - val_loss: 1.3286e-04 - val_root_mean_squared_error: 0.0115\n",
      "Epoch 10/10\n",
      "\u001b[1m104/104\u001b[0m \u001b[32m━━━━━━━━━━━━━━━━━━━━\u001b[0m\u001b[37m\u001b[0m \u001b[1m1s\u001b[0m 6ms/step - loss: 1.5062e-04 - root_mean_squared_error: 0.0121 - val_loss: 1.3106e-04 - val_root_mean_squared_error: 0.0114\n"
     ]
    },
    {
     "data": {
      "text/plain": [
       "<keras.src.callbacks.history.History at 0x21de7cd9130>"
      ]
     },
     "execution_count": 76,
     "metadata": {},
     "output_type": "execute_result"
    }
   ],
   "source": [
    "model.fit(X2_train, y2_train, validation_data=(X2_val, y2_val), epochs=10, callbacks=[cp])"
   ]
  },
  {
   "cell_type": "code",
   "execution_count": 77,
   "metadata": {},
   "outputs": [],
   "source": [
    "def plot_predictions(model, X, y):\n",
    "  predictions = model.predict(X).flatten()\n",
    "  df = pd.DataFrame(data={'Predictions':predictions, 'Actuals':y})\n",
    "  plt.plot(df['Predictions'])\n",
    "  plt.plot(df['Actuals'])\n",
    "  return df, mse(y, predictions)"
   ]
  },
  {
   "cell_type": "code",
   "execution_count": 78,
   "metadata": {},
   "outputs": [
    {
     "name": "stdout",
     "output_type": "stream",
     "text": [
      "\u001b[1m6/6\u001b[0m \u001b[32m━━━━━━━━━━━━━━━━━━━━\u001b[0m\u001b[37m\u001b[0m \u001b[1m0s\u001b[0m 24ms/step\n"
     ]
    },
    {
     "data": {
      "text/plain": [
       "(     Predictions   Actuals\n",
       " 0       0.138495  0.152317\n",
       " 1       0.141860  0.156372\n",
       " 2       0.147581  0.162688\n",
       " 3       0.154570  0.158271\n",
       " 4       0.158214  0.161264\n",
       " ..           ...       ...\n",
       " 176     0.127886  0.110740\n",
       " 177     0.124877  0.111395\n",
       " 178     0.119711  0.111354\n",
       " 179     0.123687  0.116647\n",
       " 180     0.129584  0.115598\n",
       " \n",
       " [181 rows x 2 columns],\n",
       " 0.00025470162118030394)"
      ]
     },
     "execution_count": 78,
     "metadata": {},
     "output_type": "execute_result"
    },
    {
     "data": {
      "image/png": "[encoded data removed]",
      "text/plain": [
       "<Figure size 640x480 with 1 Axes>"
      ]
     },
     "metadata": {},
     "output_type": "display_data"
    }
   ],
   "source": [
    "plot_predictions(model, X2_test, y2_test)"
   ]
  },
  {
   "cell_type": "code",
   "execution_count": 79,
   "metadata": {},
   "outputs": [
    {
     "data": {
      "text/html": [
       "<div>\n",
       "<style scoped>\n",
       "    .dataframe tbody tr th:only-of-type {\n",
       "        vertical-align: middle;\n",
       "    }\n",
       "\n",
       "    .dataframe tbody tr th {\n",
       "        vertical-align: top;\n",
       "    }\n",
       "\n",
       "    .dataframe thead th {\n",
       "        text-align: right;\n",
       "    }\n",
       "</style>\n",
       "<table border=\"1\" class=\"dataframe\">\n",
       "  <thead>\n",
       "    <tr style=\"text-align: right;\">\n",
       "      <th></th>\n",
       "      <th>high</th>\n",
       "      <th>close</th>\n",
       "      <th>Week sin</th>\n",
       "      <th>Week cos</th>\n",
       "      <th>Year sin</th>\n",
       "      <th>Year cos</th>\n",
       "    </tr>\n",
       "    <tr>\n",
       "      <th>timestamp</th>\n",
       "      <th></th>\n",
       "      <th></th>\n",
       "      <th></th>\n",
       "      <th></th>\n",
       "      <th></th>\n",
       "      <th></th>\n",
       "    </tr>\n",
       "  </thead>\n",
       "  <tbody>\n",
       "    <tr>\n",
       "      <th>2014-08-26</th>\n",
       "      <td>0.000151</td>\n",
       "      <td>0.000151</td>\n",
       "      <td>-9.749279e-01</td>\n",
       "      <td>-0.222521</td>\n",
       "      <td>-0.808231</td>\n",
       "      <td>-0.588865</td>\n",
       "    </tr>\n",
       "    <tr>\n",
       "      <th>2014-08-28</th>\n",
       "      <td>0.000139</td>\n",
       "      <td>0.000139</td>\n",
       "      <td>2.393333e-13</td>\n",
       "      <td>1.000000</td>\n",
       "      <td>-0.828009</td>\n",
       "      <td>-0.560714</td>\n",
       "    </tr>\n",
       "    <tr>\n",
       "      <th>2014-08-29</th>\n",
       "      <td>0.000142</td>\n",
       "      <td>0.000127</td>\n",
       "      <td>7.818315e-01</td>\n",
       "      <td>0.623490</td>\n",
       "      <td>-0.837532</td>\n",
       "      <td>-0.546388</td>\n",
       "    </tr>\n",
       "    <tr>\n",
       "      <th>2014-08-31</th>\n",
       "      <td>0.000130</td>\n",
       "      <td>0.000130</td>\n",
       "      <td>4.338837e-01</td>\n",
       "      <td>-0.900969</td>\n",
       "      <td>-0.855832</td>\n",
       "      <td>-0.517255</td>\n",
       "    </tr>\n",
       "    <tr>\n",
       "      <th>2014-09-01</th>\n",
       "      <td>0.000135</td>\n",
       "      <td>0.000130</td>\n",
       "      <td>-4.338837e-01</td>\n",
       "      <td>-0.900969</td>\n",
       "      <td>-0.864603</td>\n",
       "      <td>-0.502456</td>\n",
       "    </tr>\n",
       "  </tbody>\n",
       "</table>\n",
       "</div>"
      ],
      "text/plain": [
       "                high     close      Week sin  Week cos  Year sin  Year cos\n",
       "timestamp                                                                 \n",
       "2014-08-26  0.000151  0.000151 -9.749279e-01 -0.222521 -0.808231 -0.588865\n",
       "2014-08-28  0.000139  0.000139  2.393333e-13  1.000000 -0.828009 -0.560714\n",
       "2014-08-29  0.000142  0.000127  7.818315e-01  0.623490 -0.837532 -0.546388\n",
       "2014-08-31  0.000130  0.000130  4.338837e-01 -0.900969 -0.855832 -0.517255\n",
       "2014-09-01  0.000135  0.000130 -4.338837e-01 -0.900969 -0.864603 -0.502456"
      ]
     },
     "execution_count": 79,
     "metadata": {},
     "output_type": "execute_result"
    }
   ],
   "source": [
    "v_close_df = pd.concat([token_df['high'], close_df], axis=1)\n",
    "v_close_df.head()"
   ]
  },
  {
   "cell_type": "code",
   "execution_count": 80,
   "metadata": {},
   "outputs": [],
   "source": [
    "def df_to_X_y3(df, window_size=15):\n",
    "  df_as_np = df.to_numpy()\n",
    "  X = []\n",
    "  y = []\n",
    "  for i in range(len(df_as_np)-window_size):\n",
    "    row = [r for r in df_as_np[i:i+window_size]]\n",
    "    X.append(row)\n",
    "    label = [df_as_np[i+window_size][0], df_as_np[i+window_size][1]]\n",
    "    y.append(label)\n",
    "  return np.array(X), np.array(y)"
   ]
  },
  {
   "cell_type": "code",
   "execution_count": 81,
   "metadata": {},
   "outputs": [
    {
     "data": {
      "text/plain": [
       "((3686, 15, 6), (3686, 2))"
      ]
     },
     "execution_count": 81,
     "metadata": {},
     "output_type": "execute_result"
    }
   ],
   "source": [
    "X3, y3 = df_to_X_y3(v_close_df)\n",
    "X3.shape, y3.shape"
   ]
  },
  {
   "cell_type": "code",
   "execution_count": 82,
   "metadata": {},
   "outputs": [
    {
     "data": {
      "text/plain": [
       "((3300, 15, 6), (3300, 2), (200, 15, 6), (200, 2), (186, 15, 6), (186, 2))"
      ]
     },
     "execution_count": 82,
     "metadata": {},
     "output_type": "execute_result"
    }
   ],
   "source": [
    "X3_train, y3_train = X3[:3300], y3[:3300]\n",
    "X3_val, y3_val = X3[3300:3500], y3[3300:3500]\n",
    "X3_test, y3_test = X3[3500:], y3[3500:]\n",
    "X3_train.shape, y3_train.shape, X3_val.shape, y3_val.shape, X3_test.shape, y3_test.shape"
   ]
  },
  {
   "cell_type": "code",
   "execution_count": 83,
   "metadata": {},
   "outputs": [],
   "source": [
    "p_training_mean3 = np.mean(X3_train[:, :, 0])\n",
    "p_training_std3 = np.std(X3_train[:, :, 0])\n",
    "\n",
    "temp_training_mean3 = np.mean(X3_train[:, :, 1])\n",
    "temp_training_std3 = np.std(X3_train[:, :, 1])\n",
    "\n",
    "def preprocess3(X):\n",
    "  X[:, :, 0] = (X[:, :, 0] - p_training_mean3) / p_training_std3\n",
    "  X[:, :, 1] = (X[:, :, 1] - temp_training_mean3) / temp_training_std3\n",
    "\n",
    "def preprocess_output3(y):\n",
    "  y[:, 0] = (y[:, 0] - p_training_mean3) / p_training_std3\n",
    "  y[:, 1] = (y[:, 1] - temp_training_mean3) / temp_training_std3\n",
    "  return y"
   ]
  },
  {
   "cell_type": "code",
   "execution_count": 84,
   "metadata": {},
   "outputs": [],
   "source": [
    "preprocess3(X3_train)\n",
    "preprocess3(X3_val)\n",
    "preprocess3(X3_test)"
   ]
  },
  {
   "cell_type": "code",
   "execution_count": 85,
   "metadata": {},
   "outputs": [
    {
     "data": {
      "text/plain": [
       "array([[1.55492   , 1.39988063],\n",
       "       [1.42367704, 1.5214861 ],\n",
       "       [1.47443788, 1.5076942 ],\n",
       "       [1.39679904, 1.44303935],\n",
       "       [1.3545665 , 1.33823305],\n",
       "       [1.30043156, 1.39625778],\n",
       "       [1.3351155 , 1.44695388],\n",
       "       [1.42798639, 1.52591961],\n",
       "       [1.43743098, 1.47068746],\n",
       "       [1.4087485 , 1.5081125 ],\n",
       "       [1.40222246, 1.48972405],\n",
       "       [1.41831981, 1.38407284],\n",
       "       [1.30019725, 1.38300181],\n",
       "       [1.27337934, 1.34102906],\n",
       "       [1.24654846, 1.33832308],\n",
       "       [1.28454067, 1.32551215],\n",
       "       [1.23193886, 1.28472737],\n",
       "       [1.2052156 , 1.15784351],\n",
       "       [1.06321382, 1.1185318 ],\n",
       "       [1.06899732, 1.14183676],\n",
       "       [1.22922761, 1.31819796],\n",
       "       [1.47990519, 1.49454564],\n",
       "       [1.40998951, 1.50493818],\n",
       "       [1.47452915, 1.44849843],\n",
       "       [1.36796944, 1.36759825],\n",
       "       [1.27515167, 1.2824671 ],\n",
       "       [1.29933383, 1.39385009],\n",
       "       [1.296967  , 1.29169307],\n",
       "       [1.20878619, 1.28019814],\n",
       "       [1.1874117 , 1.25693626],\n",
       "       [1.33410869, 1.35027881],\n",
       "       [1.30889212, 1.3103393 ],\n",
       "       [1.33494158, 1.43478829],\n",
       "       [1.35963738, 1.36393933],\n",
       "       [1.33164491, 1.43779996],\n",
       "       [1.33338094, 1.40534006],\n",
       "       [1.32344005, 1.35611307],\n",
       "       [1.43989819, 1.565185  ],\n",
       "       [1.52242864, 1.62040288],\n",
       "       [1.53880988, 1.57099877],\n",
       "       [1.47730593, 1.4878542 ],\n",
       "       [1.51677295, 1.54031027],\n",
       "       [1.5338336 , 1.66526845],\n",
       "       [1.54178566, 1.56902791],\n",
       "       [1.52605099, 1.6048531 ],\n",
       "       [1.48164558, 1.55256374],\n",
       "       [1.49091743, 1.53816474],\n",
       "       [1.43356853, 1.48544555],\n",
       "       [1.39650032, 1.47814041],\n",
       "       [1.3865418 , 1.49462228],\n",
       "       [1.38372696, 1.45553196],\n",
       "       [1.40908852, 1.47189378],\n",
       "       [1.39056037, 1.5098924 ],\n",
       "       [1.42545805, 1.53275704],\n",
       "       [1.4322791 , 1.49344973],\n",
       "       [1.3940839 , 1.34490258],\n",
       "       [1.23661612, 1.3159318 ],\n",
       "       [1.2421568 , 1.32706208],\n",
       "       [1.22805012, 1.30129825],\n",
       "       [1.19485528, 1.21817791],\n",
       "       [1.25774273, 1.31985879],\n",
       "       [1.21015472, 1.25547957],\n",
       "       [1.17452959, 1.17917216],\n",
       "       [1.10473841, 1.20157109],\n",
       "       [1.10648768, 1.20520397],\n",
       "       [1.11340162, 1.10164714],\n",
       "       [1.0098517 , 1.02002643],\n",
       "       [0.9784591 , 1.02286866],\n",
       "       [1.00053279, 1.0496652 ],\n",
       "       [0.96826822, 1.04384104],\n",
       "       [0.96591697, 1.0388056 ],\n",
       "       [0.97533612, 1.01918087],\n",
       "       [0.94655721, 0.979186  ],\n",
       "       [0.99871183, 1.06877498],\n",
       "       [1.00179816, 1.02637085],\n",
       "       [0.99760077, 1.08109283],\n",
       "       [0.99969861, 1.02898809],\n",
       "       [0.95332878, 1.01392632],\n",
       "       [0.96539367, 1.04667797],\n",
       "       [0.98752017, 1.03493974],\n",
       "       [0.96379974, 1.05747908],\n",
       "       [0.9654457 , 0.97208241],\n",
       "       [0.89119148, 0.80412651],\n",
       "       [0.74450335, 0.81018089],\n",
       "       [0.83349796, 0.91119314],\n",
       "       [0.82594617, 0.79552931],\n",
       "       [0.80228401, 0.83690618],\n",
       "       [0.77820864, 0.83691184],\n",
       "       [0.79078575, 0.84353077],\n",
       "       [0.81172377, 0.82533595],\n",
       "       [0.76541319, 0.83846602],\n",
       "       [0.8200178 , 0.89675532],\n",
       "       [0.86355391, 0.93467747],\n",
       "       [0.9662253 , 1.05444712],\n",
       "       [0.99108201, 1.05268971],\n",
       "       [0.99235738, 1.01442103],\n",
       "       [0.94706365, 0.98617539],\n",
       "       [0.97304296, 1.06113379],\n",
       "       [1.08636628, 1.17075262],\n",
       "       [1.17787526, 1.24553403],\n",
       "       [1.16441986, 1.2153002 ],\n",
       "       [1.12610519, 1.12151789],\n",
       "       [1.07395969, 1.09170586],\n",
       "       [1.00372955, 1.05829931],\n",
       "       [1.07667628, 1.17005113],\n",
       "       [1.12080443, 1.13520487],\n",
       "       [1.04060983, 1.11809624],\n",
       "       [1.07926624, 1.0987299 ],\n",
       "       [1.02375581, 1.06073337],\n",
       "       [0.98699369, 1.01600105],\n",
       "       [0.93809049, 0.97929181],\n",
       "       [0.89824712, 0.8854754 ],\n",
       "       [0.83918766, 0.84354847],\n",
       "       [0.77697076, 0.78875924],\n",
       "       [0.71774451, 0.67241585],\n",
       "       [0.68503198, 0.69804518],\n",
       "       [0.69062422, 0.68625782],\n",
       "       [0.76110928, 0.83532033],\n",
       "       [0.75831404, 0.79095719],\n",
       "       [0.73771714, 0.80757739],\n",
       "       [0.79637502, 0.7491934 ],\n",
       "       [0.76773523, 0.84086023],\n",
       "       [0.7733422 , 0.82233688],\n",
       "       [0.74823541, 0.77272467],\n",
       "       [0.72481807, 0.74528869],\n",
       "       [0.69226251, 0.74668962],\n",
       "       [0.71101324, 0.77675498],\n",
       "       [0.71945885, 0.74320248],\n",
       "       [0.68963117, 0.75944717],\n",
       "       [0.73479848, 0.77861719],\n",
       "       [0.76083564, 0.81936349],\n",
       "       [0.74909715, 0.80797484],\n",
       "       [0.84958241, 0.90457126],\n",
       "       [0.8434718 , 0.89997328],\n",
       "       [0.81853238, 0.86344168],\n",
       "       [0.78909643, 0.8076768 ],\n",
       "       [0.74415544, 0.72920157],\n",
       "       [0.68913895, 0.73774019],\n",
       "       [0.69727874, 0.74720743],\n",
       "       [0.69709328, 0.76456027],\n",
       "       [0.69565459, 0.75786685],\n",
       "       [0.68545498, 0.68127386],\n",
       "       [0.66577576, 0.73091445],\n",
       "       [0.67760826, 0.70119832],\n",
       "       [0.66231201, 0.71701374],\n",
       "       [0.65856696, 0.722163  ],\n",
       "       [0.66126916, 0.64878625],\n",
       "       [0.61858271, 0.68213843],\n",
       "       [0.63289466, 0.6937224 ],\n",
       "       [0.72378816, 0.78919906],\n",
       "       [0.72137794, 0.77699571],\n",
       "       [0.70366412, 0.75868137],\n",
       "       [0.70716424, 0.77602532],\n",
       "       [0.76638042, 0.83036282],\n",
       "       [0.75787841, 0.80993792],\n",
       "       [0.74467954, 0.77788935],\n",
       "       [0.70547576, 0.73767548],\n",
       "       [0.69930325, 0.75634966],\n",
       "       [0.7130069 , 0.78986937],\n",
       "       [0.75186487, 0.80463759],\n",
       "       [0.75544755, 0.81155949],\n",
       "       [0.78977883, 0.86681841],\n",
       "       [0.78488781, 0.82172766],\n",
       "       [0.77374837, 0.84257905],\n",
       "       [0.79325857, 0.8644302 ],\n",
       "       [0.79799702, 0.8483325 ],\n",
       "       [0.90407888, 0.96905591],\n",
       "       [1.00214394, 1.03643225],\n",
       "       [1.04170929, 1.09370734],\n",
       "       [1.0232953 , 1.04737278],\n",
       "       [0.95509704, 0.92045905],\n",
       "       [0.89397494, 0.82801226],\n",
       "       [0.77908495, 0.79978503],\n",
       "       [0.74749865, 0.80562396],\n",
       "       [0.79143824, 0.85774312],\n",
       "       [0.78645547, 0.85979747],\n",
       "       [0.81715428, 0.88677456],\n",
       "       [0.84847287, 0.84750801],\n",
       "       [0.78296252, 0.83048195],\n",
       "       [0.80054055, 0.84031559],\n",
       "       [0.768121  , 0.81645155],\n",
       "       [0.80124639, 0.87643232],\n",
       "       [0.81154133, 0.88461915],\n",
       "       [0.80933774, 0.88410529],\n",
       "       [0.87488489, 0.95028067],\n",
       "       [0.89140533, 0.93716517]])"
      ]
     },
     "execution_count": 85,
     "metadata": {},
     "output_type": "execute_result"
    }
   ],
   "source": [
    "preprocess_output3(y3_train)\n",
    "preprocess_output3(y3_val)\n",
    "preprocess_output3(y3_test)"
   ]
  },
  {
   "cell_type": "code",
   "execution_count": 86,
   "metadata": {},
   "outputs": [
    {
     "data": {
      "text/html": [
       "<pre style=\"white-space:pre;overflow-x:auto;line-height:normal;font-family:Menlo,'DejaVu Sans Mono',consolas,'Courier New',monospace\"><span style=\"font-weight: bold\">Model: \"sequential_5\"</span>\n",
       "</pre>\n"
      ],
      "text/plain": [
       "\u001b[1mModel: \"sequential_5\"\u001b[0m\n"
      ]
     },
     "metadata": {},
     "output_type": "display_data"
    },
    {
     "data": {
      "text/html": [
       "<pre style=\"white-space:pre;overflow-x:auto;line-height:normal;font-family:Menlo,'DejaVu Sans Mono',consolas,'Courier New',monospace\">┏━━━━━━━━━━━━━━━━━━━━━━━━━━━━━━━━━┳━━━━━━━━━━━━━━━━━━━━━━━━┳━━━━━━━━━━━━━━━┓\n",
       "┃<span style=\"font-weight: bold\"> Layer (type)                    </span>┃<span style=\"font-weight: bold\"> Output Shape           </span>┃<span style=\"font-weight: bold\">       Param # </span>┃\n",
       "┡━━━━━━━━━━━━━━━━━━━━━━━━━━━━━━━━━╇━━━━━━━━━━━━━━━━━━━━━━━━╇━━━━━━━━━━━━━━━┩\n",
       "│ lstm_4 (<span style=\"color: #0087ff; text-decoration-color: #0087ff\">LSTM</span>)                   │ (<span style=\"color: #00d7ff; text-decoration-color: #00d7ff\">None</span>, <span style=\"color: #00af00; text-decoration-color: #00af00\">64</span>)             │        <span style=\"color: #00af00; text-decoration-color: #00af00\">18,176</span> │\n",
       "├─────────────────────────────────┼────────────────────────┼───────────────┤\n",
       "│ dense_10 (<span style=\"color: #0087ff; text-decoration-color: #0087ff\">Dense</span>)                │ (<span style=\"color: #00d7ff; text-decoration-color: #00d7ff\">None</span>, <span style=\"color: #00af00; text-decoration-color: #00af00\">8</span>)              │           <span style=\"color: #00af00; text-decoration-color: #00af00\">520</span> │\n",
       "├─────────────────────────────────┼────────────────────────┼───────────────┤\n",
       "│ dense_11 (<span style=\"color: #0087ff; text-decoration-color: #0087ff\">Dense</span>)                │ (<span style=\"color: #00d7ff; text-decoration-color: #00d7ff\">None</span>, <span style=\"color: #00af00; text-decoration-color: #00af00\">2</span>)              │            <span style=\"color: #00af00; text-decoration-color: #00af00\">18</span> │\n",
       "└─────────────────────────────────┴────────────────────────┴───────────────┘\n",
       "</pre>\n"
      ],
      "text/plain": [
       "┏━━━━━━━━━━━━━━━━━━━━━━━━━━━━━━━━━┳━━━━━━━━━━━━━━━━━━━━━━━━┳━━━━━━━━━━━━━━━┓\n",
       "┃\u001b[1m \u001b[0m\u001b[1mLayer (type)                   \u001b[0m\u001b[1m \u001b[0m┃\u001b[1m \u001b[0m\u001b[1mOutput Shape          \u001b[0m\u001b[1m \u001b[0m┃\u001b[1m \u001b[0m\u001b[1m      Param #\u001b[0m\u001b[1m \u001b[0m┃\n",
       "┡━━━━━━━━━━━━━━━━━━━━━━━━━━━━━━━━━╇━━━━━━━━━━━━━━━━━━━━━━━━╇━━━━━━━━━━━━━━━┩\n",
       "│ lstm_4 (\u001b[38;5;33mLSTM\u001b[0m)                   │ (\u001b[38;5;45mNone\u001b[0m, \u001b[38;5;34m64\u001b[0m)             │        \u001b[38;5;34m18,176\u001b[0m │\n",
       "├─────────────────────────────────┼────────────────────────┼───────────────┤\n",
       "│ dense_10 (\u001b[38;5;33mDense\u001b[0m)                │ (\u001b[38;5;45mNone\u001b[0m, \u001b[38;5;34m8\u001b[0m)              │           \u001b[38;5;34m520\u001b[0m │\n",
       "├─────────────────────────────────┼────────────────────────┼───────────────┤\n",
       "│ dense_11 (\u001b[38;5;33mDense\u001b[0m)                │ (\u001b[38;5;45mNone\u001b[0m, \u001b[38;5;34m2\u001b[0m)              │            \u001b[38;5;34m18\u001b[0m │\n",
       "└─────────────────────────────────┴────────────────────────┴───────────────┘\n"
      ]
     },
     "metadata": {},
     "output_type": "display_data"
    },
    {
     "data": {
      "text/html": [
       "<pre style=\"white-space:pre;overflow-x:auto;line-height:normal;font-family:Menlo,'DejaVu Sans Mono',consolas,'Courier New',monospace\"><span style=\"font-weight: bold\"> Total params: </span><span style=\"color: #00af00; text-decoration-color: #00af00\">18,714</span> (73.10 KB)\n",
       "</pre>\n"
      ],
      "text/plain": [
       "\u001b[1m Total params: \u001b[0m\u001b[38;5;34m18,714\u001b[0m (73.10 KB)\n"
      ]
     },
     "metadata": {},
     "output_type": "display_data"
    },
    {
     "data": {
      "text/html": [
       "<pre style=\"white-space:pre;overflow-x:auto;line-height:normal;font-family:Menlo,'DejaVu Sans Mono',consolas,'Courier New',monospace\"><span style=\"font-weight: bold\"> Trainable params: </span><span style=\"color: #00af00; text-decoration-color: #00af00\">18,714</span> (73.10 KB)\n",
       "</pre>\n"
      ],
      "text/plain": [
       "\u001b[1m Trainable params: \u001b[0m\u001b[38;5;34m18,714\u001b[0m (73.10 KB)\n"
      ]
     },
     "metadata": {},
     "output_type": "display_data"
    },
    {
     "data": {
      "text/html": [
       "<pre style=\"white-space:pre;overflow-x:auto;line-height:normal;font-family:Menlo,'DejaVu Sans Mono',consolas,'Courier New',monospace\"><span style=\"font-weight: bold\"> Non-trainable params: </span><span style=\"color: #00af00; text-decoration-color: #00af00\">0</span> (0.00 B)\n",
       "</pre>\n"
      ],
      "text/plain": [
       "\u001b[1m Non-trainable params: \u001b[0m\u001b[38;5;34m0\u001b[0m (0.00 B)\n"
      ]
     },
     "metadata": {},
     "output_type": "display_data"
    }
   ],
   "source": [
    "model5 = Sequential()\n",
    "model5.add(InputLayer((15, 6)))\n",
    "model5.add(LSTM(64))\n",
    "model5.add(Dense(8, 'relu'))\n",
    "model5.add(Dense(2, 'linear'))\n",
    "\n",
    "model5.summary()"
   ]
  },
  {
   "cell_type": "code",
   "execution_count": 87,
   "metadata": {},
   "outputs": [],
   "source": [
    "cp5 = ModelCheckpoint('model5/model.keras', save_best_only=True)\n",
    "model5.compile(loss=MeanSquaredError(), optimizer=Adam(learning_rate=0.0001), metrics=[RootMeanSquaredError()])"
   ]
  },
  {
   "cell_type": "code",
   "execution_count": 88,
   "metadata": {},
   "outputs": [
    {
     "name": "stdout",
     "output_type": "stream",
     "text": [
      "Epoch 1/10\n",
      "\u001b[1m104/104\u001b[0m \u001b[32m━━━━━━━━━━━━━━━━━━━━\u001b[0m\u001b[37m\u001b[0m \u001b[1m2s\u001b[0m 6ms/step - loss: 1.0829 - root_mean_squared_error: 1.0366 - val_loss: 0.6880 - val_root_mean_squared_error: 0.8295\n",
      "Epoch 2/10\n",
      "\u001b[1m104/104\u001b[0m \u001b[32m━━━━━━━━━━━━━━━━━━━━\u001b[0m\u001b[37m\u001b[0m \u001b[1m0s\u001b[0m 4ms/step - loss: 0.6957 - root_mean_squared_error: 0.8312 - val_loss: 0.1842 - val_root_mean_squared_error: 0.4291\n",
      "Epoch 3/10\n",
      "\u001b[1m104/104\u001b[0m \u001b[32m━━━━━━━━━━━━━━━━━━━━\u001b[0m\u001b[37m\u001b[0m \u001b[1m0s\u001b[0m 4ms/step - loss: 0.2841 - root_mean_squared_error: 0.5311 - val_loss: 0.0838 - val_root_mean_squared_error: 0.2894\n",
      "Epoch 4/10\n",
      "\u001b[1m104/104\u001b[0m \u001b[32m━━━━━━━━━━━━━━━━━━━━\u001b[0m\u001b[37m\u001b[0m \u001b[1m0s\u001b[0m 4ms/step - loss: 0.1612 - root_mean_squared_error: 0.4006 - val_loss: 0.0566 - val_root_mean_squared_error: 0.2380\n",
      "Epoch 5/10\n",
      "\u001b[1m104/104\u001b[0m \u001b[32m━━━━━━━━━━━━━━━━━━━━\u001b[0m\u001b[37m\u001b[0m \u001b[1m0s\u001b[0m 4ms/step - loss: 0.1385 - root_mean_squared_error: 0.3700 - val_loss: 0.0439 - val_root_mean_squared_error: 0.2094\n",
      "Epoch 6/10\n",
      "\u001b[1m104/104\u001b[0m \u001b[32m━━━━━━━━━━━━━━━━━━━━\u001b[0m\u001b[37m\u001b[0m \u001b[1m0s\u001b[0m 4ms/step - loss: 0.0899 - root_mean_squared_error: 0.2963 - val_loss: 0.0393 - val_root_mean_squared_error: 0.1981\n",
      "Epoch 7/10\n",
      "\u001b[1m104/104\u001b[0m \u001b[32m━━━━━━━━━━━━━━━━━━━━\u001b[0m\u001b[37m\u001b[0m \u001b[1m1s\u001b[0m 5ms/step - loss: 0.0585 - root_mean_squared_error: 0.2372 - val_loss: 0.0314 - val_root_mean_squared_error: 0.1772\n",
      "Epoch 8/10\n",
      "\u001b[1m104/104\u001b[0m \u001b[32m━━━━━━━━━━━━━━━━━━━━\u001b[0m\u001b[37m\u001b[0m \u001b[1m0s\u001b[0m 4ms/step - loss: 0.0625 - root_mean_squared_error: 0.2485 - val_loss: 0.0282 - val_root_mean_squared_error: 0.1678\n",
      "Epoch 9/10\n",
      "\u001b[1m104/104\u001b[0m \u001b[32m━━━━━━━━━━━━━━━━━━━━\u001b[0m\u001b[37m\u001b[0m \u001b[1m0s\u001b[0m 4ms/step - loss: 0.0614 - root_mean_squared_error: 0.2468 - val_loss: 0.0275 - val_root_mean_squared_error: 0.1657\n",
      "Epoch 10/10\n",
      "\u001b[1m104/104\u001b[0m \u001b[32m━━━━━━━━━━━━━━━━━━━━\u001b[0m\u001b[37m\u001b[0m \u001b[1m0s\u001b[0m 4ms/step - loss: 0.0576 - root_mean_squared_error: 0.2363 - val_loss: 0.0246 - val_root_mean_squared_error: 0.1570\n"
     ]
    },
    {
     "data": {
      "text/plain": [
       "<keras.src.callbacks.history.History at 0x21de7867730>"
      ]
     },
     "execution_count": 88,
     "metadata": {},
     "output_type": "execute_result"
    }
   ],
   "source": [
    "model5.fit(X3_train, y3_train, validation_data=(X3_val, y3_val), epochs=10, callbacks=[cp5])"
   ]
  },
  {
   "cell_type": "code",
   "execution_count": 89,
   "metadata": {},
   "outputs": [],
   "source": [
    "def plot_predictions2(model, X, y, start=0, end=100):\n",
    "  predictions = model.predict(X)\n",
    "  v_preds, close_preds = predictions[:, 0], predictions[:, 1]\n",
    "  v_actuals, close_actuals = y[:, 0], y[:, 1]\n",
    "  df = pd.DataFrame(data={'Close Predictions': close_preds,\n",
    "                          'Close Actuals':close_actuals,\n",
    "                          'Volume Predictions': v_preds,\n",
    "                          'Volume Actuals': v_actuals\n",
    "                          })\n",
    "  plt.plot(df['Close Predictions'][start:end])\n",
    "  plt.plot(df['Close Actuals'][start:end])\n",
    "  plt.plot(df['Volume Predictions'][start:end])\n",
    "  plt.plot(df['Volume Actuals'][start:end])\n",
    "  return df[start:end]"
   ]
  },
  {
   "cell_type": "code",
   "execution_count": 90,
   "metadata": {},
   "outputs": [
    {
     "name": "stdout",
     "output_type": "stream",
     "text": [
      "\u001b[1m6/6\u001b[0m \u001b[32m━━━━━━━━━━━━━━━━━━━━\u001b[0m\u001b[37m\u001b[0m \u001b[1m0s\u001b[0m 23ms/step\n"
     ]
    },
    {
     "data": {
      "text/html": [
       "<div>\n",
       "<style scoped>\n",
       "    .dataframe tbody tr th:only-of-type {\n",
       "        vertical-align: middle;\n",
       "    }\n",
       "\n",
       "    .dataframe tbody tr th {\n",
       "        vertical-align: top;\n",
       "    }\n",
       "\n",
       "    .dataframe thead th {\n",
       "        text-align: right;\n",
       "    }\n",
       "</style>\n",
       "<table border=\"1\" class=\"dataframe\">\n",
       "  <thead>\n",
       "    <tr style=\"text-align: right;\">\n",
       "      <th></th>\n",
       "      <th>Close Predictions</th>\n",
       "      <th>Close Actuals</th>\n",
       "      <th>Volume Predictions</th>\n",
       "      <th>Volume Actuals</th>\n",
       "    </tr>\n",
       "  </thead>\n",
       "  <tbody>\n",
       "    <tr>\n",
       "      <th>0</th>\n",
       "      <td>1.799898</td>\n",
       "      <td>1.399881</td>\n",
       "      <td>1.841715</td>\n",
       "      <td>1.554920</td>\n",
       "    </tr>\n",
       "    <tr>\n",
       "      <th>1</th>\n",
       "      <td>1.736564</td>\n",
       "      <td>1.521486</td>\n",
       "      <td>1.795633</td>\n",
       "      <td>1.423677</td>\n",
       "    </tr>\n",
       "    <tr>\n",
       "      <th>2</th>\n",
       "      <td>1.668459</td>\n",
       "      <td>1.507694</td>\n",
       "      <td>1.746162</td>\n",
       "      <td>1.474438</td>\n",
       "    </tr>\n",
       "    <tr>\n",
       "      <th>3</th>\n",
       "      <td>1.611870</td>\n",
       "      <td>1.443039</td>\n",
       "      <td>1.710089</td>\n",
       "      <td>1.396799</td>\n",
       "    </tr>\n",
       "    <tr>\n",
       "      <th>4</th>\n",
       "      <td>1.557446</td>\n",
       "      <td>1.338233</td>\n",
       "      <td>1.668826</td>\n",
       "      <td>1.354567</td>\n",
       "    </tr>\n",
       "    <tr>\n",
       "      <th>...</th>\n",
       "      <td>...</td>\n",
       "      <td>...</td>\n",
       "      <td>...</td>\n",
       "      <td>...</td>\n",
       "    </tr>\n",
       "    <tr>\n",
       "      <th>95</th>\n",
       "      <td>0.788065</td>\n",
       "      <td>1.014421</td>\n",
       "      <td>0.860207</td>\n",
       "      <td>0.992357</td>\n",
       "    </tr>\n",
       "    <tr>\n",
       "      <th>96</th>\n",
       "      <td>0.819578</td>\n",
       "      <td>0.986175</td>\n",
       "      <td>0.887424</td>\n",
       "      <td>0.947064</td>\n",
       "    </tr>\n",
       "    <tr>\n",
       "      <th>97</th>\n",
       "      <td>0.860005</td>\n",
       "      <td>1.061134</td>\n",
       "      <td>0.920981</td>\n",
       "      <td>0.973043</td>\n",
       "    </tr>\n",
       "    <tr>\n",
       "      <th>98</th>\n",
       "      <td>0.908345</td>\n",
       "      <td>1.170753</td>\n",
       "      <td>0.958315</td>\n",
       "      <td>1.086366</td>\n",
       "    </tr>\n",
       "    <tr>\n",
       "      <th>99</th>\n",
       "      <td>0.967141</td>\n",
       "      <td>1.245534</td>\n",
       "      <td>1.001909</td>\n",
       "      <td>1.177875</td>\n",
       "    </tr>\n",
       "  </tbody>\n",
       "</table>\n",
       "<p>100 rows × 4 columns</p>\n",
       "</div>"
      ],
      "text/plain": [
       "    Close Predictions  Close Actuals  Volume Predictions  Volume Actuals\n",
       "0            1.799898       1.399881            1.841715        1.554920\n",
       "1            1.736564       1.521486            1.795633        1.423677\n",
       "2            1.668459       1.507694            1.746162        1.474438\n",
       "3            1.611870       1.443039            1.710089        1.396799\n",
       "4            1.557446       1.338233            1.668826        1.354567\n",
       "..                ...            ...                 ...             ...\n",
       "95           0.788065       1.014421            0.860207        0.992357\n",
       "96           0.819578       0.986175            0.887424        0.947064\n",
       "97           0.860005       1.061134            0.920981        0.973043\n",
       "98           0.908345       1.170753            0.958315        1.086366\n",
       "99           0.967141       1.245534            1.001909        1.177875\n",
       "\n",
       "[100 rows x 4 columns]"
      ]
     },
     "execution_count": 90,
     "metadata": {},
     "output_type": "execute_result"
    },
    {
     "data": {
      "image/png": "[encoded data removed]",
      "text/plain": [
       "<Figure size 640x480 with 1 Axes>"
      ]
     },
     "metadata": {},
     "output_type": "display_data"
    }
   ],
   "source": [
    "plot_predictions2(model5, X3_test, y3_test)"
   ]
  },
  {
   "cell_type": "code",
   "execution_count": 91,
   "metadata": {},
   "outputs": [],
   "source": [
    "def postprocess_temp(arr):\n",
    "  arr = (arr*temp_training_std3) + temp_training_mean3\n",
    "  return arr\n",
    "\n",
    "def postprocess_p(arr):\n",
    "  arr = (arr*p_training_std3) + p_training_mean3\n",
    "  return arr"
   ]
  },
  {
   "cell_type": "code",
   "execution_count": 92,
   "metadata": {},
   "outputs": [],
   "source": [
    "def plot_predictions2(model, X, y, start=0, end=100):\n",
    "  predictions = model.predict(X)\n",
    "  p_preds, temp_preds = postprocess_p(predictions[:, 0]), postprocess_temp(predictions[:, 1])\n",
    "  p_actuals, temp_actuals = postprocess_p(y[:, 0]), postprocess_temp(y[:, 1])\n",
    "  df = pd.DataFrame(data={'Temperature Predictions': temp_preds,\n",
    "                          'Temperature Actuals':temp_actuals,\n",
    "                          'Pressure Predictions': p_preds,\n",
    "                          'Pressure Actuals': p_actuals\n",
    "                          })\n",
    "  plt.plot(df['Temperature Predictions'][start:end])\n",
    "  plt.plot(df['Temperature Actuals'][start:end])\n",
    "  plt.plot(df['Pressure Predictions'][start:end])\n",
    "  plt.plot(df['Pressure Actuals'][start:end])\n",
    "  return df[start:end]"
   ]
  },
  {
   "cell_type": "code",
   "execution_count": 93,
   "metadata": {},
   "outputs": [
    {
     "name": "stdout",
     "output_type": "stream",
     "text": [
      "\u001b[1m6/6\u001b[0m \u001b[32m━━━━━━━━━━━━━━━━━━━━\u001b[0m\u001b[37m\u001b[0m \u001b[1m0s\u001b[0m 2ms/step \n"
     ]
    },
    {
     "data": {
      "text/html": [
       "<div>\n",
       "<style scoped>\n",
       "    .dataframe tbody tr th:only-of-type {\n",
       "        vertical-align: middle;\n",
       "    }\n",
       "\n",
       "    .dataframe tbody tr th {\n",
       "        vertical-align: top;\n",
       "    }\n",
       "\n",
       "    .dataframe thead th {\n",
       "        text-align: right;\n",
       "    }\n",
       "</style>\n",
       "<table border=\"1\" class=\"dataframe\">\n",
       "  <thead>\n",
       "    <tr style=\"text-align: right;\">\n",
       "      <th></th>\n",
       "      <th>Temperature Predictions</th>\n",
       "      <th>Temperature Actuals</th>\n",
       "      <th>Pressure Predictions</th>\n",
       "      <th>Pressure Actuals</th>\n",
       "    </tr>\n",
       "  </thead>\n",
       "  <tbody>\n",
       "    <tr>\n",
       "      <th>0</th>\n",
       "      <td>0.184602</td>\n",
       "      <td>0.152607</td>\n",
       "      <td>0.200388</td>\n",
       "      <td>0.175850</td>\n",
       "    </tr>\n",
       "    <tr>\n",
       "      <th>1</th>\n",
       "      <td>0.179536</td>\n",
       "      <td>0.162334</td>\n",
       "      <td>0.196445</td>\n",
       "      <td>0.164621</td>\n",
       "    </tr>\n",
       "    <tr>\n",
       "      <th>2</th>\n",
       "      <td>0.174089</td>\n",
       "      <td>0.161231</td>\n",
       "      <td>0.192212</td>\n",
       "      <td>0.168964</td>\n",
       "    </tr>\n",
       "    <tr>\n",
       "      <th>3</th>\n",
       "      <td>0.169563</td>\n",
       "      <td>0.156059</td>\n",
       "      <td>0.189126</td>\n",
       "      <td>0.162321</td>\n",
       "    </tr>\n",
       "    <tr>\n",
       "      <th>4</th>\n",
       "      <td>0.165210</td>\n",
       "      <td>0.147676</td>\n",
       "      <td>0.185595</td>\n",
       "      <td>0.158708</td>\n",
       "    </tr>\n",
       "    <tr>\n",
       "      <th>...</th>\n",
       "      <td>...</td>\n",
       "      <td>...</td>\n",
       "      <td>...</td>\n",
       "      <td>...</td>\n",
       "    </tr>\n",
       "    <tr>\n",
       "      <th>95</th>\n",
       "      <td>0.103672</td>\n",
       "      <td>0.121777</td>\n",
       "      <td>0.116411</td>\n",
       "      <td>0.127717</td>\n",
       "    </tr>\n",
       "    <tr>\n",
       "      <th>96</th>\n",
       "      <td>0.106192</td>\n",
       "      <td>0.119518</td>\n",
       "      <td>0.118739</td>\n",
       "      <td>0.123842</td>\n",
       "    </tr>\n",
       "    <tr>\n",
       "      <th>97</th>\n",
       "      <td>0.109426</td>\n",
       "      <td>0.125513</td>\n",
       "      <td>0.121610</td>\n",
       "      <td>0.126065</td>\n",
       "    </tr>\n",
       "    <tr>\n",
       "      <th>98</th>\n",
       "      <td>0.113292</td>\n",
       "      <td>0.134281</td>\n",
       "      <td>0.124805</td>\n",
       "      <td>0.135761</td>\n",
       "    </tr>\n",
       "    <tr>\n",
       "      <th>99</th>\n",
       "      <td>0.117995</td>\n",
       "      <td>0.140262</td>\n",
       "      <td>0.128534</td>\n",
       "      <td>0.143590</td>\n",
       "    </tr>\n",
       "  </tbody>\n",
       "</table>\n",
       "<p>100 rows × 4 columns</p>\n",
       "</div>"
      ],
      "text/plain": [
       "    Temperature Predictions  Temperature Actuals  Pressure Predictions  \\\n",
       "0                  0.184602             0.152607              0.200388   \n",
       "1                  0.179536             0.162334              0.196445   \n",
       "2                  0.174089             0.161231              0.192212   \n",
       "3                  0.169563             0.156059              0.189126   \n",
       "4                  0.165210             0.147676              0.185595   \n",
       "..                      ...                  ...                   ...   \n",
       "95                 0.103672             0.121777              0.116411   \n",
       "96                 0.106192             0.119518              0.118739   \n",
       "97                 0.109426             0.125513              0.121610   \n",
       "98                 0.113292             0.134281              0.124805   \n",
       "99                 0.117995             0.140262              0.128534   \n",
       "\n",
       "    Pressure Actuals  \n",
       "0           0.175850  \n",
       "1           0.164621  \n",
       "2           0.168964  \n",
       "3           0.162321  \n",
       "4           0.158708  \n",
       "..               ...  \n",
       "95          0.127717  \n",
       "96          0.123842  \n",
       "97          0.126065  \n",
       "98          0.135761  \n",
       "99          0.143590  \n",
       "\n",
       "[100 rows x 4 columns]"
      ]
     },
     "execution_count": 93,
     "metadata": {},
     "output_type": "execute_result"
    },
    {
     "data": {
      "image/png": "[encoded data removed]",
      "text/plain": [
       "<Figure size 640x480 with 1 Axes>"
      ]
     },
     "metadata": {},
     "output_type": "display_data"
    }
   ],
   "source": [
    "post_processed_df = plot_predictions2(model5, X3_test, y3_test)\n",
    "post_processed_df"
   ]
  },
  {
   "cell_type": "code",
   "execution_count": 94,
   "metadata": {},
   "outputs": [
    {
     "data": {
      "text/plain": [
       "[<matplotlib.lines.Line2D at 0x21ddbd7ca00>]"
      ]
     },
     "execution_count": 94,
     "metadata": {},
     "output_type": "execute_result"
    },
    {
     "data": {
      "image/png": "[encoded data removed]",
      "text/plain": [
       "<Figure size 640x480 with 1 Axes>"
      ]
     },
     "metadata": {},
     "output_type": "display_data"
    }
   ],
   "source": [
    "start, end = 0, 100\n",
    "plt.plot(post_processed_df['Temperature Predictions'][start:end])\n",
    "plt.plot(post_processed_df['Temperature Actuals'][start:end])"
   ]
  },
  {
   "cell_type": "code",
   "execution_count": 95,
   "metadata": {},
   "outputs": [
    {
     "data": {
      "text/plain": [
       "[<matplotlib.lines.Line2D at 0x21ddbdc4c10>]"
      ]
     },
     "execution_count": 95,
     "metadata": {},
     "output_type": "execute_result"
    },
    {
     "data": {
      "image/png": "[encoded data removed]",
      "text/plain": [
       "<Figure size 640x480 with 1 Axes>"
      ]
     },
     "metadata": {},
     "output_type": "display_data"
    }
   ],
   "source": [
    "plt.plot(post_processed_df['Pressure Predictions'][start:end])\n",
    "plt.plot(post_processed_df['Pressure Actuals'][start:end])"
   ]
  },
  {
   "cell_type": "code",
   "execution_count": 96,
   "metadata": {},
   "outputs": [
    {
     "data": {
      "text/html": [
       "<pre style=\"white-space:pre;overflow-x:auto;line-height:normal;font-family:Menlo,'DejaVu Sans Mono',consolas,'Courier New',monospace\"><span style=\"font-weight: bold\">Model: \"sequential_6\"</span>\n",
       "</pre>\n"
      ],
      "text/plain": [
       "\u001b[1mModel: \"sequential_6\"\u001b[0m\n"
      ]
     },
     "metadata": {},
     "output_type": "display_data"
    },
    {
     "data": {
      "text/html": [
       "<pre style=\"white-space:pre;overflow-x:auto;line-height:normal;font-family:Menlo,'DejaVu Sans Mono',consolas,'Courier New',monospace\">┏━━━━━━━━━━━━━━━━━━━━━━━━━━━━━━━━━┳━━━━━━━━━━━━━━━━━━━━━━━━┳━━━━━━━━━━━━━━━┓\n",
       "┃<span style=\"font-weight: bold\"> Layer (type)                    </span>┃<span style=\"font-weight: bold\"> Output Shape           </span>┃<span style=\"font-weight: bold\">       Param # </span>┃\n",
       "┡━━━━━━━━━━━━━━━━━━━━━━━━━━━━━━━━━╇━━━━━━━━━━━━━━━━━━━━━━━━╇━━━━━━━━━━━━━━━┩\n",
       "│ gru_1 (<span style=\"color: #0087ff; text-decoration-color: #0087ff\">GRU</span>)                     │ (<span style=\"color: #00d7ff; text-decoration-color: #00d7ff\">None</span>, <span style=\"color: #00af00; text-decoration-color: #00af00\">64</span>)             │        <span style=\"color: #00af00; text-decoration-color: #00af00\">13,824</span> │\n",
       "├─────────────────────────────────┼────────────────────────┼───────────────┤\n",
       "│ dense_12 (<span style=\"color: #0087ff; text-decoration-color: #0087ff\">Dense</span>)                │ (<span style=\"color: #00d7ff; text-decoration-color: #00d7ff\">None</span>, <span style=\"color: #00af00; text-decoration-color: #00af00\">8</span>)              │           <span style=\"color: #00af00; text-decoration-color: #00af00\">520</span> │\n",
       "├─────────────────────────────────┼────────────────────────┼───────────────┤\n",
       "│ dense_13 (<span style=\"color: #0087ff; text-decoration-color: #0087ff\">Dense</span>)                │ (<span style=\"color: #00d7ff; text-decoration-color: #00d7ff\">None</span>, <span style=\"color: #00af00; text-decoration-color: #00af00\">2</span>)              │            <span style=\"color: #00af00; text-decoration-color: #00af00\">18</span> │\n",
       "└─────────────────────────────────┴────────────────────────┴───────────────┘\n",
       "</pre>\n"
      ],
      "text/plain": [
       "┏━━━━━━━━━━━━━━━━━━━━━━━━━━━━━━━━━┳━━━━━━━━━━━━━━━━━━━━━━━━┳━━━━━━━━━━━━━━━┓\n",
       "┃\u001b[1m \u001b[0m\u001b[1mLayer (type)                   \u001b[0m\u001b[1m \u001b[0m┃\u001b[1m \u001b[0m\u001b[1mOutput Shape          \u001b[0m\u001b[1m \u001b[0m┃\u001b[1m \u001b[0m\u001b[1m      Param #\u001b[0m\u001b[1m \u001b[0m┃\n",
       "┡━━━━━━━━━━━━━━━━━━━━━━━━━━━━━━━━━╇━━━━━━━━━━━━━━━━━━━━━━━━╇━━━━━━━━━━━━━━━┩\n",
       "│ gru_1 (\u001b[38;5;33mGRU\u001b[0m)                     │ (\u001b[38;5;45mNone\u001b[0m, \u001b[38;5;34m64\u001b[0m)             │        \u001b[38;5;34m13,824\u001b[0m │\n",
       "├─────────────────────────────────┼────────────────────────┼───────────────┤\n",
       "│ dense_12 (\u001b[38;5;33mDense\u001b[0m)                │ (\u001b[38;5;45mNone\u001b[0m, \u001b[38;5;34m8\u001b[0m)              │           \u001b[38;5;34m520\u001b[0m │\n",
       "├─────────────────────────────────┼────────────────────────┼───────────────┤\n",
       "│ dense_13 (\u001b[38;5;33mDense\u001b[0m)                │ (\u001b[38;5;45mNone\u001b[0m, \u001b[38;5;34m2\u001b[0m)              │            \u001b[38;5;34m18\u001b[0m │\n",
       "└─────────────────────────────────┴────────────────────────┴───────────────┘\n"
      ]
     },
     "metadata": {},
     "output_type": "display_data"
    },
    {
     "data": {
      "text/html": [
       "<pre style=\"white-space:pre;overflow-x:auto;line-height:normal;font-family:Menlo,'DejaVu Sans Mono',consolas,'Courier New',monospace\"><span style=\"font-weight: bold\"> Total params: </span><span style=\"color: #00af00; text-decoration-color: #00af00\">14,362</span> (56.10 KB)\n",
       "</pre>\n"
      ],
      "text/plain": [
       "\u001b[1m Total params: \u001b[0m\u001b[38;5;34m14,362\u001b[0m (56.10 KB)\n"
      ]
     },
     "metadata": {},
     "output_type": "display_data"
    },
    {
     "data": {
      "text/html": [
       "<pre style=\"white-space:pre;overflow-x:auto;line-height:normal;font-family:Menlo,'DejaVu Sans Mono',consolas,'Courier New',monospace\"><span style=\"font-weight: bold\"> Trainable params: </span><span style=\"color: #00af00; text-decoration-color: #00af00\">14,362</span> (56.10 KB)\n",
       "</pre>\n"
      ],
      "text/plain": [
       "\u001b[1m Trainable params: \u001b[0m\u001b[38;5;34m14,362\u001b[0m (56.10 KB)\n"
      ]
     },
     "metadata": {},
     "output_type": "display_data"
    },
    {
     "data": {
      "text/html": [
       "<pre style=\"white-space:pre;overflow-x:auto;line-height:normal;font-family:Menlo,'DejaVu Sans Mono',consolas,'Courier New',monospace\"><span style=\"font-weight: bold\"> Non-trainable params: </span><span style=\"color: #00af00; text-decoration-color: #00af00\">0</span> (0.00 B)\n",
       "</pre>\n"
      ],
      "text/plain": [
       "\u001b[1m Non-trainable params: \u001b[0m\u001b[38;5;34m0\u001b[0m (0.00 B)\n"
      ]
     },
     "metadata": {},
     "output_type": "display_data"
    }
   ],
   "source": [
    "model6 = Sequential()\n",
    "model6.add(InputLayer((15, 6)))\n",
    "model6.add(GRU(64))\n",
    "model6.add(Dense(8, 'relu'))\n",
    "model6.add(Dense(2, 'linear'))\n",
    "\n",
    "model6.summary()"
   ]
  },
  {
   "cell_type": "code",
   "execution_count": 97,
   "metadata": {},
   "outputs": [],
   "source": [
    "cp6 = ModelCheckpoint('model6/model.keras', save_best_only=True)\n",
    "model6.compile(loss=MeanSquaredError(), optimizer=Adam(learning_rate=0.0001), metrics=[RootMeanSquaredError()])"
   ]
  },
  {
   "cell_type": "code",
   "execution_count": 98,
   "metadata": {},
   "outputs": [
    {
     "name": "stdout",
     "output_type": "stream",
     "text": [
      "Epoch 1/20\n",
      "\u001b[1m104/104\u001b[0m \u001b[32m━━━━━━━━━━━━━━━━━━━━\u001b[0m\u001b[37m\u001b[0m \u001b[1m2s\u001b[0m 6ms/step - loss: 0.8583 - root_mean_squared_error: 0.9247 - val_loss: 0.2163 - val_root_mean_squared_error: 0.4650\n",
      "Epoch 2/20\n",
      "\u001b[1m104/104\u001b[0m \u001b[32m━━━━━━━━━━━━━━━━━━━━\u001b[0m\u001b[37m\u001b[0m \u001b[1m0s\u001b[0m 4ms/step - loss: 0.3617 - root_mean_squared_error: 0.5994 - val_loss: 0.0328 - val_root_mean_squared_error: 0.1810\n",
      "Epoch 3/20\n",
      "\u001b[1m104/104\u001b[0m \u001b[32m━━━━━━━━━━━━━━━━━━━━\u001b[0m\u001b[37m\u001b[0m \u001b[1m0s\u001b[0m 4ms/step - loss: 0.1285 - root_mean_squared_error: 0.3580 - val_loss: 0.0282 - val_root_mean_squared_error: 0.1681\n",
      "Epoch 4/20\n",
      "\u001b[1m104/104\u001b[0m \u001b[32m━━━━━━━━━━━━━━━━━━━━\u001b[0m\u001b[37m\u001b[0m \u001b[1m1s\u001b[0m 5ms/step - loss: 0.1089 - root_mean_squared_error: 0.3281 - val_loss: 0.0275 - val_root_mean_squared_error: 0.1659\n",
      "Epoch 5/20\n",
      "\u001b[1m104/104\u001b[0m \u001b[32m━━━━━━━━━━━━━━━━━━━━\u001b[0m\u001b[37m\u001b[0m \u001b[1m0s\u001b[0m 4ms/step - loss: 0.0492 - root_mean_squared_error: 0.2207 - val_loss: 0.0325 - val_root_mean_squared_error: 0.1802\n",
      "Epoch 6/20\n",
      "\u001b[1m104/104\u001b[0m \u001b[32m━━━━━━━━━━━━━━━━━━━━\u001b[0m\u001b[37m\u001b[0m \u001b[1m0s\u001b[0m 4ms/step - loss: 0.0396 - root_mean_squared_error: 0.1974 - val_loss: 0.0331 - val_root_mean_squared_error: 0.1819\n",
      "Epoch 7/20\n",
      "\u001b[1m104/104\u001b[0m \u001b[32m━━━━━━━━━━━━━━━━━━━━\u001b[0m\u001b[37m\u001b[0m \u001b[1m0s\u001b[0m 4ms/step - loss: 0.0398 - root_mean_squared_error: 0.1977 - val_loss: 0.0293 - val_root_mean_squared_error: 0.1711\n",
      "Epoch 8/20\n",
      "\u001b[1m104/104\u001b[0m \u001b[32m━━━━━━━━━━━━━━━━━━━━\u001b[0m\u001b[37m\u001b[0m \u001b[1m0s\u001b[0m 4ms/step - loss: 0.0392 - root_mean_squared_error: 0.1963 - val_loss: 0.0252 - val_root_mean_squared_error: 0.1588\n",
      "Epoch 9/20\n",
      "\u001b[1m104/104\u001b[0m \u001b[32m━━━━━━━━━━━━━━━━━━━━\u001b[0m\u001b[37m\u001b[0m \u001b[1m1s\u001b[0m 5ms/step - loss: 0.0338 - root_mean_squared_error: 0.1805 - val_loss: 0.0236 - val_root_mean_squared_error: 0.1535\n",
      "Epoch 10/20\n",
      "\u001b[1m104/104\u001b[0m \u001b[32m━━━━━━━━━━━━━━━━━━━━\u001b[0m\u001b[37m\u001b[0m \u001b[1m1s\u001b[0m 5ms/step - loss: 0.0326 - root_mean_squared_error: 0.1792 - val_loss: 0.0193 - val_root_mean_squared_error: 0.1391\n",
      "Epoch 11/20\n",
      "\u001b[1m104/104\u001b[0m \u001b[32m━━━━━━━━━━━━━━━━━━━━\u001b[0m\u001b[37m\u001b[0m \u001b[1m0s\u001b[0m 4ms/step - loss: 0.0372 - root_mean_squared_error: 0.1915 - val_loss: 0.0173 - val_root_mean_squared_error: 0.1316\n",
      "Epoch 12/20\n",
      "\u001b[1m104/104\u001b[0m \u001b[32m━━━━━━━━━━━━━━━━━━━━\u001b[0m\u001b[37m\u001b[0m \u001b[1m0s\u001b[0m 5ms/step - loss: 0.0232 - root_mean_squared_error: 0.1505 - val_loss: 0.0169 - val_root_mean_squared_error: 0.1301\n",
      "Epoch 13/20\n",
      "\u001b[1m104/104\u001b[0m \u001b[32m━━━━━━━━━━━━━━━━━━━━\u001b[0m\u001b[37m\u001b[0m \u001b[1m0s\u001b[0m 4ms/step - loss: 0.0289 - root_mean_squared_error: 0.1685 - val_loss: 0.0150 - val_root_mean_squared_error: 0.1223\n",
      "Epoch 14/20\n",
      "\u001b[1m104/104\u001b[0m \u001b[32m━━━━━━━━━━━━━━━━━━━━\u001b[0m\u001b[37m\u001b[0m \u001b[1m0s\u001b[0m 4ms/step - loss: 0.0247 - root_mean_squared_error: 0.1553 - val_loss: 0.0136 - val_root_mean_squared_error: 0.1165\n",
      "Epoch 15/20\n",
      "\u001b[1m104/104\u001b[0m \u001b[32m━━━━━━━━━━━━━━━━━━━━\u001b[0m\u001b[37m\u001b[0m \u001b[1m0s\u001b[0m 4ms/step - loss: 0.0165 - root_mean_squared_error: 0.1262 - val_loss: 0.0142 - val_root_mean_squared_error: 0.1193\n",
      "Epoch 16/20\n",
      "\u001b[1m104/104\u001b[0m \u001b[32m━━━━━━━━━━━━━━━━━━━━\u001b[0m\u001b[37m\u001b[0m \u001b[1m0s\u001b[0m 4ms/step - loss: 0.0242 - root_mean_squared_error: 0.1546 - val_loss: 0.0117 - val_root_mean_squared_error: 0.1082\n",
      "Epoch 17/20\n",
      "\u001b[1m104/104\u001b[0m \u001b[32m━━━━━━━━━━━━━━━━━━━━\u001b[0m\u001b[37m\u001b[0m \u001b[1m0s\u001b[0m 4ms/step - loss: 0.0206 - root_mean_squared_error: 0.1413 - val_loss: 0.0108 - val_root_mean_squared_error: 0.1040\n",
      "Epoch 18/20\n",
      "\u001b[1m104/104\u001b[0m \u001b[32m━━━━━━━━━━━━━━━━━━━━\u001b[0m\u001b[37m\u001b[0m \u001b[1m0s\u001b[0m 4ms/step - loss: 0.0245 - root_mean_squared_error: 0.1542 - val_loss: 0.0118 - val_root_mean_squared_error: 0.1084\n",
      "Epoch 19/20\n",
      "\u001b[1m104/104\u001b[0m \u001b[32m━━━━━━━━━━━━━━━━━━━━\u001b[0m\u001b[37m\u001b[0m \u001b[1m0s\u001b[0m 4ms/step - loss: 0.0171 - root_mean_squared_error: 0.1296 - val_loss: 0.0115 - val_root_mean_squared_error: 0.1073\n",
      "Epoch 20/20\n",
      "\u001b[1m104/104\u001b[0m \u001b[32m━━━━━━━━━━━━━━━━━━━━\u001b[0m\u001b[37m\u001b[0m \u001b[1m0s\u001b[0m 4ms/step - loss: 0.0216 - root_mean_squared_error: 0.1434 - val_loss: 0.0100 - val_root_mean_squared_error: 0.1001\n"
     ]
    },
    {
     "data": {
      "text/plain": [
       "<keras.src.callbacks.history.History at 0x21de7a740d0>"
      ]
     },
     "execution_count": 98,
     "metadata": {},
     "output_type": "execute_result"
    }
   ],
   "source": [
    "model6.fit(X3_train, y3_train, validation_data=(X3_val, y3_val), epochs=20, callbacks=[cp6])"
   ]
  },
  {
   "cell_type": "code",
   "execution_count": null,
   "metadata": {},
   "outputs": [],
   "source": []
  },
  {
   "cell_type": "code",
   "execution_count": 99,
   "metadata": {},
   "outputs": [
    {
     "name": "stdout",
     "output_type": "stream",
     "text": [
      "\u001b[1m6/6\u001b[0m \u001b[32m━━━━━━━━━━━━━━━━━━━━\u001b[0m\u001b[37m\u001b[0m \u001b[1m0s\u001b[0m 24ms/step\n"
     ]
    },
    {
     "data": {
      "text/html": [
       "<div>\n",
       "<style scoped>\n",
       "    .dataframe tbody tr th:only-of-type {\n",
       "        vertical-align: middle;\n",
       "    }\n",
       "\n",
       "    .dataframe tbody tr th {\n",
       "        vertical-align: top;\n",
       "    }\n",
       "\n",
       "    .dataframe thead th {\n",
       "        text-align: right;\n",
       "    }\n",
       "</style>\n",
       "<table border=\"1\" class=\"dataframe\">\n",
       "  <thead>\n",
       "    <tr style=\"text-align: right;\">\n",
       "      <th></th>\n",
       "      <th>Temperature Predictions</th>\n",
       "      <th>Temperature Actuals</th>\n",
       "      <th>Pressure Predictions</th>\n",
       "      <th>Pressure Actuals</th>\n",
       "    </tr>\n",
       "  </thead>\n",
       "  <tbody>\n",
       "    <tr>\n",
       "      <th>0</th>\n",
       "      <td>0.195576</td>\n",
       "      <td>0.152607</td>\n",
       "      <td>0.201661</td>\n",
       "      <td>0.175850</td>\n",
       "    </tr>\n",
       "    <tr>\n",
       "      <th>1</th>\n",
       "      <td>0.182865</td>\n",
       "      <td>0.162334</td>\n",
       "      <td>0.184397</td>\n",
       "      <td>0.164621</td>\n",
       "    </tr>\n",
       "    <tr>\n",
       "      <th>2</th>\n",
       "      <td>0.170693</td>\n",
       "      <td>0.161231</td>\n",
       "      <td>0.171147</td>\n",
       "      <td>0.168964</td>\n",
       "    </tr>\n",
       "    <tr>\n",
       "      <th>3</th>\n",
       "      <td>0.163546</td>\n",
       "      <td>0.156059</td>\n",
       "      <td>0.165914</td>\n",
       "      <td>0.162321</td>\n",
       "    </tr>\n",
       "    <tr>\n",
       "      <th>4</th>\n",
       "      <td>0.157822</td>\n",
       "      <td>0.147676</td>\n",
       "      <td>0.161527</td>\n",
       "      <td>0.158708</td>\n",
       "    </tr>\n",
       "    <tr>\n",
       "      <th>...</th>\n",
       "      <td>...</td>\n",
       "      <td>...</td>\n",
       "      <td>...</td>\n",
       "      <td>...</td>\n",
       "    </tr>\n",
       "    <tr>\n",
       "      <th>95</th>\n",
       "      <td>0.122119</td>\n",
       "      <td>0.121777</td>\n",
       "      <td>0.130545</td>\n",
       "      <td>0.127717</td>\n",
       "    </tr>\n",
       "    <tr>\n",
       "      <th>96</th>\n",
       "      <td>0.124389</td>\n",
       "      <td>0.119518</td>\n",
       "      <td>0.132495</td>\n",
       "      <td>0.123842</td>\n",
       "    </tr>\n",
       "    <tr>\n",
       "      <th>97</th>\n",
       "      <td>0.124311</td>\n",
       "      <td>0.125513</td>\n",
       "      <td>0.132198</td>\n",
       "      <td>0.126065</td>\n",
       "    </tr>\n",
       "    <tr>\n",
       "      <th>98</th>\n",
       "      <td>0.125250</td>\n",
       "      <td>0.134281</td>\n",
       "      <td>0.132748</td>\n",
       "      <td>0.135761</td>\n",
       "    </tr>\n",
       "    <tr>\n",
       "      <th>99</th>\n",
       "      <td>0.129867</td>\n",
       "      <td>0.140262</td>\n",
       "      <td>0.137162</td>\n",
       "      <td>0.143590</td>\n",
       "    </tr>\n",
       "  </tbody>\n",
       "</table>\n",
       "<p>100 rows × 4 columns</p>\n",
       "</div>"
      ],
      "text/plain": [
       "    Temperature Predictions  Temperature Actuals  Pressure Predictions  \\\n",
       "0                  0.195576             0.152607              0.201661   \n",
       "1                  0.182865             0.162334              0.184397   \n",
       "2                  0.170693             0.161231              0.171147   \n",
       "3                  0.163546             0.156059              0.165914   \n",
       "4                  0.157822             0.147676              0.161527   \n",
       "..                      ...                  ...                   ...   \n",
       "95                 0.122119             0.121777              0.130545   \n",
       "96                 0.124389             0.119518              0.132495   \n",
       "97                 0.124311             0.125513              0.132198   \n",
       "98                 0.125250             0.134281              0.132748   \n",
       "99                 0.129867             0.140262              0.137162   \n",
       "\n",
       "    Pressure Actuals  \n",
       "0           0.175850  \n",
       "1           0.164621  \n",
       "2           0.168964  \n",
       "3           0.162321  \n",
       "4           0.158708  \n",
       "..               ...  \n",
       "95          0.127717  \n",
       "96          0.123842  \n",
       "97          0.126065  \n",
       "98          0.135761  \n",
       "99          0.143590  \n",
       "\n",
       "[100 rows x 4 columns]"
      ]
     },
     "execution_count": 99,
     "metadata": {},
     "output_type": "execute_result"
    },
    {
     "data": {
      "image/png": "[encoded data removed]",
      "text/plain": [
       "<Figure size 640x480 with 1 Axes>"
      ]
     },
     "metadata": {},
     "output_type": "display_data"
    }
   ],
   "source": [
    "plot_predictions2(model6, X3_test, y3_test)"
   ]
  },
  {
   "cell_type": "code",
   "execution_count": 100,
   "metadata": {},
   "outputs": [
    {
     "name": "stdout",
     "output_type": "stream",
     "text": [
      "(548, 10)\n"
     ]
    },
    {
     "data": {
      "text/html": [
       "<div>\n",
       "<style scoped>\n",
       "    .dataframe tbody tr th:only-of-type {\n",
       "        vertical-align: middle;\n",
       "    }\n",
       "\n",
       "    .dataframe tbody tr th {\n",
       "        vertical-align: top;\n",
       "    }\n",
       "\n",
       "    .dataframe thead th {\n",
       "        text-align: right;\n",
       "    }\n",
       "</style>\n",
       "<table border=\"1\" class=\"dataframe\">\n",
       "  <thead>\n",
       "    <tr style=\"text-align: right;\">\n",
       "      <th></th>\n",
       "      <th>timestamp</th>\n",
       "      <th>open</th>\n",
       "      <th>high</th>\n",
       "      <th>low</th>\n",
       "      <th>close</th>\n",
       "      <th>volume</th>\n",
       "      <th>name</th>\n",
       "      <th>symbol</th>\n",
       "      <th>id</th>\n",
       "      <th>category</th>\n",
       "    </tr>\n",
       "  </thead>\n",
       "  <tbody>\n",
       "    <tr>\n",
       "      <th>0</th>\n",
       "      <td>1681689600</td>\n",
       "      <td>3.141154e-08</td>\n",
       "      <td>7.951914e-08</td>\n",
       "      <td>2.818250e-08</td>\n",
       "      <td>6.526480e-08</td>\n",
       "      <td>9.040237e+06</td>\n",
       "      <td>Pepe</td>\n",
       "      <td>PEPE</td>\n",
       "      <td>02e9c2cc-2e3b-45fe-b7bb-508cb23a3a39</td>\n",
       "      <td>meme</td>\n",
       "    </tr>\n",
       "    <tr>\n",
       "      <th>1</th>\n",
       "      <td>1681776000</td>\n",
       "      <td>6.485267e-08</td>\n",
       "      <td>2.276132e-07</td>\n",
       "      <td>5.598800e-08</td>\n",
       "      <td>1.878306e-07</td>\n",
       "      <td>3.246056e+07</td>\n",
       "      <td>Pepe</td>\n",
       "      <td>PEPE</td>\n",
       "      <td>02e9c2cc-2e3b-45fe-b7bb-508cb23a3a39</td>\n",
       "      <td>meme</td>\n",
       "    </tr>\n",
       "    <tr>\n",
       "      <th>2</th>\n",
       "      <td>1681862400</td>\n",
       "      <td>1.862740e-07</td>\n",
       "      <td>3.796318e-07</td>\n",
       "      <td>1.379781e-07</td>\n",
       "      <td>2.647504e-07</td>\n",
       "      <td>5.639813e+07</td>\n",
       "      <td>Pepe</td>\n",
       "      <td>PEPE</td>\n",
       "      <td>02e9c2cc-2e3b-45fe-b7bb-508cb23a3a39</td>\n",
       "      <td>meme</td>\n",
       "    </tr>\n",
       "    <tr>\n",
       "      <th>3</th>\n",
       "      <td>1681948800</td>\n",
       "      <td>2.648534e-07</td>\n",
       "      <td>4.051020e-07</td>\n",
       "      <td>2.291480e-07</td>\n",
       "      <td>2.945193e-07</td>\n",
       "      <td>4.044670e+07</td>\n",
       "      <td>Pepe</td>\n",
       "      <td>PEPE</td>\n",
       "      <td>02e9c2cc-2e3b-45fe-b7bb-508cb23a3a39</td>\n",
       "      <td>meme</td>\n",
       "    </tr>\n",
       "    <tr>\n",
       "      <th>4</th>\n",
       "      <td>1682035200</td>\n",
       "      <td>2.949180e-07</td>\n",
       "      <td>3.114699e-07</td>\n",
       "      <td>1.605779e-07</td>\n",
       "      <td>1.985193e-07</td>\n",
       "      <td>3.242627e+07</td>\n",
       "      <td>Pepe</td>\n",
       "      <td>PEPE</td>\n",
       "      <td>02e9c2cc-2e3b-45fe-b7bb-508cb23a3a39</td>\n",
       "      <td>meme</td>\n",
       "    </tr>\n",
       "  </tbody>\n",
       "</table>\n",
       "</div>"
      ],
      "text/plain": [
       "    timestamp          open          high           low         close  \\\n",
       "0  1681689600  3.141154e-08  7.951914e-08  2.818250e-08  6.526480e-08   \n",
       "1  1681776000  6.485267e-08  2.276132e-07  5.598800e-08  1.878306e-07   \n",
       "2  1681862400  1.862740e-07  3.796318e-07  1.379781e-07  2.647504e-07   \n",
       "3  1681948800  2.648534e-07  4.051020e-07  2.291480e-07  2.945193e-07   \n",
       "4  1682035200  2.949180e-07  3.114699e-07  1.605779e-07  1.985193e-07   \n",
       "\n",
       "         volume  name symbol                                    id category  \n",
       "0  9.040237e+06  Pepe   PEPE  02e9c2cc-2e3b-45fe-b7bb-508cb23a3a39     meme  \n",
       "1  3.246056e+07  Pepe   PEPE  02e9c2cc-2e3b-45fe-b7bb-508cb23a3a39     meme  \n",
       "2  5.639813e+07  Pepe   PEPE  02e9c2cc-2e3b-45fe-b7bb-508cb23a3a39     meme  \n",
       "3  4.044670e+07  Pepe   PEPE  02e9c2cc-2e3b-45fe-b7bb-508cb23a3a39     meme  \n",
       "4  3.242627e+07  Pepe   PEPE  02e9c2cc-2e3b-45fe-b7bb-508cb23a3a39     meme  "
      ]
     },
     "execution_count": 100,
     "metadata": {},
     "output_type": "execute_result"
    }
   ],
   "source": [
    "token_df2 = df.groupby('name').get_group('Pepe')\n",
    "print(token_df2.shape)\n",
    "token_df2.head()"
   ]
  },
  {
   "cell_type": "code",
   "execution_count": 102,
   "metadata": {},
   "outputs": [
    {
     "data": {
      "text/html": [
       "<div>\n",
       "<style scoped>\n",
       "    .dataframe tbody tr th:only-of-type {\n",
       "        vertical-align: middle;\n",
       "    }\n",
       "\n",
       "    .dataframe tbody tr th {\n",
       "        vertical-align: top;\n",
       "    }\n",
       "\n",
       "    .dataframe thead th {\n",
       "        text-align: right;\n",
       "    }\n",
       "</style>\n",
       "<table border=\"1\" class=\"dataframe\">\n",
       "  <thead>\n",
       "    <tr style=\"text-align: right;\">\n",
       "      <th></th>\n",
       "      <th>timestamp</th>\n",
       "      <th>open</th>\n",
       "      <th>high</th>\n",
       "      <th>low</th>\n",
       "      <th>close</th>\n",
       "      <th>volume</th>\n",
       "      <th>name</th>\n",
       "      <th>symbol</th>\n",
       "      <th>id</th>\n",
       "      <th>category</th>\n",
       "    </tr>\n",
       "    <tr>\n",
       "      <th>timestamp</th>\n",
       "      <th></th>\n",
       "      <th></th>\n",
       "      <th></th>\n",
       "      <th></th>\n",
       "      <th></th>\n",
       "      <th></th>\n",
       "      <th></th>\n",
       "      <th></th>\n",
       "      <th></th>\n",
       "      <th></th>\n",
       "    </tr>\n",
       "  </thead>\n",
       "  <tbody>\n",
       "    <tr>\n",
       "      <th>2023-04-17</th>\n",
       "      <td>1681689600</td>\n",
       "      <td>3.141154e-08</td>\n",
       "      <td>7.951914e-08</td>\n",
       "      <td>2.818250e-08</td>\n",
       "      <td>6.526480e-08</td>\n",
       "      <td>9.040237e+06</td>\n",
       "      <td>Pepe</td>\n",
       "      <td>PEPE</td>\n",
       "      <td>02e9c2cc-2e3b-45fe-b7bb-508cb23a3a39</td>\n",
       "      <td>meme</td>\n",
       "    </tr>\n",
       "    <tr>\n",
       "      <th>2023-04-18</th>\n",
       "      <td>1681776000</td>\n",
       "      <td>6.485267e-08</td>\n",
       "      <td>2.276132e-07</td>\n",
       "      <td>5.598800e-08</td>\n",
       "      <td>1.878306e-07</td>\n",
       "      <td>3.246056e+07</td>\n",
       "      <td>Pepe</td>\n",
       "      <td>PEPE</td>\n",
       "      <td>02e9c2cc-2e3b-45fe-b7bb-508cb23a3a39</td>\n",
       "      <td>meme</td>\n",
       "    </tr>\n",
       "    <tr>\n",
       "      <th>2023-04-19</th>\n",
       "      <td>1681862400</td>\n",
       "      <td>1.862740e-07</td>\n",
       "      <td>3.796318e-07</td>\n",
       "      <td>1.379781e-07</td>\n",
       "      <td>2.647504e-07</td>\n",
       "      <td>5.639813e+07</td>\n",
       "      <td>Pepe</td>\n",
       "      <td>PEPE</td>\n",
       "      <td>02e9c2cc-2e3b-45fe-b7bb-508cb23a3a39</td>\n",
       "      <td>meme</td>\n",
       "    </tr>\n",
       "    <tr>\n",
       "      <th>2023-04-20</th>\n",
       "      <td>1681948800</td>\n",
       "      <td>2.648534e-07</td>\n",
       "      <td>4.051020e-07</td>\n",
       "      <td>2.291480e-07</td>\n",
       "      <td>2.945193e-07</td>\n",
       "      <td>4.044670e+07</td>\n",
       "      <td>Pepe</td>\n",
       "      <td>PEPE</td>\n",
       "      <td>02e9c2cc-2e3b-45fe-b7bb-508cb23a3a39</td>\n",
       "      <td>meme</td>\n",
       "    </tr>\n",
       "    <tr>\n",
       "      <th>2023-04-21</th>\n",
       "      <td>1682035200</td>\n",
       "      <td>2.949180e-07</td>\n",
       "      <td>3.114699e-07</td>\n",
       "      <td>1.605779e-07</td>\n",
       "      <td>1.985193e-07</td>\n",
       "      <td>3.242627e+07</td>\n",
       "      <td>Pepe</td>\n",
       "      <td>PEPE</td>\n",
       "      <td>02e9c2cc-2e3b-45fe-b7bb-508cb23a3a39</td>\n",
       "      <td>meme</td>\n",
       "    </tr>\n",
       "  </tbody>\n",
       "</table>\n",
       "</div>"
      ],
      "text/plain": [
       "             timestamp          open          high           low  \\\n",
       "timestamp                                                          \n",
       "2023-04-17  1681689600  3.141154e-08  7.951914e-08  2.818250e-08   \n",
       "2023-04-18  1681776000  6.485267e-08  2.276132e-07  5.598800e-08   \n",
       "2023-04-19  1681862400  1.862740e-07  3.796318e-07  1.379781e-07   \n",
       "2023-04-20  1681948800  2.648534e-07  4.051020e-07  2.291480e-07   \n",
       "2023-04-21  1682035200  2.949180e-07  3.114699e-07  1.605779e-07   \n",
       "\n",
       "                   close        volume  name symbol  \\\n",
       "timestamp                                             \n",
       "2023-04-17  6.526480e-08  9.040237e+06  Pepe   PEPE   \n",
       "2023-04-18  1.878306e-07  3.246056e+07  Pepe   PEPE   \n",
       "2023-04-19  2.647504e-07  5.639813e+07  Pepe   PEPE   \n",
       "2023-04-20  2.945193e-07  4.044670e+07  Pepe   PEPE   \n",
       "2023-04-21  1.985193e-07  3.242627e+07  Pepe   PEPE   \n",
       "\n",
       "                                              id category  \n",
       "timestamp                                                  \n",
       "2023-04-17  02e9c2cc-2e3b-45fe-b7bb-508cb23a3a39     meme  \n",
       "2023-04-18  02e9c2cc-2e3b-45fe-b7bb-508cb23a3a39     meme  \n",
       "2023-04-19  02e9c2cc-2e3b-45fe-b7bb-508cb23a3a39     meme  \n",
       "2023-04-20  02e9c2cc-2e3b-45fe-b7bb-508cb23a3a39     meme  \n",
       "2023-04-21  02e9c2cc-2e3b-45fe-b7bb-508cb23a3a39     meme  "
      ]
     },
     "execution_count": 102,
     "metadata": {},
     "output_type": "execute_result"
    }
   ],
   "source": [
    "token_df2.index = pd.to_datetime(token_df2['timestamp'], unit='s')\n",
    "token_df2.head()"
   ]
  },
  {
   "cell_type": "code",
   "execution_count": 103,
   "metadata": {},
   "outputs": [
    {
     "data": {
      "text/html": [
       "<div>\n",
       "<style scoped>\n",
       "    .dataframe tbody tr th:only-of-type {\n",
       "        vertical-align: middle;\n",
       "    }\n",
       "\n",
       "    .dataframe tbody tr th {\n",
       "        vertical-align: top;\n",
       "    }\n",
       "\n",
       "    .dataframe thead th {\n",
       "        text-align: right;\n",
       "    }\n",
       "</style>\n",
       "<table border=\"1\" class=\"dataframe\">\n",
       "  <thead>\n",
       "    <tr style=\"text-align: right;\">\n",
       "      <th></th>\n",
       "      <th>close</th>\n",
       "      <th>Seconds</th>\n",
       "    </tr>\n",
       "    <tr>\n",
       "      <th>timestamp</th>\n",
       "      <th></th>\n",
       "      <th></th>\n",
       "    </tr>\n",
       "  </thead>\n",
       "  <tbody>\n",
       "    <tr>\n",
       "      <th>2023-04-17</th>\n",
       "      <td>6.526480e-08</td>\n",
       "      <td>1.681690e+09</td>\n",
       "    </tr>\n",
       "    <tr>\n",
       "      <th>2023-04-18</th>\n",
       "      <td>1.878306e-07</td>\n",
       "      <td>1.681776e+09</td>\n",
       "    </tr>\n",
       "    <tr>\n",
       "      <th>2023-04-19</th>\n",
       "      <td>2.647504e-07</td>\n",
       "      <td>1.681862e+09</td>\n",
       "    </tr>\n",
       "    <tr>\n",
       "      <th>2023-04-20</th>\n",
       "      <td>2.945193e-07</td>\n",
       "      <td>1.681949e+09</td>\n",
       "    </tr>\n",
       "    <tr>\n",
       "      <th>2023-04-21</th>\n",
       "      <td>1.985193e-07</td>\n",
       "      <td>1.682035e+09</td>\n",
       "    </tr>\n",
       "  </tbody>\n",
       "</table>\n",
       "</div>"
      ],
      "text/plain": [
       "                   close       Seconds\n",
       "timestamp                             \n",
       "2023-04-17  6.526480e-08  1.681690e+09\n",
       "2023-04-18  1.878306e-07  1.681776e+09\n",
       "2023-04-19  2.647504e-07  1.681862e+09\n",
       "2023-04-20  2.945193e-07  1.681949e+09\n",
       "2023-04-21  1.985193e-07  1.682035e+09"
      ]
     },
     "execution_count": 103,
     "metadata": {},
     "output_type": "execute_result"
    }
   ],
   "source": [
    "close_df = pd.DataFrame({'close': token_df2['close']})\n",
    "close_df['Seconds'] = close_df.index.map(pd.Timestamp.timestamp)\n",
    "close_df.head()"
   ]
  },
  {
   "cell_type": "code",
   "execution_count": 104,
   "metadata": {},
   "outputs": [
    {
     "data": {
      "text/html": [
       "<div>\n",
       "<style scoped>\n",
       "    .dataframe tbody tr th:only-of-type {\n",
       "        vertical-align: middle;\n",
       "    }\n",
       "\n",
       "    .dataframe tbody tr th {\n",
       "        vertical-align: top;\n",
       "    }\n",
       "\n",
       "    .dataframe thead th {\n",
       "        text-align: right;\n",
       "    }\n",
       "</style>\n",
       "<table border=\"1\" class=\"dataframe\">\n",
       "  <thead>\n",
       "    <tr style=\"text-align: right;\">\n",
       "      <th></th>\n",
       "      <th>close</th>\n",
       "      <th>Seconds</th>\n",
       "      <th>Week sin</th>\n",
       "      <th>Week cos</th>\n",
       "      <th>Year sin</th>\n",
       "      <th>Year cos</th>\n",
       "    </tr>\n",
       "    <tr>\n",
       "      <th>timestamp</th>\n",
       "      <th></th>\n",
       "      <th></th>\n",
       "      <th></th>\n",
       "      <th></th>\n",
       "      <th></th>\n",
       "      <th></th>\n",
       "    </tr>\n",
       "  </thead>\n",
       "  <tbody>\n",
       "    <tr>\n",
       "      <th>2023-04-17</th>\n",
       "      <td>6.526480e-08</td>\n",
       "      <td>1.681690e+09</td>\n",
       "      <td>-4.338837e-01</td>\n",
       "      <td>-0.900969</td>\n",
       "      <td>0.967604</td>\n",
       "      <td>-0.252473</td>\n",
       "    </tr>\n",
       "    <tr>\n",
       "      <th>2023-04-18</th>\n",
       "      <td>1.878306e-07</td>\n",
       "      <td>1.681776e+09</td>\n",
       "      <td>-9.749279e-01</td>\n",
       "      <td>-0.222521</td>\n",
       "      <td>0.963118</td>\n",
       "      <td>-0.269081</td>\n",
       "    </tr>\n",
       "    <tr>\n",
       "      <th>2023-04-19</th>\n",
       "      <td>2.647504e-07</td>\n",
       "      <td>1.681862e+09</td>\n",
       "      <td>-7.818315e-01</td>\n",
       "      <td>0.623490</td>\n",
       "      <td>0.958346</td>\n",
       "      <td>-0.285608</td>\n",
       "    </tr>\n",
       "    <tr>\n",
       "      <th>2023-04-20</th>\n",
       "      <td>2.945193e-07</td>\n",
       "      <td>1.681949e+09</td>\n",
       "      <td>-1.624524e-13</td>\n",
       "      <td>1.000000</td>\n",
       "      <td>0.953292</td>\n",
       "      <td>-0.302051</td>\n",
       "    </tr>\n",
       "    <tr>\n",
       "      <th>2023-04-21</th>\n",
       "      <td>1.985193e-07</td>\n",
       "      <td>1.682035e+09</td>\n",
       "      <td>7.818315e-01</td>\n",
       "      <td>0.623490</td>\n",
       "      <td>0.947955</td>\n",
       "      <td>-0.318405</td>\n",
       "    </tr>\n",
       "  </tbody>\n",
       "</table>\n",
       "</div>"
      ],
      "text/plain": [
       "                   close       Seconds      Week sin  Week cos  Year sin  \\\n",
       "timestamp                                                                  \n",
       "2023-04-17  6.526480e-08  1.681690e+09 -4.338837e-01 -0.900969  0.967604   \n",
       "2023-04-18  1.878306e-07  1.681776e+09 -9.749279e-01 -0.222521  0.963118   \n",
       "2023-04-19  2.647504e-07  1.681862e+09 -7.818315e-01  0.623490  0.958346   \n",
       "2023-04-20  2.945193e-07  1.681949e+09 -1.624524e-13  1.000000  0.953292   \n",
       "2023-04-21  1.985193e-07  1.682035e+09  7.818315e-01  0.623490  0.947955   \n",
       "\n",
       "            Year cos  \n",
       "timestamp             \n",
       "2023-04-17 -0.252473  \n",
       "2023-04-18 -0.269081  \n",
       "2023-04-19 -0.285608  \n",
       "2023-04-20 -0.302051  \n",
       "2023-04-21 -0.318405  "
      ]
     },
     "execution_count": 104,
     "metadata": {},
     "output_type": "execute_result"
    }
   ],
   "source": [
    "day = 60 * 60 * 24\n",
    "week = 7 * day\n",
    "year = 365.2425 * day\n",
    "\n",
    "close_df['Week sin'] = np.sin(close_df['Seconds'] * (2 * np.pi / week))\n",
    "close_df['Week cos'] = np.cos(close_df['Seconds'] * (2 * np.pi / week))\n",
    "close_df['Year sin'] = np.sin(close_df['Seconds'] * (2 * np.pi / year))\n",
    "close_df['Year cos'] = np.cos(close_df['Seconds'] * (2 * np.pi / year))\n",
    "\n",
    "close_df.head()"
   ]
  },
  {
   "cell_type": "code",
   "execution_count": 105,
   "metadata": {},
   "outputs": [
    {
     "data": {
      "text/html": [
       "<div>\n",
       "<style scoped>\n",
       "    .dataframe tbody tr th:only-of-type {\n",
       "        vertical-align: middle;\n",
       "    }\n",
       "\n",
       "    .dataframe tbody tr th {\n",
       "        vertical-align: top;\n",
       "    }\n",
       "\n",
       "    .dataframe thead th {\n",
       "        text-align: right;\n",
       "    }\n",
       "</style>\n",
       "<table border=\"1\" class=\"dataframe\">\n",
       "  <thead>\n",
       "    <tr style=\"text-align: right;\">\n",
       "      <th></th>\n",
       "      <th>close</th>\n",
       "      <th>Week sin</th>\n",
       "      <th>Week cos</th>\n",
       "      <th>Year sin</th>\n",
       "      <th>Year cos</th>\n",
       "    </tr>\n",
       "    <tr>\n",
       "      <th>timestamp</th>\n",
       "      <th></th>\n",
       "      <th></th>\n",
       "      <th></th>\n",
       "      <th></th>\n",
       "      <th></th>\n",
       "    </tr>\n",
       "  </thead>\n",
       "  <tbody>\n",
       "    <tr>\n",
       "      <th>2023-04-17</th>\n",
       "      <td>6.526480e-08</td>\n",
       "      <td>-4.338837e-01</td>\n",
       "      <td>-0.900969</td>\n",
       "      <td>0.967604</td>\n",
       "      <td>-0.252473</td>\n",
       "    </tr>\n",
       "    <tr>\n",
       "      <th>2023-04-18</th>\n",
       "      <td>1.878306e-07</td>\n",
       "      <td>-9.749279e-01</td>\n",
       "      <td>-0.222521</td>\n",
       "      <td>0.963118</td>\n",
       "      <td>-0.269081</td>\n",
       "    </tr>\n",
       "    <tr>\n",
       "      <th>2023-04-19</th>\n",
       "      <td>2.647504e-07</td>\n",
       "      <td>-7.818315e-01</td>\n",
       "      <td>0.623490</td>\n",
       "      <td>0.958346</td>\n",
       "      <td>-0.285608</td>\n",
       "    </tr>\n",
       "    <tr>\n",
       "      <th>2023-04-20</th>\n",
       "      <td>2.945193e-07</td>\n",
       "      <td>-1.624524e-13</td>\n",
       "      <td>1.000000</td>\n",
       "      <td>0.953292</td>\n",
       "      <td>-0.302051</td>\n",
       "    </tr>\n",
       "    <tr>\n",
       "      <th>2023-04-21</th>\n",
       "      <td>1.985193e-07</td>\n",
       "      <td>7.818315e-01</td>\n",
       "      <td>0.623490</td>\n",
       "      <td>0.947955</td>\n",
       "      <td>-0.318405</td>\n",
       "    </tr>\n",
       "  </tbody>\n",
       "</table>\n",
       "</div>"
      ],
      "text/plain": [
       "                   close      Week sin  Week cos  Year sin  Year cos\n",
       "timestamp                                                           \n",
       "2023-04-17  6.526480e-08 -4.338837e-01 -0.900969  0.967604 -0.252473\n",
       "2023-04-18  1.878306e-07 -9.749279e-01 -0.222521  0.963118 -0.269081\n",
       "2023-04-19  2.647504e-07 -7.818315e-01  0.623490  0.958346 -0.285608\n",
       "2023-04-20  2.945193e-07 -1.624524e-13  1.000000  0.953292 -0.302051\n",
       "2023-04-21  1.985193e-07  7.818315e-01  0.623490  0.947955 -0.318405"
      ]
     },
     "execution_count": 105,
     "metadata": {},
     "output_type": "execute_result"
    }
   ],
   "source": [
    "close_df = close_df.drop(columns=['Seconds'])\n",
    "close_df.head()"
   ]
  },
  {
   "cell_type": "code",
   "execution_count": 107,
   "metadata": {},
   "outputs": [
    {
     "data": {
      "text/html": [
       "<div>\n",
       "<style scoped>\n",
       "    .dataframe tbody tr th:only-of-type {\n",
       "        vertical-align: middle;\n",
       "    }\n",
       "\n",
       "    .dataframe tbody tr th {\n",
       "        vertical-align: top;\n",
       "    }\n",
       "\n",
       "    .dataframe thead th {\n",
       "        text-align: right;\n",
       "    }\n",
       "</style>\n",
       "<table border=\"1\" class=\"dataframe\">\n",
       "  <thead>\n",
       "    <tr style=\"text-align: right;\">\n",
       "      <th></th>\n",
       "      <th>high</th>\n",
       "      <th>close</th>\n",
       "      <th>Week sin</th>\n",
       "      <th>Week cos</th>\n",
       "      <th>Year sin</th>\n",
       "      <th>Year cos</th>\n",
       "    </tr>\n",
       "    <tr>\n",
       "      <th>timestamp</th>\n",
       "      <th></th>\n",
       "      <th></th>\n",
       "      <th></th>\n",
       "      <th></th>\n",
       "      <th></th>\n",
       "      <th></th>\n",
       "    </tr>\n",
       "  </thead>\n",
       "  <tbody>\n",
       "    <tr>\n",
       "      <th>2023-04-17</th>\n",
       "      <td>7.951914e-08</td>\n",
       "      <td>6.526480e-08</td>\n",
       "      <td>-4.338837e-01</td>\n",
       "      <td>-0.900969</td>\n",
       "      <td>0.967604</td>\n",
       "      <td>-0.252473</td>\n",
       "    </tr>\n",
       "    <tr>\n",
       "      <th>2023-04-18</th>\n",
       "      <td>2.276132e-07</td>\n",
       "      <td>1.878306e-07</td>\n",
       "      <td>-9.749279e-01</td>\n",
       "      <td>-0.222521</td>\n",
       "      <td>0.963118</td>\n",
       "      <td>-0.269081</td>\n",
       "    </tr>\n",
       "    <tr>\n",
       "      <th>2023-04-19</th>\n",
       "      <td>3.796318e-07</td>\n",
       "      <td>2.647504e-07</td>\n",
       "      <td>-7.818315e-01</td>\n",
       "      <td>0.623490</td>\n",
       "      <td>0.958346</td>\n",
       "      <td>-0.285608</td>\n",
       "    </tr>\n",
       "    <tr>\n",
       "      <th>2023-04-20</th>\n",
       "      <td>4.051020e-07</td>\n",
       "      <td>2.945193e-07</td>\n",
       "      <td>-1.624524e-13</td>\n",
       "      <td>1.000000</td>\n",
       "      <td>0.953292</td>\n",
       "      <td>-0.302051</td>\n",
       "    </tr>\n",
       "    <tr>\n",
       "      <th>2023-04-21</th>\n",
       "      <td>3.114699e-07</td>\n",
       "      <td>1.985193e-07</td>\n",
       "      <td>7.818315e-01</td>\n",
       "      <td>0.623490</td>\n",
       "      <td>0.947955</td>\n",
       "      <td>-0.318405</td>\n",
       "    </tr>\n",
       "  </tbody>\n",
       "</table>\n",
       "</div>"
      ],
      "text/plain": [
       "                    high         close      Week sin  Week cos  Year sin  \\\n",
       "timestamp                                                                  \n",
       "2023-04-17  7.951914e-08  6.526480e-08 -4.338837e-01 -0.900969  0.967604   \n",
       "2023-04-18  2.276132e-07  1.878306e-07 -9.749279e-01 -0.222521  0.963118   \n",
       "2023-04-19  3.796318e-07  2.647504e-07 -7.818315e-01  0.623490  0.958346   \n",
       "2023-04-20  4.051020e-07  2.945193e-07 -1.624524e-13  1.000000  0.953292   \n",
       "2023-04-21  3.114699e-07  1.985193e-07  7.818315e-01  0.623490  0.947955   \n",
       "\n",
       "            Year cos  \n",
       "timestamp             \n",
       "2023-04-17 -0.252473  \n",
       "2023-04-18 -0.269081  \n",
       "2023-04-19 -0.285608  \n",
       "2023-04-20 -0.302051  \n",
       "2023-04-21 -0.318405  "
      ]
     },
     "execution_count": 107,
     "metadata": {},
     "output_type": "execute_result"
    }
   ],
   "source": [
    "v_close_df = pd.concat([token_df2['high'], close_df], axis=1)\n",
    "v_close_df.head()"
   ]
  },
  {
   "cell_type": "code",
   "execution_count": 108,
   "metadata": {},
   "outputs": [
    {
     "data": {
      "text/plain": [
       "((533, 15, 6), (533, 2))"
      ]
     },
     "execution_count": 108,
     "metadata": {},
     "output_type": "execute_result"
    }
   ],
   "source": [
    "X3, y3 = df_to_X_y3(v_close_df)\n",
    "X3.shape, y3.shape"
   ]
  },
  {
   "cell_type": "code",
   "execution_count": 109,
   "metadata": {},
   "outputs": [
    {
     "data": {
      "text/plain": [
       "((500, 15, 6), (500, 2), (15, 15, 6), (15, 2), (18, 15, 6), (18, 2))"
      ]
     },
     "execution_count": 109,
     "metadata": {},
     "output_type": "execute_result"
    }
   ],
   "source": [
    "X3_train, y3_train = X3[:500], y3[:500]\n",
    "X3_val, y3_val = X3[500:515], y3[500:515]\n",
    "X3_test, y3_test = X3[515:], y3[515:]\n",
    "X3_train.shape, y3_train.shape, X3_val.shape, y3_val.shape, X3_test.shape, y3_test.shape"
   ]
  },
  {
   "cell_type": "code",
   "execution_count": 110,
   "metadata": {},
   "outputs": [],
   "source": [
    "p_training_mean3 = np.mean(X3_train[:, :, 0])\n",
    "p_training_std3 = np.std(X3_train[:, :, 0])\n",
    "\n",
    "temp_training_mean3 = np.mean(X3_train[:, :, 1])\n",
    "temp_training_std3 = np.std(X3_train[:, :, 1])"
   ]
  },
  {
   "cell_type": "code",
   "execution_count": 111,
   "metadata": {},
   "outputs": [],
   "source": [
    "preprocess3(X3_train)\n",
    "preprocess3(X3_val)\n",
    "preprocess3(X3_test)"
   ]
  },
  {
   "cell_type": "code",
   "execution_count": 112,
   "metadata": {},
   "outputs": [
    {
     "data": {
      "text/plain": [
       "array([[1.53869817, 1.65084508],\n",
       "       [1.62707292, 1.62751949],\n",
       "       [1.52872389, 1.4372548 ],\n",
       "       [1.51563881, 1.25934697],\n",
       "       [1.26954064, 1.15186854],\n",
       "       [1.09730958, 1.01246223],\n",
       "       [1.11359623, 1.18828383],\n",
       "       [1.11367711, 1.178365  ],\n",
       "       [1.27211735, 1.38446151],\n",
       "       [1.37663162, 1.28246186],\n",
       "       [1.21442397, 1.21392947],\n",
       "       [1.17111831, 1.12191162],\n",
       "       [1.08060044, 1.1634193 ],\n",
       "       [1.18849045, 1.26901481],\n",
       "       [1.2545406 , 1.30826802],\n",
       "       [1.19777075, 1.25764625],\n",
       "       [1.42868969, 1.53768534],\n",
       "       [1.4513865 , 1.422991  ]])"
      ]
     },
     "execution_count": 112,
     "metadata": {},
     "output_type": "execute_result"
    }
   ],
   "source": [
    "preprocess_output3(y3_train)\n",
    "preprocess_output3(y3_val)\n",
    "preprocess_output3(y3_test)"
   ]
  },
  {
   "cell_type": "code",
   "execution_count": 113,
   "metadata": {},
   "outputs": [
    {
     "data": {
      "text/html": [
       "<pre style=\"white-space:pre;overflow-x:auto;line-height:normal;font-family:Menlo,'DejaVu Sans Mono',consolas,'Courier New',monospace\"><span style=\"font-weight: bold\">Model: \"sequential_7\"</span>\n",
       "</pre>\n"
      ],
      "text/plain": [
       "\u001b[1mModel: \"sequential_7\"\u001b[0m\n"
      ]
     },
     "metadata": {},
     "output_type": "display_data"
    },
    {
     "data": {
      "text/html": [
       "<pre style=\"white-space:pre;overflow-x:auto;line-height:normal;font-family:Menlo,'DejaVu Sans Mono',consolas,'Courier New',monospace\">┏━━━━━━━━━━━━━━━━━━━━━━━━━━━━━━━━━┳━━━━━━━━━━━━━━━━━━━━━━━━┳━━━━━━━━━━━━━━━┓\n",
       "┃<span style=\"font-weight: bold\"> Layer (type)                    </span>┃<span style=\"font-weight: bold\"> Output Shape           </span>┃<span style=\"font-weight: bold\">       Param # </span>┃\n",
       "┡━━━━━━━━━━━━━━━━━━━━━━━━━━━━━━━━━╇━━━━━━━━━━━━━━━━━━━━━━━━╇━━━━━━━━━━━━━━━┩\n",
       "│ gru_2 (<span style=\"color: #0087ff; text-decoration-color: #0087ff\">GRU</span>)                     │ (<span style=\"color: #00d7ff; text-decoration-color: #00d7ff\">None</span>, <span style=\"color: #00af00; text-decoration-color: #00af00\">64</span>)             │        <span style=\"color: #00af00; text-decoration-color: #00af00\">13,824</span> │\n",
       "├─────────────────────────────────┼────────────────────────┼───────────────┤\n",
       "│ dense_14 (<span style=\"color: #0087ff; text-decoration-color: #0087ff\">Dense</span>)                │ (<span style=\"color: #00d7ff; text-decoration-color: #00d7ff\">None</span>, <span style=\"color: #00af00; text-decoration-color: #00af00\">8</span>)              │           <span style=\"color: #00af00; text-decoration-color: #00af00\">520</span> │\n",
       "├─────────────────────────────────┼────────────────────────┼───────────────┤\n",
       "│ dense_15 (<span style=\"color: #0087ff; text-decoration-color: #0087ff\">Dense</span>)                │ (<span style=\"color: #00d7ff; text-decoration-color: #00d7ff\">None</span>, <span style=\"color: #00af00; text-decoration-color: #00af00\">2</span>)              │            <span style=\"color: #00af00; text-decoration-color: #00af00\">18</span> │\n",
       "└─────────────────────────────────┴────────────────────────┴───────────────┘\n",
       "</pre>\n"
      ],
      "text/plain": [
       "┏━━━━━━━━━━━━━━━━━━━━━━━━━━━━━━━━━┳━━━━━━━━━━━━━━━━━━━━━━━━┳━━━━━━━━━━━━━━━┓\n",
       "┃\u001b[1m \u001b[0m\u001b[1mLayer (type)                   \u001b[0m\u001b[1m \u001b[0m┃\u001b[1m \u001b[0m\u001b[1mOutput Shape          \u001b[0m\u001b[1m \u001b[0m┃\u001b[1m \u001b[0m\u001b[1m      Param #\u001b[0m\u001b[1m \u001b[0m┃\n",
       "┡━━━━━━━━━━━━━━━━━━━━━━━━━━━━━━━━━╇━━━━━━━━━━━━━━━━━━━━━━━━╇━━━━━━━━━━━━━━━┩\n",
       "│ gru_2 (\u001b[38;5;33mGRU\u001b[0m)                     │ (\u001b[38;5;45mNone\u001b[0m, \u001b[38;5;34m64\u001b[0m)             │        \u001b[38;5;34m13,824\u001b[0m │\n",
       "├─────────────────────────────────┼────────────────────────┼───────────────┤\n",
       "│ dense_14 (\u001b[38;5;33mDense\u001b[0m)                │ (\u001b[38;5;45mNone\u001b[0m, \u001b[38;5;34m8\u001b[0m)              │           \u001b[38;5;34m520\u001b[0m │\n",
       "├─────────────────────────────────┼────────────────────────┼───────────────┤\n",
       "│ dense_15 (\u001b[38;5;33mDense\u001b[0m)                │ (\u001b[38;5;45mNone\u001b[0m, \u001b[38;5;34m2\u001b[0m)              │            \u001b[38;5;34m18\u001b[0m │\n",
       "└─────────────────────────────────┴────────────────────────┴───────────────┘\n"
      ]
     },
     "metadata": {},
     "output_type": "display_data"
    },
    {
     "data": {
      "text/html": [
       "<pre style=\"white-space:pre;overflow-x:auto;line-height:normal;font-family:Menlo,'DejaVu Sans Mono',consolas,'Courier New',monospace\"><span style=\"font-weight: bold\"> Total params: </span><span style=\"color: #00af00; text-decoration-color: #00af00\">14,362</span> (56.10 KB)\n",
       "</pre>\n"
      ],
      "text/plain": [
       "\u001b[1m Total params: \u001b[0m\u001b[38;5;34m14,362\u001b[0m (56.10 KB)\n"
      ]
     },
     "metadata": {},
     "output_type": "display_data"
    },
    {
     "data": {
      "text/html": [
       "<pre style=\"white-space:pre;overflow-x:auto;line-height:normal;font-family:Menlo,'DejaVu Sans Mono',consolas,'Courier New',monospace\"><span style=\"font-weight: bold\"> Trainable params: </span><span style=\"color: #00af00; text-decoration-color: #00af00\">14,362</span> (56.10 KB)\n",
       "</pre>\n"
      ],
      "text/plain": [
       "\u001b[1m Trainable params: \u001b[0m\u001b[38;5;34m14,362\u001b[0m (56.10 KB)\n"
      ]
     },
     "metadata": {},
     "output_type": "display_data"
    },
    {
     "data": {
      "text/html": [
       "<pre style=\"white-space:pre;overflow-x:auto;line-height:normal;font-family:Menlo,'DejaVu Sans Mono',consolas,'Courier New',monospace\"><span style=\"font-weight: bold\"> Non-trainable params: </span><span style=\"color: #00af00; text-decoration-color: #00af00\">0</span> (0.00 B)\n",
       "</pre>\n"
      ],
      "text/plain": [
       "\u001b[1m Non-trainable params: \u001b[0m\u001b[38;5;34m0\u001b[0m (0.00 B)\n"
      ]
     },
     "metadata": {},
     "output_type": "display_data"
    }
   ],
   "source": [
    "model7 = Sequential()\n",
    "model7.add(InputLayer((15, 6)))\n",
    "model7.add(GRU(64))\n",
    "model7.add(Dense(8, 'relu'))\n",
    "model7.add(Dense(2, 'linear'))\n",
    "\n",
    "model7.summary()"
   ]
  },
  {
   "cell_type": "code",
   "execution_count": 114,
   "metadata": {},
   "outputs": [],
   "source": [
    "cp7 = ModelCheckpoint('model7/model.keras', save_best_only=True)\n",
    "model7.compile(loss=MeanSquaredError(), optimizer=Adam(learning_rate=0.0001), metrics=[RootMeanSquaredError()])"
   ]
  },
  {
   "cell_type": "code",
   "execution_count": 117,
   "metadata": {},
   "outputs": [
    {
     "name": "stdout",
     "output_type": "stream",
     "text": [
      "Epoch 1/20\n",
      "\u001b[1m16/16\u001b[0m \u001b[32m━━━━━━━━━━━━━━━━━━━━\u001b[0m\u001b[37m\u001b[0m \u001b[1m0s\u001b[0m 9ms/step - loss: 0.0339 - root_mean_squared_error: 0.1838 - val_loss: 0.0735 - val_root_mean_squared_error: 0.2711\n",
      "Epoch 2/20\n",
      "\u001b[1m16/16\u001b[0m \u001b[32m━━━━━━━━━━━━━━━━━━━━\u001b[0m\u001b[37m\u001b[0m \u001b[1m0s\u001b[0m 6ms/step - loss: 0.0396 - root_mean_squared_error: 0.1984 - val_loss: 0.0731 - val_root_mean_squared_error: 0.2704\n",
      "Epoch 3/20\n",
      "\u001b[1m16/16\u001b[0m \u001b[32m━━━━━━━━━━━━━━━━━━━━\u001b[0m\u001b[37m\u001b[0m \u001b[1m0s\u001b[0m 6ms/step - loss: 0.0331 - root_mean_squared_error: 0.1810 - val_loss: 0.0744 - val_root_mean_squared_error: 0.2727\n",
      "Epoch 4/20\n",
      "\u001b[1m16/16\u001b[0m \u001b[32m━━━━━━━━━━━━━━━━━━━━\u001b[0m\u001b[37m\u001b[0m \u001b[1m0s\u001b[0m 6ms/step - loss: 0.0304 - root_mean_squared_error: 0.1739 - val_loss: 0.0758 - val_root_mean_squared_error: 0.2753\n",
      "Epoch 5/20\n",
      "\u001b[1m16/16\u001b[0m \u001b[32m━━━━━━━━━━━━━━━━━━━━\u001b[0m\u001b[37m\u001b[0m \u001b[1m0s\u001b[0m 5ms/step - loss: 0.0323 - root_mean_squared_error: 0.1795 - val_loss: 0.0748 - val_root_mean_squared_error: 0.2734\n",
      "Epoch 6/20\n",
      "\u001b[1m16/16\u001b[0m \u001b[32m━━━━━━━━━━━━━━━━━━━━\u001b[0m\u001b[37m\u001b[0m \u001b[1m0s\u001b[0m 5ms/step - loss: 0.0383 - root_mean_squared_error: 0.1952 - val_loss: 0.0756 - val_root_mean_squared_error: 0.2749\n",
      "Epoch 7/20\n",
      "\u001b[1m16/16\u001b[0m \u001b[32m━━━━━━━━━━━━━━━━━━━━\u001b[0m\u001b[37m\u001b[0m \u001b[1m0s\u001b[0m 6ms/step - loss: 0.0306 - root_mean_squared_error: 0.1741 - val_loss: 0.0753 - val_root_mean_squared_error: 0.2744\n",
      "Epoch 8/20\n",
      "\u001b[1m16/16\u001b[0m \u001b[32m━━━━━━━━━━━━━━━━━━━━\u001b[0m\u001b[37m\u001b[0m \u001b[1m0s\u001b[0m 6ms/step - loss: 0.0311 - root_mean_squared_error: 0.1761 - val_loss: 0.0744 - val_root_mean_squared_error: 0.2727\n",
      "Epoch 9/20\n",
      "\u001b[1m16/16\u001b[0m \u001b[32m━━━━━━━━━━━━━━━━━━━━\u001b[0m\u001b[37m\u001b[0m \u001b[1m0s\u001b[0m 5ms/step - loss: 0.0294 - root_mean_squared_error: 0.1714 - val_loss: 0.0739 - val_root_mean_squared_error: 0.2718\n",
      "Epoch 10/20\n",
      "\u001b[1m16/16\u001b[0m \u001b[32m━━━━━━━━━━━━━━━━━━━━\u001b[0m\u001b[37m\u001b[0m \u001b[1m0s\u001b[0m 6ms/step - loss: 0.0300 - root_mean_squared_error: 0.1729 - val_loss: 0.0767 - val_root_mean_squared_error: 0.2769\n",
      "Epoch 11/20\n",
      "\u001b[1m16/16\u001b[0m \u001b[32m━━━━━━━━━━━━━━━━━━━━\u001b[0m\u001b[37m\u001b[0m \u001b[1m0s\u001b[0m 5ms/step - loss: 0.0348 - root_mean_squared_error: 0.1862 - val_loss: 0.0746 - val_root_mean_squared_error: 0.2732\n",
      "Epoch 12/20\n",
      "\u001b[1m16/16\u001b[0m \u001b[32m━━━━━━━━━━━━━━━━━━━━\u001b[0m\u001b[37m\u001b[0m \u001b[1m0s\u001b[0m 6ms/step - loss: 0.0324 - root_mean_squared_error: 0.1794 - val_loss: 0.0745 - val_root_mean_squared_error: 0.2729\n",
      "Epoch 13/20\n",
      "\u001b[1m16/16\u001b[0m \u001b[32m━━━━━━━━━━━━━━━━━━━━\u001b[0m\u001b[37m\u001b[0m \u001b[1m0s\u001b[0m 6ms/step - loss: 0.0297 - root_mean_squared_error: 0.1719 - val_loss: 0.0724 - val_root_mean_squared_error: 0.2691\n",
      "Epoch 14/20\n",
      "\u001b[1m16/16\u001b[0m \u001b[32m━━━━━━━━━━━━━━━━━━━━\u001b[0m\u001b[37m\u001b[0m \u001b[1m0s\u001b[0m 6ms/step - loss: 0.0251 - root_mean_squared_error: 0.1581 - val_loss: 0.0725 - val_root_mean_squared_error: 0.2693\n",
      "Epoch 15/20\n",
      "\u001b[1m16/16\u001b[0m \u001b[32m━━━━━━━━━━━━━━━━━━━━\u001b[0m\u001b[37m\u001b[0m \u001b[1m0s\u001b[0m 6ms/step - loss: 0.0306 - root_mean_squared_error: 0.1747 - val_loss: 0.0731 - val_root_mean_squared_error: 0.2704\n",
      "Epoch 16/20\n",
      "\u001b[1m16/16\u001b[0m \u001b[32m━━━━━━━━━━━━━━━━━━━━\u001b[0m\u001b[37m\u001b[0m \u001b[1m0s\u001b[0m 6ms/step - loss: 0.0286 - root_mean_squared_error: 0.1690 - val_loss: 0.0718 - val_root_mean_squared_error: 0.2680\n",
      "Epoch 17/20\n",
      "\u001b[1m16/16\u001b[0m \u001b[32m━━━━━━━━━━━━━━━━━━━━\u001b[0m\u001b[37m\u001b[0m \u001b[1m0s\u001b[0m 6ms/step - loss: 0.0274 - root_mean_squared_error: 0.1651 - val_loss: 0.0718 - val_root_mean_squared_error: 0.2679\n",
      "Epoch 18/20\n",
      "\u001b[1m16/16\u001b[0m \u001b[32m━━━━━━━━━━━━━━━━━━━━\u001b[0m\u001b[37m\u001b[0m \u001b[1m0s\u001b[0m 6ms/step - loss: 0.0255 - root_mean_squared_error: 0.1596 - val_loss: 0.0694 - val_root_mean_squared_error: 0.2635\n",
      "Epoch 19/20\n",
      "\u001b[1m16/16\u001b[0m \u001b[32m━━━━━━━━━━━━━━━━━━━━\u001b[0m\u001b[37m\u001b[0m \u001b[1m0s\u001b[0m 5ms/step - loss: 0.0218 - root_mean_squared_error: 0.1466 - val_loss: 0.0702 - val_root_mean_squared_error: 0.2650\n",
      "Epoch 20/20\n",
      "\u001b[1m16/16\u001b[0m \u001b[32m━━━━━━━━━━━━━━━━━━━━\u001b[0m\u001b[37m\u001b[0m \u001b[1m0s\u001b[0m 5ms/step - loss: 0.0227 - root_mean_squared_error: 0.1504 - val_loss: 0.0691 - val_root_mean_squared_error: 0.2629\n"
     ]
    },
    {
     "data": {
      "text/plain": [
       "<keras.src.callbacks.history.History at 0x21df1510e50>"
      ]
     },
     "execution_count": 117,
     "metadata": {},
     "output_type": "execute_result"
    }
   ],
   "source": [
    "model7.fit(X3_train, y3_train, validation_data=(X3_val, y3_val), epochs=20, callbacks=[cp7])"
   ]
  },
  {
   "cell_type": "code",
   "execution_count": 118,
   "metadata": {},
   "outputs": [
    {
     "name": "stdout",
     "output_type": "stream",
     "text": [
      "\u001b[1m1/1\u001b[0m \u001b[32m━━━━━━━━━━━━━━━━━━━━\u001b[0m\u001b[37m\u001b[0m \u001b[1m0s\u001b[0m 18ms/step\n"
     ]
    },
    {
     "data": {
      "text/html": [
       "<div>\n",
       "<style scoped>\n",
       "    .dataframe tbody tr th:only-of-type {\n",
       "        vertical-align: middle;\n",
       "    }\n",
       "\n",
       "    .dataframe tbody tr th {\n",
       "        vertical-align: top;\n",
       "    }\n",
       "\n",
       "    .dataframe thead th {\n",
       "        text-align: right;\n",
       "    }\n",
       "</style>\n",
       "<table border=\"1\" class=\"dataframe\">\n",
       "  <thead>\n",
       "    <tr style=\"text-align: right;\">\n",
       "      <th></th>\n",
       "      <th>Temperature Predictions</th>\n",
       "      <th>Temperature Actuals</th>\n",
       "      <th>Pressure Predictions</th>\n",
       "      <th>Pressure Actuals</th>\n",
       "    </tr>\n",
       "  </thead>\n",
       "  <tbody>\n",
       "    <tr>\n",
       "      <th>0</th>\n",
       "      <td>0.000009</td>\n",
       "      <td>0.000011</td>\n",
       "      <td>0.000009</td>\n",
       "      <td>0.000012</td>\n",
       "    </tr>\n",
       "    <tr>\n",
       "      <th>1</th>\n",
       "      <td>0.000009</td>\n",
       "      <td>0.000011</td>\n",
       "      <td>0.000010</td>\n",
       "      <td>0.000012</td>\n",
       "    </tr>\n",
       "    <tr>\n",
       "      <th>2</th>\n",
       "      <td>0.000009</td>\n",
       "      <td>0.000010</td>\n",
       "      <td>0.000010</td>\n",
       "      <td>0.000011</td>\n",
       "    </tr>\n",
       "    <tr>\n",
       "      <th>3</th>\n",
       "      <td>0.000010</td>\n",
       "      <td>0.000010</td>\n",
       "      <td>0.000010</td>\n",
       "      <td>0.000011</td>\n",
       "    </tr>\n",
       "    <tr>\n",
       "      <th>4</th>\n",
       "      <td>0.000010</td>\n",
       "      <td>0.000009</td>\n",
       "      <td>0.000011</td>\n",
       "      <td>0.000010</td>\n",
       "    </tr>\n",
       "    <tr>\n",
       "      <th>5</th>\n",
       "      <td>0.000010</td>\n",
       "      <td>0.000009</td>\n",
       "      <td>0.000011</td>\n",
       "      <td>0.000010</td>\n",
       "    </tr>\n",
       "    <tr>\n",
       "      <th>6</th>\n",
       "      <td>0.000010</td>\n",
       "      <td>0.000009</td>\n",
       "      <td>0.000011</td>\n",
       "      <td>0.000010</td>\n",
       "    </tr>\n",
       "    <tr>\n",
       "      <th>7</th>\n",
       "      <td>0.000010</td>\n",
       "      <td>0.000009</td>\n",
       "      <td>0.000011</td>\n",
       "      <td>0.000010</td>\n",
       "    </tr>\n",
       "    <tr>\n",
       "      <th>8</th>\n",
       "      <td>0.000010</td>\n",
       "      <td>0.000010</td>\n",
       "      <td>0.000011</td>\n",
       "      <td>0.000010</td>\n",
       "    </tr>\n",
       "    <tr>\n",
       "      <th>9</th>\n",
       "      <td>0.000010</td>\n",
       "      <td>0.000010</td>\n",
       "      <td>0.000011</td>\n",
       "      <td>0.000011</td>\n",
       "    </tr>\n",
       "    <tr>\n",
       "      <th>10</th>\n",
       "      <td>0.000009</td>\n",
       "      <td>0.000010</td>\n",
       "      <td>0.000010</td>\n",
       "      <td>0.000010</td>\n",
       "    </tr>\n",
       "    <tr>\n",
       "      <th>11</th>\n",
       "      <td>0.000009</td>\n",
       "      <td>0.000009</td>\n",
       "      <td>0.000010</td>\n",
       "      <td>0.000010</td>\n",
       "    </tr>\n",
       "    <tr>\n",
       "      <th>12</th>\n",
       "      <td>0.000009</td>\n",
       "      <td>0.000009</td>\n",
       "      <td>0.000010</td>\n",
       "      <td>0.000009</td>\n",
       "    </tr>\n",
       "    <tr>\n",
       "      <th>13</th>\n",
       "      <td>0.000009</td>\n",
       "      <td>0.000010</td>\n",
       "      <td>0.000010</td>\n",
       "      <td>0.000010</td>\n",
       "    </tr>\n",
       "    <tr>\n",
       "      <th>14</th>\n",
       "      <td>0.000009</td>\n",
       "      <td>0.000010</td>\n",
       "      <td>0.000010</td>\n",
       "      <td>0.000010</td>\n",
       "    </tr>\n",
       "    <tr>\n",
       "      <th>15</th>\n",
       "      <td>0.000009</td>\n",
       "      <td>0.000010</td>\n",
       "      <td>0.000010</td>\n",
       "      <td>0.000010</td>\n",
       "    </tr>\n",
       "    <tr>\n",
       "      <th>16</th>\n",
       "      <td>0.000009</td>\n",
       "      <td>0.000011</td>\n",
       "      <td>0.000010</td>\n",
       "      <td>0.000011</td>\n",
       "    </tr>\n",
       "    <tr>\n",
       "      <th>17</th>\n",
       "      <td>0.000009</td>\n",
       "      <td>0.000010</td>\n",
       "      <td>0.000010</td>\n",
       "      <td>0.000011</td>\n",
       "    </tr>\n",
       "  </tbody>\n",
       "</table>\n",
       "</div>"
      ],
      "text/plain": [
       "    Temperature Predictions  Temperature Actuals  Pressure Predictions  \\\n",
       "0                  0.000009             0.000011              0.000009   \n",
       "1                  0.000009             0.000011              0.000010   \n",
       "2                  0.000009             0.000010              0.000010   \n",
       "3                  0.000010             0.000010              0.000010   \n",
       "4                  0.000010             0.000009              0.000011   \n",
       "5                  0.000010             0.000009              0.000011   \n",
       "6                  0.000010             0.000009              0.000011   \n",
       "7                  0.000010             0.000009              0.000011   \n",
       "8                  0.000010             0.000010              0.000011   \n",
       "9                  0.000010             0.000010              0.000011   \n",
       "10                 0.000009             0.000010              0.000010   \n",
       "11                 0.000009             0.000009              0.000010   \n",
       "12                 0.000009             0.000009              0.000010   \n",
       "13                 0.000009             0.000010              0.000010   \n",
       "14                 0.000009             0.000010              0.000010   \n",
       "15                 0.000009             0.000010              0.000010   \n",
       "16                 0.000009             0.000011              0.000010   \n",
       "17                 0.000009             0.000010              0.000010   \n",
       "\n",
       "    Pressure Actuals  \n",
       "0           0.000012  \n",
       "1           0.000012  \n",
       "2           0.000011  \n",
       "3           0.000011  \n",
       "4           0.000010  \n",
       "5           0.000010  \n",
       "6           0.000010  \n",
       "7           0.000010  \n",
       "8           0.000010  \n",
       "9           0.000011  \n",
       "10          0.000010  \n",
       "11          0.000010  \n",
       "12          0.000009  \n",
       "13          0.000010  \n",
       "14          0.000010  \n",
       "15          0.000010  \n",
       "16          0.000011  \n",
       "17          0.000011  "
      ]
     },
     "execution_count": 118,
     "metadata": {},
     "output_type": "execute_result"
    },
    {
     "data": {
      "image/png": "[encoded data removed]",
      "text/plain": [
       "<Figure size 640x480 with 1 Axes>"
      ]
     },
     "metadata": {},
     "output_type": "display_data"
    }
   ],
   "source": [
    "plot_predictions2(model5, X3_test, y3_test)"
   ]
  }
 ],
 "metadata": {
  "kernelspec": {
   "display_name": "crypto-model",
   "language": "python",
   "name": "python3"
  },
  "language_info": {
   "codemirror_mode": {
    "name": "ipython",
    "version": 3
   },
   "file_extension": ".py",
   "mimetype": "text/x-python",
   "name": "python",
   "nbconvert_exporter": "python",
   "pygments_lexer": "ipython3",
   "version": "3.9.20"
  }
 },
 "nbformat": 4,
 "nbformat_minor": 2
}
