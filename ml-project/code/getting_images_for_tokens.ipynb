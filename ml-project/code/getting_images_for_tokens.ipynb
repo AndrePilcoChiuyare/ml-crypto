{
 "cells": [
  {
   "cell_type": "code",
   "execution_count": 1,
   "metadata": {},
   "outputs": [],
   "source": [
    "from requests import Session\n",
    "from requests.exceptions import ConnectionError, Timeout, TooManyRedirects\n",
    "import pandas as pd\n",
    "import json\n",
    "import time"
   ]
  },
  {
   "cell_type": "code",
   "execution_count": 4,
   "metadata": {},
   "outputs": [],
   "source": [
    "ai = pd.read_csv('../data/processed/ai.csv')\n",
    "meme = pd.read_csv('../data/processed/meme.csv')\n",
    "gaming = pd.read_csv('../data/processed/gaming.csv')\n",
    "rwa = pd.read_csv('../data/processed/rwa.csv')"
   ]
  },
  {
   "cell_type": "code",
   "execution_count": 10,
   "metadata": {},
   "outputs": [],
   "source": [
    "ai = ai[ai['marketcap'] != -1]\n",
    "meme = meme[meme['marketcap'] != -1]\n",
    "gaming = gaming[gaming['marketcap'] != -1]\n",
    "rwa = rwa[rwa['marketcap'] != -1]"
   ]
  },
  {
   "cell_type": "code",
   "execution_count": 49,
   "metadata": {},
   "outputs": [],
   "source": [
    "ai_unique_cryptos = ai.groupby(['name', 'symbol', 'id']).size().reset_index(name='count')\n",
    "ai_unique_cryptos = ai_unique_cryptos[[ 'id','name', 'symbol']]  \n",
    "\n",
    "meme_unique_cryptos = meme.groupby(['name', 'symbol', 'id']).size().reset_index(name='count')\n",
    "meme_unique_cryptos = meme_unique_cryptos[[ 'id','name', 'symbol']]  \n",
    "\n",
    "gaming_unique_cryptos = gaming.groupby(['name', 'symbol', 'id']).size().reset_index(name='count')\n",
    "gaming_unique_cryptos = gaming_unique_cryptos[[ 'id','name', 'symbol']]  \n",
    "\n",
    "\n",
    "rwa_unique_cryptos = rwa.groupby(['name', 'symbol', 'id']).size().reset_index(name='count')\n",
    "rwa_unique_cryptos = rwa_unique_cryptos[[ 'id','name', 'symbol']]  \n"
   ]
  },
  {
   "cell_type": "code",
   "execution_count": null,
   "metadata": {},
   "outputs": [],
   "source": [
    "def obtener_logos(unique_cryptos):\n",
    "    url = 'https://pro-api.coinmarketcap.com/v2/cryptocurrency/info'\n",
    "    headers = {\n",
    "        'Accepts': 'application/json',\n",
    "        'X-CMC_PRO_API_KEY': '04839452-4370-4ff6-8aa9-f478a9edcd5f',\n",
    "    }\n",
    "\n",
    "    session = Session()\n",
    "    session.headers.update(headers)\n",
    "\n",
    "    image_links = []\n",
    "\n",
    "    for symbol in unique_cryptos['symbol']:\n",
    "        parameters = {\n",
    "            'symbol': symbol,\n",
    "            'aux': 'logo'  \n",
    "        }\n",
    "        \n",
    "        try:\n",
    "            response = session.get(url, params=parameters)\n",
    "            response_data = json.loads(response.text)\n",
    "            \n",
    "            if 'data' in response_data and symbol in response_data['data']:\n",
    "                logo_url = response_data['data'][symbol][0].get('logo', None)\n",
    "            else:\n",
    "                logo_url = None\n",
    "            \n",
    "            image_links.append({'symbol': symbol, 'image': logo_url})\n",
    "            \n",
    "            time.sleep(7)\n",
    "            \n",
    "        except (ConnectionError, Timeout, TooManyRedirects) as e:\n",
    "            print(f\"Error con el símbolo {symbol}: {e}\")\n",
    "            image_links.append({'symbol': symbol, 'image': None})\n",
    "\n",
    "    image_df = pd.DataFrame(image_links)\n",
    "\n",
    "    result = unique_cryptos.merge(image_df, on='symbol', how='left')\n",
    "    \n",
    "    return result\n"
   ]
  },
  {
   "cell_type": "code",
   "execution_count": 57,
   "metadata": {},
   "outputs": [],
   "source": [
    "ai_logos = obtener_logos(ai_unique_cryptos)\n",
    "meme_logos = obtener_logos(meme_unique_cryptos)\n",
    "gaming_logos = obtener_logos(gaming_unique_cryptos)\n",
    "rwa_logos = obtener_logos(rwa_unique_cryptos)"
   ]
  },
  {
   "cell_type": "code",
   "execution_count": 67,
   "metadata": {},
   "outputs": [
    {
     "data": {
      "text/html": [
       "<div>\n",
       "<style scoped>\n",
       "    .dataframe tbody tr th:only-of-type {\n",
       "        vertical-align: middle;\n",
       "    }\n",
       "\n",
       "    .dataframe tbody tr th {\n",
       "        vertical-align: top;\n",
       "    }\n",
       "\n",
       "    .dataframe thead th {\n",
       "        text-align: right;\n",
       "    }\n",
       "</style>\n",
       "<table border=\"1\" class=\"dataframe\">\n",
       "  <thead>\n",
       "    <tr style=\"text-align: right;\">\n",
       "      <th></th>\n",
       "      <th>id</th>\n",
       "      <th>name</th>\n",
       "      <th>symbol</th>\n",
       "      <th>image</th>\n",
       "    </tr>\n",
       "  </thead>\n",
       "  <tbody>\n",
       "    <tr>\n",
       "      <th>0</th>\n",
       "      <td>2db6b38a-681a-4514-9d67-691e319597ee</td>\n",
       "      <td>Avalanche</td>\n",
       "      <td>AVAX</td>\n",
       "      <td>https://s2.coinmarketcap.com/static/img/coins/...</td>\n",
       "    </tr>\n",
       "    <tr>\n",
       "      <th>1</th>\n",
       "      <td>a9c04b71-33e4-4fed-8126-cf1612c7e198</td>\n",
       "      <td>Chainlink</td>\n",
       "      <td>LINK</td>\n",
       "      <td>https://s2.coinmarketcap.com/static/img/coins/...</td>\n",
       "    </tr>\n",
       "    <tr>\n",
       "      <th>2</th>\n",
       "      <td>1c1cd416-b027-4d73-9d4d-0a9edc63524d</td>\n",
       "      <td>Chromia</td>\n",
       "      <td>CHR</td>\n",
       "      <td>https://s2.coinmarketcap.com/static/img/coins/...</td>\n",
       "    </tr>\n",
       "    <tr>\n",
       "      <th>3</th>\n",
       "      <td>20a20296-c751-4011-88fa-fc2b8b0a8564</td>\n",
       "      <td>ELYSIA</td>\n",
       "      <td>EL</td>\n",
       "      <td>https://s2.coinmarketcap.com/static/img/coins/...</td>\n",
       "    </tr>\n",
       "    <tr>\n",
       "      <th>4</th>\n",
       "      <td>cb43529e-f4a4-4f18-a348-116ad35c9351</td>\n",
       "      <td>LTO Network</td>\n",
       "      <td>LTO</td>\n",
       "      <td>https://s2.coinmarketcap.com/static/img/coins/...</td>\n",
       "    </tr>\n",
       "  </tbody>\n",
       "</table>\n",
       "</div>"
      ],
      "text/plain": [
       "                                     id         name symbol  \\\n",
       "0  2db6b38a-681a-4514-9d67-691e319597ee    Avalanche   AVAX   \n",
       "1  a9c04b71-33e4-4fed-8126-cf1612c7e198    Chainlink   LINK   \n",
       "2  1c1cd416-b027-4d73-9d4d-0a9edc63524d      Chromia    CHR   \n",
       "3  20a20296-c751-4011-88fa-fc2b8b0a8564       ELYSIA     EL   \n",
       "4  cb43529e-f4a4-4f18-a348-116ad35c9351  LTO Network    LTO   \n",
       "\n",
       "                                               image  \n",
       "0  https://s2.coinmarketcap.com/static/img/coins/...  \n",
       "1  https://s2.coinmarketcap.com/static/img/coins/...  \n",
       "2  https://s2.coinmarketcap.com/static/img/coins/...  \n",
       "3  https://s2.coinmarketcap.com/static/img/coins/...  \n",
       "4  https://s2.coinmarketcap.com/static/img/coins/...  "
      ]
     },
     "execution_count": 67,
     "metadata": {},
     "output_type": "execute_result"
    }
   ],
   "source": [
    "rwa_logos.head()"
   ]
  },
  {
   "cell_type": "code",
   "execution_count": 66,
   "metadata": {},
   "outputs": [
    {
     "data": {
      "text/html": [
       "<div>\n",
       "<style scoped>\n",
       "    .dataframe tbody tr th:only-of-type {\n",
       "        vertical-align: middle;\n",
       "    }\n",
       "\n",
       "    .dataframe tbody tr th {\n",
       "        vertical-align: top;\n",
       "    }\n",
       "\n",
       "    .dataframe thead th {\n",
       "        text-align: right;\n",
       "    }\n",
       "</style>\n",
       "<table border=\"1\" class=\"dataframe\">\n",
       "  <thead>\n",
       "    <tr style=\"text-align: right;\">\n",
       "      <th></th>\n",
       "      <th>id</th>\n",
       "      <th>name</th>\n",
       "      <th>symbol</th>\n",
       "      <th>image</th>\n",
       "    </tr>\n",
       "  </thead>\n",
       "  <tbody>\n",
       "    <tr>\n",
       "      <th>11</th>\n",
       "      <td>72ff9ca6-8231-40bd-ba05-e9758a2cbb4c</td>\n",
       "      <td>Stobox Token</td>\n",
       "      <td>STBU</td>\n",
       "      <td>https://s2.coinmarketcap.com/static/img/coins/...</td>\n",
       "    </tr>\n",
       "    <tr>\n",
       "      <th>12</th>\n",
       "      <td>54d246b7-f554-4386-97da-907a03c1a812</td>\n",
       "      <td>Synthetix</td>\n",
       "      <td>SNX</td>\n",
       "      <td>https://s2.coinmarketcap.com/static/img/coins/...</td>\n",
       "    </tr>\n",
       "    <tr>\n",
       "      <th>13</th>\n",
       "      <td>db7344b5-586a-4e9f-917f-1ce09831decd</td>\n",
       "      <td>TrueFi</td>\n",
       "      <td>TRU</td>\n",
       "      <td>https://s2.coinmarketcap.com/static/img/coins/...</td>\n",
       "    </tr>\n",
       "    <tr>\n",
       "      <th>14</th>\n",
       "      <td>ce222383-2753-44d4-b9ef-2dd67a7ea730</td>\n",
       "      <td>VeChain</td>\n",
       "      <td>VET</td>\n",
       "      <td>https://s2.coinmarketcap.com/static/img/coins/...</td>\n",
       "    </tr>\n",
       "    <tr>\n",
       "      <th>15</th>\n",
       "      <td>39b71592-9e16-4198-8ca5-3b19a3f41dd3</td>\n",
       "      <td>XDC Network</td>\n",
       "      <td>XDC</td>\n",
       "      <td>https://s2.coinmarketcap.com/static/img/coins/...</td>\n",
       "    </tr>\n",
       "  </tbody>\n",
       "</table>\n",
       "</div>"
      ],
      "text/plain": [
       "                                      id          name symbol  \\\n",
       "11  72ff9ca6-8231-40bd-ba05-e9758a2cbb4c  Stobox Token   STBU   \n",
       "12  54d246b7-f554-4386-97da-907a03c1a812     Synthetix    SNX   \n",
       "13  db7344b5-586a-4e9f-917f-1ce09831decd        TrueFi    TRU   \n",
       "14  ce222383-2753-44d4-b9ef-2dd67a7ea730       VeChain    VET   \n",
       "15  39b71592-9e16-4198-8ca5-3b19a3f41dd3   XDC Network    XDC   \n",
       "\n",
       "                                                image  \n",
       "11  https://s2.coinmarketcap.com/static/img/coins/...  \n",
       "12  https://s2.coinmarketcap.com/static/img/coins/...  \n",
       "13  https://s2.coinmarketcap.com/static/img/coins/...  \n",
       "14  https://s2.coinmarketcap.com/static/img/coins/...  \n",
       "15  https://s2.coinmarketcap.com/static/img/coins/...  "
      ]
     },
     "execution_count": 66,
     "metadata": {},
     "output_type": "execute_result"
    }
   ],
   "source": [
    "rwa_logos.tail()"
   ]
  },
  {
   "cell_type": "code",
   "execution_count": 65,
   "metadata": {},
   "outputs": [
    {
     "data": {
      "text/plain": [
       "'https://s2.coinmarketcap.com/static/img/coins/64x64/2634.png'"
      ]
     },
     "execution_count": 65,
     "metadata": {},
     "output_type": "execute_result"
    }
   ],
   "source": [
    "rwa_logos['image'][len(rwa_logos)-1]"
   ]
  },
  {
   "cell_type": "code",
   "execution_count": 68,
   "metadata": {},
   "outputs": [],
   "source": [
    "def actualizar_tamano_imagenes(df):\n",
    "    df['image'] = df['image'].str.replace('64x64', '128x128', regex=False)\n",
    "    return df\n"
   ]
  },
  {
   "cell_type": "code",
   "execution_count": 69,
   "metadata": {},
   "outputs": [],
   "source": [
    "ai_logos = actualizar_tamano_imagenes(ai_logos)"
   ]
  },
  {
   "cell_type": "code",
   "execution_count": 73,
   "metadata": {},
   "outputs": [],
   "source": [
    "meme_logos = actualizar_tamano_imagenes(meme_logos)\n",
    "gaming_logos = actualizar_tamano_imagenes(gaming_logos)\n",
    "rwa_logos = actualizar_tamano_imagenes(rwa_logos)"
   ]
  },
  {
   "cell_type": "code",
   "execution_count": 77,
   "metadata": {},
   "outputs": [
    {
     "data": {
      "text/plain": [
       "'https://s2.coinmarketcap.com/static/img/coins/128x128/2634.png'"
      ]
     },
     "execution_count": 77,
     "metadata": {},
     "output_type": "execute_result"
    }
   ],
   "source": [
    "rwa_logos['image'][len(rwa_logos)-1]"
   ]
  },
  {
   "cell_type": "code",
   "execution_count": 79,
   "metadata": {},
   "outputs": [],
   "source": [
    "ai_logos.to_csv('../data/processed/ai_logos.csv', index=False)\n",
    "meme_logos.to_csv('../data/processed/meme_logos.csv', index=False)\n",
    "gaming_logos.to_csv('../data/processed/gaming_logos.csv', index=False)\n",
    "rwa_logos.to_csv('../data/processed/rwa_logos.csv', index=False)"
   ]
  },
  {
   "cell_type": "code",
   "execution_count": 2,
   "metadata": {},
   "outputs": [
    {
     "data": {
      "text/plain": [
       "((114410, 11), (33454, 11), (126980, 11), (52833, 11))"
      ]
     },
     "execution_count": 2,
     "metadata": {},
     "output_type": "execute_result"
    }
   ],
   "source": [
    "ai = pd.read_csv('../data/processed/ai.csv')\n",
    "meme = pd.read_csv('../data/processed/meme.csv')\n",
    "gaming = pd.read_csv('../data/processed/gaming.csv')\n",
    "rwa = pd.read_csv('../data/processed/rwa.csv')\n",
    "\n",
    "ai.shape, meme.shape, gaming.shape, rwa.shape"
   ]
  },
  {
   "cell_type": "code",
   "execution_count": 3,
   "metadata": {},
   "outputs": [
    {
     "data": {
      "text/plain": [
       "((31, 4), (18, 4), (59, 4), (16, 4))"
      ]
     },
     "execution_count": 3,
     "metadata": {},
     "output_type": "execute_result"
    }
   ],
   "source": [
    "ai_logo = pd.read_csv('../data/processed/ai_logos.csv')\n",
    "meme_logo = pd.read_csv('../data/processed/meme_logos.csv')\n",
    "gaming_logo = pd.read_csv('../data/processed/gaming_logos.csv')\n",
    "rwa_logo = pd.read_csv('../data/processed/rwa_logos.csv')\n",
    "\n",
    "ai_logo.shape, meme_logo.shape, gaming_logo.shape, rwa_logo.shape"
   ]
  },
  {
   "cell_type": "code",
   "execution_count": 6,
   "metadata": {},
   "outputs": [],
   "source": [
    "def agregar_logo(df, df_marketcap):\n",
    "    # Leer el archivo CSV\n",
    "    df_csv = df.copy()\n",
    "\n",
    "    # Crear la nueva columna 'image' inicializada en una imagen por defecto\n",
    "    df_csv['image'] = \"https://cdn-icons-png.flaticon.com/512/272/272525.png\"\n",
    "\n",
    "    # Iterar sobre cada fila del DataFrame de marketcap\n",
    "    for _, row in df_marketcap.iterrows():\n",
    "        # Encontrar coincidencias en el CSV y actualizar el logo\n",
    "        df_csv.loc[df_csv['id'] == row['id'], 'image'] = row['image']\n",
    "    \n",
    "    return df_csv"
   ]
  },
  {
   "cell_type": "code",
   "execution_count": 7,
   "metadata": {},
   "outputs": [
    {
     "data": {
      "text/plain": [
       "((114410, 12), (33454, 12), (126980, 12), (52833, 12))"
      ]
     },
     "execution_count": 7,
     "metadata": {},
     "output_type": "execute_result"
    }
   ],
   "source": [
    "ai = agregar_logo(ai, ai_logo)\n",
    "meme = agregar_logo(meme, meme_logo)\n",
    "gaming = agregar_logo(gaming, gaming_logo)\n",
    "rwa = agregar_logo(rwa, rwa_logo)\n",
    "\n",
    "ai.shape, meme.shape, gaming.shape, rwa.shape"
   ]
  },
  {
   "cell_type": "code",
   "execution_count": 9,
   "metadata": {},
   "outputs": [],
   "source": [
    "ai.to_csv('../data/processed/ai.csv', index=False)\n",
    "meme.to_csv('../data/processed/meme.csv', index=False)\n",
    "gaming.to_csv('../data/processed/gaming.csv', index=False)\n",
    "rwa.to_csv('../data/processed/rwa.csv', index=False)"
   ]
  }
 ],
 "metadata": {
  "kernelspec": {
   "display_name": "crypto-model",
   "language": "python",
   "name": "python3"
  },
  "language_info": {
   "codemirror_mode": {
    "name": "ipython",
    "version": 3
   },
   "file_extension": ".py",
   "mimetype": "text/x-python",
   "name": "python",
   "nbconvert_exporter": "python",
   "pygments_lexer": "ipython3",
   "version": "3.9.20"
  }
 },
 "nbformat": 4,
 "nbformat_minor": 2
}
