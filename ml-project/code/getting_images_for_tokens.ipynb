{
 "cells": [
  {
   "cell_type": "code",
   "execution_count": 1,
   "metadata": {},
   "outputs": [],
   "source": [
    "from requests import Session\n",
    "from requests.exceptions import ConnectionError, Timeout, TooManyRedirects\n",
    "import pandas as pd\n",
    "import json\n",
    "import time"
   ]
  },
  {
   "cell_type": "code",
   "execution_count": 2,
   "metadata": {},
   "outputs": [],
   "source": [
    "ai = pd.read_csv('../data/processed/ai.csv')\n",
    "meme = pd.read_csv('../data/processed/meme.csv')\n",
    "gaming = pd.read_csv('../data/processed/gaming.csv')\n",
    "rwa = pd.read_csv('../data/processed/rwa.csv')"
   ]
  },
  {
   "cell_type": "code",
   "execution_count": null,
   "metadata": {},
   "outputs": [],
   "source": [
    "# ai = ai[ai['marketcap'] != -1]\n",
    "# meme = meme[meme['marketcap'] != -1]\n",
    "# gaming = gaming[gaming['marketcap'] != -1]\n",
    "# rwa = rwa[rwa['marketcap'] != -1]"
   ]
  },
  {
   "cell_type": "code",
   "execution_count": 3,
   "metadata": {},
   "outputs": [],
   "source": [
    "ai_unique_cryptos = ai.groupby(['name', 'symbol', 'id']).size().reset_index(name='count')\n",
    "ai_unique_cryptos = ai_unique_cryptos[[ 'id','name', 'symbol']]  \n",
    "\n",
    "meme_unique_cryptos = meme.groupby(['name', 'symbol', 'id']).size().reset_index(name='count')\n",
    "meme_unique_cryptos = meme_unique_cryptos[[ 'id','name', 'symbol']]  \n",
    "\n",
    "gaming_unique_cryptos = gaming.groupby(['name', 'symbol', 'id']).size().reset_index(name='count')\n",
    "gaming_unique_cryptos = gaming_unique_cryptos[[ 'id','name', 'symbol']]  \n",
    "\n",
    "\n",
    "rwa_unique_cryptos = rwa.groupby(['name', 'symbol', 'id']).size().reset_index(name='count')\n",
    "rwa_unique_cryptos = rwa_unique_cryptos[[ 'id','name', 'symbol']]  \n"
   ]
  },
  {
   "cell_type": "code",
   "execution_count": 4,
   "metadata": {},
   "outputs": [],
   "source": [
    "def obtener_logos(unique_cryptos):\n",
    "    url = 'https://pro-api.coinmarketcap.com/v2/cryptocurrency/info'\n",
    "    headers = {\n",
    "        'Accepts': 'application/json',\n",
    "        'X-CMC_PRO_API_KEY': '04839452-4370-4ff6-8aa9-f478a9edcd5f',\n",
    "    }\n",
    "\n",
    "    session = Session()\n",
    "    session.headers.update(headers)\n",
    "\n",
    "    image_links = []\n",
    "\n",
    "    for symbol in unique_cryptos['symbol']:\n",
    "        parameters = {\n",
    "            'symbol': symbol,\n",
    "            'aux': 'logo'  \n",
    "        }\n",
    "        \n",
    "        try:\n",
    "            response = session.get(url, params=parameters)\n",
    "            response_data = json.loads(response.text)\n",
    "            \n",
    "            if 'data' in response_data and symbol in response_data['data']:\n",
    "                logo_url = response_data['data'][symbol][0].get('logo', None)\n",
    "            else:\n",
    "                logo_url = None\n",
    "            \n",
    "            image_links.append({'symbol': symbol, 'image': logo_url})\n",
    "            \n",
    "            time.sleep(7)\n",
    "            \n",
    "        except (ConnectionError, Timeout, TooManyRedirects) as e:\n",
    "            print(f\"Error con el símbolo {symbol}: {e}\")\n",
    "            image_links.append({'symbol': symbol, 'image': None})\n",
    "\n",
    "    image_df = pd.DataFrame(image_links)\n",
    "\n",
    "    result = unique_cryptos.merge(image_df, on='symbol', how='left')\n",
    "    \n",
    "    return result\n"
   ]
  },
  {
   "cell_type": "code",
   "execution_count": 5,
   "metadata": {},
   "outputs": [],
   "source": [
    "ai_logos = obtener_logos(ai_unique_cryptos)\n",
    "meme_logos = obtener_logos(meme_unique_cryptos)\n",
    "gaming_logos = obtener_logos(gaming_unique_cryptos)\n",
    "rwa_logos = obtener_logos(rwa_unique_cryptos)"
   ]
  },
  {
   "cell_type": "code",
   "execution_count": 6,
   "metadata": {},
   "outputs": [
    {
     "data": {
      "text/html": [
       "<div>\n",
       "<style scoped>\n",
       "    .dataframe tbody tr th:only-of-type {\n",
       "        vertical-align: middle;\n",
       "    }\n",
       "\n",
       "    .dataframe tbody tr th {\n",
       "        vertical-align: top;\n",
       "    }\n",
       "\n",
       "    .dataframe thead th {\n",
       "        text-align: right;\n",
       "    }\n",
       "</style>\n",
       "<table border=\"1\" class=\"dataframe\">\n",
       "  <thead>\n",
       "    <tr style=\"text-align: right;\">\n",
       "      <th></th>\n",
       "      <th>id</th>\n",
       "      <th>name</th>\n",
       "      <th>symbol</th>\n",
       "      <th>image</th>\n",
       "    </tr>\n",
       "  </thead>\n",
       "  <tbody>\n",
       "    <tr>\n",
       "      <th>0</th>\n",
       "      <td>d3540108-d1d6-4bd4-ae37-5a5287ecf9af</td>\n",
       "      <td>Alkimi</td>\n",
       "      <td>ADS</td>\n",
       "      <td>https://s2.coinmarketcap.com/static/img/coins/...</td>\n",
       "    </tr>\n",
       "    <tr>\n",
       "      <th>1</th>\n",
       "      <td>2db6b38a-681a-4514-9d67-691e319597ee</td>\n",
       "      <td>Avalanche</td>\n",
       "      <td>AVAX</td>\n",
       "      <td>https://s2.coinmarketcap.com/static/img/coins/...</td>\n",
       "    </tr>\n",
       "    <tr>\n",
       "      <th>2</th>\n",
       "      <td>3b3bb244-c3df-47c4-b5d4-cc8af1c121b1</td>\n",
       "      <td>Boson Protocol</td>\n",
       "      <td>BOSON</td>\n",
       "      <td>https://s2.coinmarketcap.com/static/img/coins/...</td>\n",
       "    </tr>\n",
       "    <tr>\n",
       "      <th>3</th>\n",
       "      <td>13af58e4-0242-4aa0-8d09-e0aaa262f761</td>\n",
       "      <td>Carnomaly</td>\n",
       "      <td>CARR</td>\n",
       "      <td>https://s2.coinmarketcap.com/static/img/coins/...</td>\n",
       "    </tr>\n",
       "    <tr>\n",
       "      <th>4</th>\n",
       "      <td>40f2f803-cf08-4970-a178-cbe19a916ff7</td>\n",
       "      <td>Centrifuge</td>\n",
       "      <td>CFG</td>\n",
       "      <td>https://s2.coinmarketcap.com/static/img/coins/...</td>\n",
       "    </tr>\n",
       "  </tbody>\n",
       "</table>\n",
       "</div>"
      ],
      "text/plain": [
       "                                     id            name symbol  \\\n",
       "0  d3540108-d1d6-4bd4-ae37-5a5287ecf9af          Alkimi    ADS   \n",
       "1  2db6b38a-681a-4514-9d67-691e319597ee       Avalanche   AVAX   \n",
       "2  3b3bb244-c3df-47c4-b5d4-cc8af1c121b1  Boson Protocol  BOSON   \n",
       "3  13af58e4-0242-4aa0-8d09-e0aaa262f761       Carnomaly   CARR   \n",
       "4  40f2f803-cf08-4970-a178-cbe19a916ff7      Centrifuge    CFG   \n",
       "\n",
       "                                               image  \n",
       "0  https://s2.coinmarketcap.com/static/img/coins/...  \n",
       "1  https://s2.coinmarketcap.com/static/img/coins/...  \n",
       "2  https://s2.coinmarketcap.com/static/img/coins/...  \n",
       "3  https://s2.coinmarketcap.com/static/img/coins/...  \n",
       "4  https://s2.coinmarketcap.com/static/img/coins/...  "
      ]
     },
     "execution_count": 6,
     "metadata": {},
     "output_type": "execute_result"
    }
   ],
   "source": [
    "rwa_logos.head()"
   ]
  },
  {
   "cell_type": "code",
   "execution_count": 7,
   "metadata": {},
   "outputs": [
    {
     "data": {
      "text/html": [
       "<div>\n",
       "<style scoped>\n",
       "    .dataframe tbody tr th:only-of-type {\n",
       "        vertical-align: middle;\n",
       "    }\n",
       "\n",
       "    .dataframe tbody tr th {\n",
       "        vertical-align: top;\n",
       "    }\n",
       "\n",
       "    .dataframe thead th {\n",
       "        text-align: right;\n",
       "    }\n",
       "</style>\n",
       "<table border=\"1\" class=\"dataframe\">\n",
       "  <thead>\n",
       "    <tr style=\"text-align: right;\">\n",
       "      <th></th>\n",
       "      <th>id</th>\n",
       "      <th>name</th>\n",
       "      <th>symbol</th>\n",
       "      <th>image</th>\n",
       "    </tr>\n",
       "  </thead>\n",
       "  <tbody>\n",
       "    <tr>\n",
       "      <th>33</th>\n",
       "      <td>db7344b5-586a-4e9f-917f-1ce09831decd</td>\n",
       "      <td>TrueFi</td>\n",
       "      <td>TRU</td>\n",
       "      <td>https://s2.coinmarketcap.com/static/img/coins/...</td>\n",
       "    </tr>\n",
       "    <tr>\n",
       "      <th>34</th>\n",
       "      <td>39a5cc70-09c6-4e20-899e-131507186776</td>\n",
       "      <td>UBXS Token</td>\n",
       "      <td>UBXS</td>\n",
       "      <td>https://s2.coinmarketcap.com/static/img/coins/...</td>\n",
       "    </tr>\n",
       "    <tr>\n",
       "      <th>35</th>\n",
       "      <td>54038f3f-95f5-46a3-a9ba-c972b7c1d115</td>\n",
       "      <td>Uno Re</td>\n",
       "      <td>UNO</td>\n",
       "      <td>https://s2.coinmarketcap.com/static/img/coins/...</td>\n",
       "    </tr>\n",
       "    <tr>\n",
       "      <th>36</th>\n",
       "      <td>ce222383-2753-44d4-b9ef-2dd67a7ea730</td>\n",
       "      <td>VeChain</td>\n",
       "      <td>VET</td>\n",
       "      <td>https://s2.coinmarketcap.com/static/img/coins/...</td>\n",
       "    </tr>\n",
       "    <tr>\n",
       "      <th>37</th>\n",
       "      <td>39b71592-9e16-4198-8ca5-3b19a3f41dd3</td>\n",
       "      <td>XDC Network</td>\n",
       "      <td>XDC</td>\n",
       "      <td>https://s2.coinmarketcap.com/static/img/coins/...</td>\n",
       "    </tr>\n",
       "  </tbody>\n",
       "</table>\n",
       "</div>"
      ],
      "text/plain": [
       "                                      id         name symbol  \\\n",
       "33  db7344b5-586a-4e9f-917f-1ce09831decd       TrueFi    TRU   \n",
       "34  39a5cc70-09c6-4e20-899e-131507186776   UBXS Token   UBXS   \n",
       "35  54038f3f-95f5-46a3-a9ba-c972b7c1d115       Uno Re    UNO   \n",
       "36  ce222383-2753-44d4-b9ef-2dd67a7ea730      VeChain    VET   \n",
       "37  39b71592-9e16-4198-8ca5-3b19a3f41dd3  XDC Network    XDC   \n",
       "\n",
       "                                                image  \n",
       "33  https://s2.coinmarketcap.com/static/img/coins/...  \n",
       "34  https://s2.coinmarketcap.com/static/img/coins/...  \n",
       "35  https://s2.coinmarketcap.com/static/img/coins/...  \n",
       "36  https://s2.coinmarketcap.com/static/img/coins/...  \n",
       "37  https://s2.coinmarketcap.com/static/img/coins/...  "
      ]
     },
     "execution_count": 7,
     "metadata": {},
     "output_type": "execute_result"
    }
   ],
   "source": [
    "rwa_logos.tail()"
   ]
  },
  {
   "cell_type": "code",
   "execution_count": 8,
   "metadata": {},
   "outputs": [
    {
     "data": {
      "text/plain": [
       "'https://s2.coinmarketcap.com/static/img/coins/64x64/2634.png'"
      ]
     },
     "execution_count": 8,
     "metadata": {},
     "output_type": "execute_result"
    }
   ],
   "source": [
    "rwa_logos['image'][len(rwa_logos)-1]"
   ]
  },
  {
   "cell_type": "code",
   "execution_count": 9,
   "metadata": {},
   "outputs": [],
   "source": [
    "def actualizar_tamano_imagenes(df):\n",
    "    df['image'] = df['image'].str.replace('64x64', '128x128', regex=False)\n",
    "    return df\n"
   ]
  },
  {
   "cell_type": "code",
   "execution_count": 10,
   "metadata": {},
   "outputs": [],
   "source": [
    "ai_logos = actualizar_tamano_imagenes(ai_logos)"
   ]
  },
  {
   "cell_type": "code",
   "execution_count": 11,
   "metadata": {},
   "outputs": [],
   "source": [
    "meme_logos = actualizar_tamano_imagenes(meme_logos)\n",
    "gaming_logos = actualizar_tamano_imagenes(gaming_logos)\n",
    "rwa_logos = actualizar_tamano_imagenes(rwa_logos)"
   ]
  },
  {
   "cell_type": "code",
   "execution_count": 12,
   "metadata": {},
   "outputs": [
    {
     "data": {
      "text/plain": [
       "'https://s2.coinmarketcap.com/static/img/coins/128x128/2634.png'"
      ]
     },
     "execution_count": 12,
     "metadata": {},
     "output_type": "execute_result"
    }
   ],
   "source": [
    "rwa_logos['image'][len(rwa_logos)-1]"
   ]
  },
  {
   "cell_type": "code",
   "execution_count": 13,
   "metadata": {},
   "outputs": [],
   "source": [
    "ai_logos.to_csv('../data/processed/ai_logos.csv', index=False)\n",
    "meme_logos.to_csv('../data/processed/meme_logos.csv', index=False)\n",
    "gaming_logos.to_csv('../data/processed/gaming_logos.csv', index=False)\n",
    "rwa_logos.to_csv('../data/processed/rwa_logos.csv', index=False)"
   ]
  },
  {
   "cell_type": "code",
   "execution_count": 14,
   "metadata": {},
   "outputs": [
    {
     "data": {
      "text/plain": [
       "((115321, 11), (33840, 11), (128218, 11), (53289, 11))"
      ]
     },
     "execution_count": 14,
     "metadata": {},
     "output_type": "execute_result"
    }
   ],
   "source": [
    "ai = pd.read_csv('../data/processed/ai.csv')\n",
    "meme = pd.read_csv('../data/processed/meme.csv')\n",
    "gaming = pd.read_csv('../data/processed/gaming.csv')\n",
    "rwa = pd.read_csv('../data/processed/rwa.csv')\n",
    "\n",
    "ai.shape, meme.shape, gaming.shape, rwa.shape"
   ]
  },
  {
   "cell_type": "code",
   "execution_count": 15,
   "metadata": {},
   "outputs": [
    {
     "data": {
      "text/plain": [
       "((80, 4), (34, 4), (119, 4), (38, 4))"
      ]
     },
     "execution_count": 15,
     "metadata": {},
     "output_type": "execute_result"
    }
   ],
   "source": [
    "ai_logo = pd.read_csv('../data/processed/ai_logos.csv')\n",
    "meme_logo = pd.read_csv('../data/processed/meme_logos.csv')\n",
    "gaming_logo = pd.read_csv('../data/processed/gaming_logos.csv')\n",
    "rwa_logo = pd.read_csv('../data/processed/rwa_logos.csv')\n",
    "\n",
    "ai_logo.shape, meme_logo.shape, gaming_logo.shape, rwa_logo.shape"
   ]
  },
  {
   "cell_type": "code",
   "execution_count": 16,
   "metadata": {},
   "outputs": [],
   "source": [
    "def agregar_logo(df, df_marketcap):\n",
    "    # Leer el archivo CSV\n",
    "    df_csv = df.copy()\n",
    "\n",
    "    # Crear la nueva columna 'image' inicializada en una imagen por defecto\n",
    "    df_csv['image'] = \"https://cdn-icons-png.flaticon.com/512/272/272525.png\"\n",
    "\n",
    "    # Iterar sobre cada fila del DataFrame de marketcap\n",
    "    for _, row in df_marketcap.iterrows():\n",
    "        # Encontrar coincidencias en el CSV y actualizar el logo\n",
    "        df_csv.loc[df_csv['id'] == row['id'], 'image'] = row['image']\n",
    "    \n",
    "    return df_csv"
   ]
  },
  {
   "cell_type": "code",
   "execution_count": 17,
   "metadata": {},
   "outputs": [
    {
     "data": {
      "text/plain": [
       "((115321, 12), (33840, 12), (128218, 12), (53289, 12))"
      ]
     },
     "execution_count": 17,
     "metadata": {},
     "output_type": "execute_result"
    }
   ],
   "source": [
    "ai = agregar_logo(ai, ai_logo)\n",
    "meme = agregar_logo(meme, meme_logo)\n",
    "gaming = agregar_logo(gaming, gaming_logo)\n",
    "rwa = agregar_logo(rwa, rwa_logo)\n",
    "\n",
    "ai.shape, meme.shape, gaming.shape, rwa.shape"
   ]
  },
  {
   "cell_type": "code",
   "execution_count": 18,
   "metadata": {},
   "outputs": [],
   "source": [
    "ai.to_csv('../data/processed/ai.csv', index=False)\n",
    "meme.to_csv('../data/processed/meme.csv', index=False)\n",
    "gaming.to_csv('../data/processed/gaming.csv', index=False)\n",
    "rwa.to_csv('../data/processed/rwa.csv', index=False)"
   ]
  }
 ],
 "metadata": {
  "kernelspec": {
   "display_name": "crypto-model",
   "language": "python",
   "name": "python3"
  },
  "language_info": {
   "codemirror_mode": {
    "name": "ipython",
    "version": 3
   },
   "file_extension": ".py",
   "mimetype": "text/x-python",
   "name": "python",
   "nbconvert_exporter": "python",
   "pygments_lexer": "ipython3",
   "version": "3.9.20"
  }
 },
 "nbformat": 4,
 "nbformat_minor": 2
}
