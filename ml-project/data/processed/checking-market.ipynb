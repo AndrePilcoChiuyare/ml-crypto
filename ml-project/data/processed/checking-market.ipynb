{
 "cells": [
  {
   "cell_type": "code",
   "execution_count": 5,
   "metadata": {},
   "outputs": [],
   "source": [
    "import pandas as pd"
   ]
  },
  {
   "cell_type": "code",
   "execution_count": 6,
   "metadata": {},
   "outputs": [
    {
     "data": {
      "text/plain": [
       "((80, 2), (34, 2), (117, 2), (38, 2))"
      ]
     },
     "execution_count": 6,
     "metadata": {},
     "output_type": "execute_result"
    }
   ],
   "source": [
    "ai = pd.read_csv('ai_market_caps.csv')\n",
    "meme = pd.read_csv('meme_market_caps.csv')\n",
    "gaming = pd.read_csv('gaming_market_caps.csv')\n",
    "rwa = pd.read_csv('rwa_market_caps.csv')\n",
    "\n",
    "ai.shape, meme.shape, gaming.shape, rwa.shape"
   ]
  },
  {
   "cell_type": "code",
   "execution_count": 7,
   "metadata": {},
   "outputs": [
    {
     "data": {
      "text/plain": [
       "(0, 0, 0, 0)"
      ]
     },
     "execution_count": 7,
     "metadata": {},
     "output_type": "execute_result"
    }
   ],
   "source": [
    "ai.duplicated(subset=['id']).sum(), meme.duplicated(subset=['id']).sum(), gaming.duplicated(subset=['id']).sum(), rwa.duplicated(subset=['id']).sum()"
   ]
  },
  {
   "cell_type": "code",
   "execution_count": 12,
   "metadata": {},
   "outputs": [
    {
     "data": {
      "text/plain": [
       "((80, 4), (34, 4), (117, 4), (38, 4))"
      ]
     },
     "execution_count": 12,
     "metadata": {},
     "output_type": "execute_result"
    }
   ],
   "source": [
    "ai_logo = pd.read_csv('ai_logos.csv')\n",
    "meme_logo = pd.read_csv('meme_logos.csv')\n",
    "gaming_logo = pd.read_csv('gaming_logos.csv')\n",
    "rwa_logo = pd.read_csv('rwa_logos.csv')\n",
    "\n",
    "ai_logo.shape, meme_logo.shape, gaming_logo.shape, rwa_logo.shape"
   ]
  },
  {
   "cell_type": "code",
   "execution_count": 13,
   "metadata": {},
   "outputs": [
    {
     "data": {
      "text/plain": [
       "(0, 0, 0, 0)"
      ]
     },
     "execution_count": 13,
     "metadata": {},
     "output_type": "execute_result"
    }
   ],
   "source": [
    "ai_logo.duplicated(subset=['id']).sum(), meme_logo.duplicated(subset=['id']).sum(), gaming_logo.duplicated(subset=['id']).sum(), rwa_logo.duplicated(subset=['id']).sum()"
   ]
  }
 ],
 "metadata": {
  "kernelspec": {
   "display_name": "crypto-model",
   "language": "python",
   "name": "python3"
  },
  "language_info": {
   "codemirror_mode": {
    "name": "ipython",
    "version": 3
   },
   "file_extension": ".py",
   "mimetype": "text/x-python",
   "name": "python",
   "nbconvert_exporter": "python",
   "pygments_lexer": "ipython3",
   "version": "3.9.20"
  }
 },
 "nbformat": 4,
 "nbformat_minor": 2
}
