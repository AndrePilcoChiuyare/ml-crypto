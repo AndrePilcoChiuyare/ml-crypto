{
 "cells": [
  {
   "cell_type": "markdown",
   "metadata": {},
   "source": [
    "# Preprocessing exchange information"
   ]
  },
  {
   "cell_type": "markdown",
   "metadata": {},
   "source": [
    "## Libraries"
   ]
  },
  {
   "cell_type": "code",
   "execution_count": 2,
   "metadata": {},
   "outputs": [],
   "source": [
    "import pandas as pd\n",
    "import json\n",
    "import networkx as nx\n",
    "import matplotlib.pyplot as plt\n",
    "from sklearn.metrics import jaccard_score\n",
    "import numpy as np"
   ]
  },
  {
   "cell_type": "markdown",
   "metadata": {},
   "source": [
    "## Load exchange data from JSON and save it in a CSV"
   ]
  },
  {
   "cell_type": "code",
   "execution_count": 3,
   "metadata": {},
   "outputs": [
    {
     "name": "stdout",
     "output_type": "stream",
     "text": [
      "  crypto_id  exchange_id exchange_name exchange_slug\n",
      "0      6535          270       Binance       binance\n",
      "1      6535         7680          DOEX          doex\n",
      "2      6535           21          BTCC          btcc\n",
      "3      6535          521         Bybit         bybit\n",
      "4      6535          407     DigiFinex     digifinex\n"
     ]
    }
   ],
   "source": [
    "with open('../../data/json/coin_exchanges_new.json', 'r') as file:\n",
    "    json_data = json.load(file)\n",
    "\n",
    "# Lists for the csv columns\n",
    "crypto_ids = []\n",
    "exchange_ids = []\n",
    "exchange_names = []\n",
    "exchange_slugs = []\n",
    "\n",
    "# Process every crypto based on its id from the JSON\n",
    "for crypto_id, crypto_info in json_data.items():\n",
    "    # Verify if the data is present (in case of errors like request limit or something similar)\n",
    "    if \"data\" in crypto_info:\n",
    "        for exchange in crypto_info[\"data\"]:\n",
    "            # Verify that all the fields are present\n",
    "            if all(k in exchange for k in (\"id\", \"name\", \"slug\")):\n",
    "                crypto_ids.append(crypto_id)\n",
    "                exchange_ids.append(exchange[\"id\"])\n",
    "                exchange_names.append(exchange[\"name\"])\n",
    "                exchange_slugs.append(exchange[\"slug\"])\n",
    "            else:\n",
    "                print(f\"Missing fields in the exchange: {exchange}\")\n",
    "\n",
    "# Creating the dataframe\n",
    "df = pd.DataFrame({\n",
    "    \"crypto_id\": crypto_ids,\n",
    "    \"exchange_id\": exchange_ids,\n",
    "    \"exchange_name\": exchange_names,\n",
    "    \"exchange_slug\": exchange_slugs\n",
    "})\n",
    "\n",
    "# Swow the first rows to verify\n",
    "print(df.head())\n",
    "\n",
    "# Save the dataframe in a csv file\n",
    "df.to_csv(\"../../data/csv/cryptocurrencies_exchanges.csv\", index=False)"
   ]
  },
  {
   "cell_type": "markdown",
   "metadata": {},
   "source": [
    "## Convert the redundant data into a list of exchanges"
   ]
  },
  {
   "cell_type": "code",
   "execution_count": 6,
   "metadata": {},
   "outputs": [
    {
     "name": "stdout",
     "output_type": "stream",
     "text": [
      "(951, 4)\n"
     ]
    },
    {
     "data": {
      "text/html": [
       "<div>\n",
       "<style scoped>\n",
       "    .dataframe tbody tr th:only-of-type {\n",
       "        vertical-align: middle;\n",
       "    }\n",
       "\n",
       "    .dataframe tbody tr th {\n",
       "        vertical-align: top;\n",
       "    }\n",
       "\n",
       "    .dataframe thead th {\n",
       "        text-align: right;\n",
       "    }\n",
       "</style>\n",
       "<table border=\"1\" class=\"dataframe\">\n",
       "  <thead>\n",
       "    <tr style=\"text-align: right;\">\n",
       "      <th></th>\n",
       "      <th>crypto_id</th>\n",
       "      <th>exchange_id</th>\n",
       "      <th>exchange_name</th>\n",
       "      <th>exchange_slug</th>\n",
       "    </tr>\n",
       "  </thead>\n",
       "  <tbody>\n",
       "    <tr>\n",
       "      <th>0</th>\n",
       "      <td>1</td>\n",
       "      <td>[270, 7680, 21, 9200, 521, 10361, 407, 9867, 1...</td>\n",
       "      <td>[Binance, DOEX, BTCC, Zedcex Exchange, Bybit, ...</td>\n",
       "      <td>[binance, doex, btcc, zedcex-exchange, bybit, ...</td>\n",
       "    </tr>\n",
       "    <tr>\n",
       "      <th>1</th>\n",
       "      <td>10040</td>\n",
       "      <td>[302, 380, 6706, 1344, 1281, 1302]</td>\n",
       "      <td>[Gate.io, LATOKEN, PancakeSwap v3 (BSC), Panca...</td>\n",
       "      <td>[gate-io, latoken, pancakeswap-v3, pancakeswap...</td>\n",
       "    </tr>\n",
       "    <tr>\n",
       "      <th>2</th>\n",
       "      <td>10046</td>\n",
       "      <td>[102, 302, 544, 350, 1069]</td>\n",
       "      <td>[HTX, Gate.io, MEXC, CoinEx, Uniswap v2]</td>\n",
       "      <td>[htx, gate-io, mexc, coinex, uniswap-v2]</td>\n",
       "    </tr>\n",
       "    <tr>\n",
       "      <th>3</th>\n",
       "      <td>10047</td>\n",
       "      <td>[433, 102, 302, 311, 350, 6706, 1069, 1344, 6444]</td>\n",
       "      <td>[Bitrue, HTX, Gate.io, KuCoin, CoinEx, Pancake...</td>\n",
       "      <td>[bitrue, htx, gate-io, kucoin, coinex, pancake...</td>\n",
       "    </tr>\n",
       "    <tr>\n",
       "      <th>4</th>\n",
       "      <td>10180</td>\n",
       "      <td>[333, 513, 406, 1064, 102, 525, 302, 544, 955,...</td>\n",
       "      <td>[LBank, Bitget, BitMart, BingX, HTX, XT.COM, G...</td>\n",
       "      <td>[lbank, bitget, bitmart, bingx, htx, xt, gate-...</td>\n",
       "    </tr>\n",
       "  </tbody>\n",
       "</table>\n",
       "</div>"
      ],
      "text/plain": [
       "  crypto_id                                        exchange_id  \\\n",
       "0         1  [270, 7680, 21, 9200, 521, 10361, 407, 9867, 1...   \n",
       "1     10040                 [302, 380, 6706, 1344, 1281, 1302]   \n",
       "2     10046                         [102, 302, 544, 350, 1069]   \n",
       "3     10047  [433, 102, 302, 311, 350, 6706, 1069, 1344, 6444]   \n",
       "4     10180  [333, 513, 406, 1064, 102, 525, 302, 544, 955,...   \n",
       "\n",
       "                                       exchange_name  \\\n",
       "0  [Binance, DOEX, BTCC, Zedcex Exchange, Bybit, ...   \n",
       "1  [Gate.io, LATOKEN, PancakeSwap v3 (BSC), Panca...   \n",
       "2           [HTX, Gate.io, MEXC, CoinEx, Uniswap v2]   \n",
       "3  [Bitrue, HTX, Gate.io, KuCoin, CoinEx, Pancake...   \n",
       "4  [LBank, Bitget, BitMart, BingX, HTX, XT.COM, G...   \n",
       "\n",
       "                                       exchange_slug  \n",
       "0  [binance, doex, btcc, zedcex-exchange, bybit, ...  \n",
       "1  [gate-io, latoken, pancakeswap-v3, pancakeswap...  \n",
       "2           [htx, gate-io, mexc, coinex, uniswap-v2]  \n",
       "3  [bitrue, htx, gate-io, kucoin, coinex, pancake...  \n",
       "4  [lbank, bitget, bitmart, bingx, htx, xt, gate-...  "
      ]
     },
     "execution_count": 6,
     "metadata": {},
     "output_type": "execute_result"
    }
   ],
   "source": [
    "list_df = df.groupby('crypto_id').agg({\n",
    "    'exchange_id': lambda x: x.tolist(),\n",
    "    'exchange_name': lambda x: x.tolist(),\n",
    "    'exchange_slug': lambda x: x.tolist()\n",
    "}).reset_index()\n",
    "\n",
    "print(list_df.shape)\n",
    "list_df.head()"
   ]
  },
  {
   "cell_type": "markdown",
   "metadata": {},
   "source": [
    "The missing 49 coins are due to not having exchange information, but it will be regularized in **'preprocessing-coin.ipynb'**"
   ]
  },
  {
   "cell_type": "markdown",
   "metadata": {},
   "source": [
    "## Saving the exchanges list dataframe in a CSV"
   ]
  },
  {
   "cell_type": "code",
   "execution_count": 7,
   "metadata": {},
   "outputs": [],
   "source": [
    "list_df.to_csv('../../data/csv/exchanges_list.csv', index=False)"
   ]
  }
 ],
 "metadata": {
  "kernelspec": {
   "display_name": "crypto-project",
   "language": "python",
   "name": "python3"
  },
  "language_info": {
   "codemirror_mode": {
    "name": "ipython",
    "version": 3
   },
   "file_extension": ".py",
   "mimetype": "text/x-python",
   "name": "python",
   "nbconvert_exporter": "python",
   "pygments_lexer": "ipython3",
   "version": "3.12.5"
  }
 },
 "nbformat": 4,
 "nbformat_minor": 2
}
