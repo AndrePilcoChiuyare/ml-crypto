{
 "cells": [
  {
   "cell_type": "markdown",
   "metadata": {},
   "source": [
    "# Get top coins"
   ]
  },
  {
   "cell_type": "code",
   "execution_count": null,
   "metadata": {},
   "outputs": [],
   "source": [
    "import requests\n",
    "import json\n",
    "import csv\n",
    "import os"
   ]
  },
  {
   "cell_type": "code",
   "execution_count": null,
   "metadata": {},
   "outputs": [],
   "source": [
    "# Set your API key\n",
    "api_key = os.getenv('COINMARKETCAP_MARCO_KEY')\n",
    "\n",
    "# Define the endpoint and parameters\n",
    "url = 'https://pro-api.coinmarketcap.com/v1/cryptocurrency/listings/latest'\n",
    "parameters = {\n",
    "    'start': '1',     # Starting point of the listing (1 = first cryptocurrency)\n",
    "    'limit': '50',    # Number of cryptocurrencies to retrieve\n",
    "    'convert': 'USD'  # Convert price to USD\n",
    "}\n",
    "\n",
    "# Define headers including the API key\n",
    "headers = {\n",
    "    'Accepts': 'application/json',\n",
    "    'X-CMC_PRO_API_KEY': api_key,\n",
    "}\n",
    "\n",
    "# Make the request\n",
    "response = requests.get(url, headers=headers, params=parameters)\n",
    "\n",
    "# Check if the request was successful\n",
    "if response.status_code == 200:\n",
    "    data = response.json()\n",
    "    \n",
    "    # Extract relevant fields\n",
    "    coins_data = []\n",
    "    for coin in data['data']:\n",
    "        coin_info = {\n",
    "            'id': coin.get('id'),\n",
    "            'name': coin.get('name'),\n",
    "            'symbol': coin.get('symbol'),\n",
    "            'slug': coin.get('slug'),\n",
    "            'num_market_pairs': coin.get('num_market_pairs'),\n",
    "            'date_added': coin.get('date_added'),\n",
    "            'tags': ','.join(coin.get('tags', [])),\n",
    "            'max_supply': coin.get('max_supply'),\n",
    "            'circulating_supply': coin.get('circulating_supply'),\n",
    "            'total_supply': coin.get('total_supply'),\n",
    "            'platform': coin.get('platform', {}).get('name') if coin.get('platform') else None,\n",
    "            'cmc_rank': coin.get('cmc_rank'),\n",
    "            'last_updated': coin.get('last_updated'),\n",
    "            'price': coin['quote']['USD']['price'],\n",
    "            'volume_24h': coin['quote']['USD']['volume_24h'],\n",
    "            'percent_change_1h': coin['quote']['USD']['percent_change_1h'],\n",
    "            'percent_change_24h': coin['quote']['USD']['percent_change_24h'],\n",
    "            'percent_change_7d': coin['quote']['USD']['percent_change_7d'],\n",
    "            'market_cap': coin['quote']['USD']['market_cap']\n",
    "        }\n",
    "        coins_data.append(coin_info)\n",
    "    \n",
    "    # Save the data to a CSV file\n",
    "    csv_columns = ['id', 'name', 'symbol', 'slug', 'num_market_pairs', 'date_added', 'tags', 'max_supply',\n",
    "                   'circulating_supply', 'total_supply', 'platform', 'cmc_rank', 'last_updated', 'price',\n",
    "                   'volume_24h', 'percent_change_1h', 'percent_change_24h', 'percent_change_7d', 'market_cap']\n",
    "    \n",
    "    with open('../../data/csv/coins_top.csv', 'w', newline='') as csv_file:\n",
    "        writer = csv.DictWriter(csv_file, fieldnames=csv_columns)\n",
    "        writer.writeheader()\n",
    "        for coin in coins_data:\n",
    "            writer.writerow(coin)\n",
    "    \n",
    "else:\n",
    "    print(f\"Error: {response.status_code} - {response.text}\")"
   ]
  }
 ],
 "metadata": {
  "kernelspec": {
   "display_name": "crypto-project",
   "language": "python",
   "name": "python3"
  },
  "language_info": {
   "name": "python",
   "version": "3.12.5"
  }
 },
 "nbformat": 4,
 "nbformat_minor": 2
}
